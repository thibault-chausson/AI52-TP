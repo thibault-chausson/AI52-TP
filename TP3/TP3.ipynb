{
 "cells": [
  {
   "cell_type": "markdown",
   "source": [
    "# TP 3 TSP\n",
    "\n",
    "Questions\n",
    "Après familiarisation avec le code proposé, répondre aux questions suivantes :\n",
    "1. Visualisation : Le programme proposé génère des instances du problème sous la forme d’une\n",
    "matrice des distances. Afin d’améliorer la visualisation des solutions proposés, procédez de la\n",
    "manière suivante :\n",
    "    - Chaque ville à visiter a des coordonnées cartésiennes (X,Y) générées aléatoirement\n",
    "    - La matrice des distances entre les villes est calculée en utilisant la distance\n",
    "euclidienne\n",
    "    - Afficher les points et la tournée proposée (droite liant chaque paire de points\n",
    "successifs)\n",
    "2. Faites varier les paramètres du programme de telle sorte à traiter des problèmes de tailles\n",
    "différentes (4 à 20 villes). Faites aussi varier les paramètres du recuit simulé, et représenter\n",
    "graphiquement l’évolution du coût de la solution en fonction du nombre d’itérations.\n",
    "3. Programmer l’algorithme génétique permettant de résoudre le TSP (Vous pouvez vous\n",
    "inspirer du TP précédent et des éléments présentés dans TSPexemple.py).\n",
    "    - Choisir les paramètres du croisement et de la mutation en fonction des résultats\n",
    "observés\n",
    "4. Programmer l’algorithme de colonies de fourmis adapté au TSP :\n",
    "    - Choisir les paramètres de l’algorithme en fonction des résultats observés\n",
    "5. Comparer les trois approches du point de vue de la qualité des solutions proposées et du\n",
    "temps de calcul. Pour ce faire, générer des instances représentatives (minimum 4) du\n",
    "problème TSP."
   ],
   "metadata": {
    "collapsed": false
   },
   "id": "2a88bb834b980336"
  },
  {
   "cell_type": "code",
   "execution_count": null,
   "id": "initial_id",
   "metadata": {
    "ExecuteTime": {
     "end_time": "2023-11-08T09:59:03.318642Z",
     "start_time": "2023-11-08T09:59:03.311439Z"
    },
    "collapsed": true
   },
   "outputs": [],
   "source": []
  }
 ],
 "metadata": {
  "kernelspec": {
   "display_name": "Python 3 (ipykernel)",
   "language": "python",
   "name": "python3"
  },
  "language_info": {
   "codemirror_mode": {
    "name": "ipython",
    "version": 3
   },
   "file_extension": ".py",
   "mimetype": "text/x-python",
   "name": "python",
   "nbconvert_exporter": "python",
   "pygments_lexer": "ipython3",
   "version": "3.8.18"
  }
 },
 "nbformat": 4,
 "nbformat_minor": 5
}
