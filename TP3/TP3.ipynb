{
 "cells": [
  {
   "cell_type": "markdown",
   "source": [
    "# TP 3 TSP\n",
    "\n",
    "Questions\n",
    "Après familiarisation avec le code proposé, répondre aux questions suivantes :\n",
    "1. Visualisation : Le programme proposé génère des instances du problème sous la forme d’une\n",
    "matrice des distances. Afin d’améliorer la visualisation des solutions proposés, procédez de la\n",
    "manière suivante :\n",
    "    - Chaque ville à visiter a des coordonnées cartésiennes (X,Y) générées aléatoirement\n",
    "    - La matrice des distances entre les villes est calculée en utilisant la distance\n",
    "euclidienne\n",
    "    - Afficher les points et la tournée proposée (droite liant chaque paire de points\n",
    "successifs)\n",
    "2. Faites varier les paramètres du programme de telle sorte à traiter des problèmes de tailles\n",
    "différentes (4 à 20 villes). Faites aussi varier les paramètres du recuit simulé, et représenter\n",
    "graphiquement l’évolution du coût de la solution en fonction du nombre d’itérations.\n",
    "3. Programmer l’algorithme génétique permettant de résoudre le TSP (Vous pouvez vous\n",
    "inspirer du TP précédent et des éléments présentés dans TSPexemple.py).\n",
    "    - Choisir les paramètres du croisement et de la mutation en fonction des résultats\n",
    "observés\n",
    "4. Programmer l’algorithme de colonies de fourmis adapté au TSP :\n",
    "    - Choisir les paramètres de l’algorithme en fonction des résultats observés\n",
    "5. Comparer les trois approches du point de vue de la qualité des solutions proposées et du\n",
    "temps de calcul. Pour ce faire, générer des instances représentatives (minimum 4) du\n",
    "problème TSP."
   ],
   "metadata": {
    "collapsed": false
   },
   "id": "2a88bb834b980336"
  },
  {
   "cell_type": "markdown",
   "source": [
    "Chaque ville à visiter a des coordonnées cartésiennes (X,Y) générées aléatoirement"
   ],
   "metadata": {
    "collapsed": false
   },
   "id": "b204d4136fba719e"
  },
  {
   "cell_type": "code",
   "execution_count": 13,
   "outputs": [],
   "source": [
    "import random\n",
    "import numpy as np\n",
    "import TSPexemple1 as tsp\n",
    "import matplotlib.pyplot as plt"
   ],
   "metadata": {
    "collapsed": false,
    "ExecuteTime": {
     "end_time": "2023-11-08T10:33:38.585272Z",
     "start_time": "2023-11-08T10:33:38.214610Z"
    }
   },
   "id": "ca068f26824fcc74"
  },
  {
   "cell_type": "code",
   "execution_count": 4,
   "outputs": [
    {
     "name": "stdout",
     "output_type": "stream",
     "text": [
      "[(0.6901461812259873, 0.9559178611920954), (0.21637481812933157, 0.43834081492212684), (0.9774025350278002, 0.5099528472659621), (0.5111480962893334, 0.4924516245070619), (0.6378235340586361, 0.9608465651459728), (0.5801557787196426, 0.46434323601808236), (0.026167681062908343, 0.3891456431879644), (0.7932317211226969, 0.7505617774131765), (0.8309325556275192, 0.33217826247782123), (0.04430088649801811, 0.9238184842890034)]\n"
     ]
    }
   ],
   "source": [
    "def generate_random_cities(nb_cities):\n",
    "    cities = []\n",
    "    for i in range(nb_cities):\n",
    "        cities.append((random.random(), random.random()))\n",
    "    return cities\n",
    "\n",
    "print(generate_random_cities(10))"
   ],
   "metadata": {
    "collapsed": false,
    "ExecuteTime": {
     "end_time": "2023-11-08T10:19:33.701907Z",
     "start_time": "2023-11-08T10:19:33.693458Z"
    }
   },
   "id": "2fb21c898d416d28"
  },
  {
   "cell_type": "markdown",
   "source": [
    "La matrice des distances entre les villes est calculée en utilisant la distance euclidienne"
   ],
   "metadata": {
    "collapsed": false
   },
   "id": "c2a852eb8d7dcedd"
  },
  {
   "cell_type": "code",
   "execution_count": 7,
   "outputs": [
    {
     "name": "stdout",
     "output_type": "stream",
     "text": [
      "[[0.         0.80049075 0.96754574 0.26490691 0.77313565 0.56689826\n",
      "  0.30342461 0.90379195 0.57929054 0.78950566]\n",
      " [0.80049075 0.         0.2200433  0.58088658 0.39168983 0.57757443\n",
      "  0.50592472 0.55310534 0.68493686 0.5848076 ]\n",
      " [0.96754574 0.2200433  0.         0.72210573 0.35063858 0.79761343\n",
      "  0.66430235 0.45568027 0.71731782 0.53870079]\n",
      " [0.26490691 0.58088658 0.72210573 0.         0.50824349 0.55763285\n",
      "  0.093543   0.64346906 0.36908758 0.53781147]\n",
      " [0.77313565 0.39168983 0.35063858 0.50824349 0.         0.83134199\n",
      "  0.49299724 0.18002641 0.37822932 0.19645786]\n",
      " [0.56689826 0.57757443 0.79761343 0.55763285 0.83134199 0.\n",
      "  0.47622167 1.01035701 0.89711927 0.96647418]\n",
      " [0.30342461 0.50592472 0.66430235 0.093543   0.49299724 0.47622167\n",
      "  0.         0.64585554 0.42762882 0.55665883]\n",
      " [0.90379195 0.55310534 0.45568027 0.64346906 0.18002641 1.01035701\n",
      "  0.64585554 0.         0.4073193  0.14358644]\n",
      " [0.57929054 0.68493686 0.71731782 0.36908758 0.37822932 0.89711927\n",
      "  0.42762882 0.4073193  0.         0.26491586]\n",
      " [0.78950566 0.5848076  0.53870079 0.53781147 0.19645786 0.96647418\n",
      "  0.55665883 0.14358644 0.26491586 0.        ]]\n"
     ]
    }
   ],
   "source": [
    "def distance_entre_2_ville(coordonnees):\n",
    "    ville_1 = coordonnees[0]\n",
    "    ville_2 = coordonnees[1]\n",
    "    distance = ((ville_1[0] - ville_2[0])**2 + (ville_1[1] - ville_2[1])**2)**0.5\n",
    "    return distance\n",
    "\n",
    "def matrice_distance_ville(coordonnees):\n",
    "    distances = np.zeros((len(coordonnees), len(coordonnees)))\n",
    "    for i in range(len(coordonnees)):\n",
    "        for j in range(len(coordonnees)):\n",
    "            if i != j:\n",
    "                # print(\"Distance entre la ville\", i, \"et la ville\", j, \":\", distance_entre_2_ville((coordonnees[i], coordonnees[j])))\n",
    "                distances[i][j] = distance_entre_2_ville((coordonnees[i], coordonnees[j]))\n",
    "    return distances\n",
    "\n",
    "print(matrice_distance_ville(generate_random_cities(10)))"
   ],
   "metadata": {
    "collapsed": false,
    "ExecuteTime": {
     "end_time": "2023-11-08T10:24:07.629471Z",
     "start_time": "2023-11-08T10:24:07.623402Z"
    }
   },
   "id": "362b0d3eefdce1bb"
  },
  {
   "cell_type": "markdown",
   "source": [
    "On va utiliser l'algorithme de recuit simulé pour résoudre le problème du TSP et plus particulièrement celui proposé en exemple : "
   ],
   "metadata": {
    "collapsed": false
   },
   "id": "e9c938c99fb60d68"
  },
  {
   "cell_type": "code",
   "execution_count": 10,
   "outputs": [],
   "source": [
    "# recuit_simule(nombre_de_ville, distances, T, facteur, tour)\n",
    "\n",
    "NOMBRE_DE_VILLES = 10\n",
    "TEMPERATURE = 1000\n",
    "FACTEUR = 0.99\n",
    "TOUR = 1000\n",
    "\n",
    "coor_ville = generate_random_cities(NOMBRE_DE_VILLES)\n",
    "distances_ville = matrice_distance_ville(coor_ville)\n",
    "\n",
    "ordre_ville, distance_totale = tsp.recuit_simule(NOMBRE_DE_VILLES, distances_ville, TEMPERATURE, FACTEUR, TOUR)"
   ],
   "metadata": {
    "collapsed": false,
    "ExecuteTime": {
     "end_time": "2023-11-08T10:32:54.483656Z",
     "start_time": "2023-11-08T10:32:54.225013Z"
    }
   },
   "id": "f7e3ec1d6fabcc71"
  },
  {
   "cell_type": "raw",
   "source": [
    "Afficher les points et la tournée proposée (droite liant chaque paire de points successifs)"
   ],
   "metadata": {
    "collapsed": false
   },
   "id": "d5ddb27f46825b95"
  },
  {
   "cell_type": "code",
   "execution_count": 17,
   "outputs": [
    {
     "name": "stdout",
     "output_type": "stream",
     "text": [
      "[0, 9, 6, 4, 2, 5, 7, 1, 8, 3] 3.0345097562471297\n"
     ]
    },
    {
     "data": {
      "text/plain": "<Figure size 640x480 with 1 Axes>",
      "image/png": "[encoded data removed]"
     },
     "metadata": {},
     "output_type": "display_data"
    }
   ],
   "source": [
    "print(ordre_ville, distance_totale)\n",
    "\n",
    "def afficaghe(coor_ville_p, ordre_ville_p):\n",
    "    # Extraction des coordonnées dans l'ordre de visite\n",
    "    x = [coor_ville_p[i][0] for i in ordre_ville_p]\n",
    "    y = [coor_ville_p[i][1] for i in ordre_ville_p]\n",
    "    \n",
    "    # Ajout du point de départ à la fin pour fermer la boucle\n",
    "    x.append(x[0])\n",
    "    y.append(y[0])\n",
    "    \n",
    "    # Affichage des points\n",
    "    plt.scatter(x, y)\n",
    "    \n",
    "    # Affichage de la tournée\n",
    "    plt.plot(x, y, 'r')\n",
    "    \n",
    "    # Ajout d'étiquettes pour chaque point\n",
    "    for i in range(len(ordre_ville_p)):\n",
    "        plt.annotate(ordre_ville_p[i], (x[i], y[i]))\n",
    "    \n",
    "    # Affichage du graphique\n",
    "    plt.title(\"Tournée du TSP\")\n",
    "    plt.xlabel(\"X\")\n",
    "    plt.ylabel(\"Y\")\n",
    "    plt.grid(True)\n",
    "    plt.show()\n",
    "\n",
    "afficaghe(coor_ville, ordre_ville)"
   ],
   "metadata": {
    "collapsed": false,
    "ExecuteTime": {
     "end_time": "2023-11-08T10:41:43.648782Z",
     "start_time": "2023-11-08T10:41:43.548427Z"
    }
   },
   "id": "a798ab83109858cf"
  },
  {
   "cell_type": "markdown",
   "source": [
    "Faites varier les paramètres du programme de telle sorte à traiter des problèmes de tailles différentes (4 à 20 villes). Faites aussi varier les paramètres du recuit simulé, et représenter graphiquement l’évolution du coût de la solution en fonction du nombre d’itérations."
   ],
   "metadata": {
    "collapsed": false
   },
   "id": "7e66999b0cad9e"
  },
  {
   "cell_type": "code",
   "execution_count": 69,
   "outputs": [
    {
     "name": "stdout",
     "output_type": "stream",
     "text": [
      "Le nombre d'itération est  1000, la distance 4.360363119757628\n",
      "Le nombre d'itération est  11000, la distance 3.706899979244443\n",
      "Le nombre d'itération est  21000, la distance 3.5222585529123727\n",
      "Le nombre d'itération est  31000, la distance 3.522258552912373\n",
      "Le nombre d'itération est  41000, la distance 3.522258552912373\n"
     ]
    }
   ],
   "source": [
    "NOMBRE_DE_VILLES = 15 # 10\n",
    "TEMPERATURE = 10000 # *10\n",
    "FACTEUR = 0.999 # 0.99\n",
    "TOUR = 50000 # *5\n",
    "\n",
    "coor_ville = generate_random_cities(NOMBRE_DE_VILLES)\n",
    "distances_ville = matrice_distance_ville(coor_ville)\n",
    "\n",
    "for i in range(1000, TOUR, 10000):\n",
    "    ordre_ville, distance_totale = tsp.recuit_simule(NOMBRE_DE_VILLES, distances_ville, TEMPERATURE, FACTEUR, i)\n",
    "    print(f\"Le nombre d'itération est  {i}, la distance {distance_totale}\")"
   ],
   "metadata": {
    "collapsed": false,
    "ExecuteTime": {
     "end_time": "2023-11-08T11:40:11.165314Z",
     "start_time": "2023-11-08T11:39:36.224907Z"
    }
   },
   "id": "4b048aea740122c"
  },
  {
   "cell_type": "markdown",
   "source": [
    "Programmer l’algorithme génétique permettant de résoudre le TSP (Vous pouvez vous inspirer du TP précédent et des éléments présentés dans TSPexemple.py).\n",
    "    - Choisir les paramètres du croisement et de la mutation en fonction des résultats observés"
   ],
   "metadata": {
    "collapsed": false
   },
   "id": "edadb3b3410773a"
  },
  {
   "cell_type": "code",
   "execution_count": 19,
   "outputs": [
    {
     "name": "stdout",
     "output_type": "stream",
     "text": [
      "[array([3, 1, 0, 9, 2, 7, 5, 8, 6, 4]), array([4, 0, 8, 6, 9, 1, 7, 3, 5, 2]), array([0, 9, 8, 6, 2, 1, 4, 7, 3, 5]), array([2, 3, 4, 1, 8, 0, 7, 9, 6, 5]), array([9, 4, 5, 0, 1, 8, 7, 3, 6, 2]), array([9, 4, 2, 1, 3, 8, 6, 7, 5, 0]), array([9, 1, 4, 3, 6, 0, 7, 8, 5, 2]), array([4, 5, 7, 2, 0, 8, 1, 3, 9, 6]), array([0, 8, 9, 7, 2, 1, 5, 6, 3, 4]), array([3, 7, 1, 4, 5, 9, 6, 0, 2, 8])]\n"
     ]
    }
   ],
   "source": [
    "def population_initiale(nombre_ville, taille_population):\n",
    "    population = []\n",
    "    for i in range(taille_population):\n",
    "        population.append(np.random.permutation(nombre_ville))\n",
    "    return population\n",
    "\n",
    "print(population_initiale(10, 10))"
   ],
   "metadata": {
    "collapsed": false,
    "ExecuteTime": {
     "end_time": "2023-11-08T10:57:47.524789Z",
     "start_time": "2023-11-08T10:57:47.517151Z"
    }
   },
   "id": "6b4ab2db302fa95"
  },
  {
   "cell_type": "code",
   "execution_count": 20,
   "outputs": [
    {
     "name": "stdout",
     "output_type": "stream",
     "text": [
      "[4.04267119860224, 5.710184460697064, 2.9514856179505533, 4.2508019724108, 4.288580233806029, 4.654174941830818, 4.858105329349414, 4.5582922605055884, 4.801891673726194, 4.511397863186843]\n"
     ]
    }
   ],
   "source": [
    "def evaluation_totale(population, distances, nombre_ville):\n",
    "    evaluation = []\n",
    "    for i in range(len(population)):\n",
    "        evaluation.append(tsp.cal_distance(population[i], distances, nombre_ville))\n",
    "    return evaluation\n",
    "\n",
    "print(evaluation_totale(population_initiale(10, 10), distances_ville, 10))"
   ],
   "metadata": {
    "collapsed": false,
    "ExecuteTime": {
     "end_time": "2023-11-08T10:59:24.081400Z",
     "start_time": "2023-11-08T10:59:24.062862Z"
    }
   },
   "id": "8fafd00975840187"
  },
  {
   "cell_type": "code",
   "execution_count": 22,
   "outputs": [
    {
     "name": "stdout",
     "output_type": "stream",
     "text": [
      "[array([7, 9, 4, 1, 2, 8, 6, 0, 5, 3]), array([5, 0, 2, 1, 7, 9, 8, 6, 3, 4])]\n"
     ]
    }
   ],
   "source": [
    "# Selection par la méthode de la roulette des deux parents\n",
    "\n",
    "def selection_roulette(population, evaluation):\n",
    "    somme = sum(evaluation)\n",
    "    proba = [i/somme for i in evaluation]\n",
    "    proba_cumul = np.cumsum(proba)\n",
    "    parents = []\n",
    "    index_parent = []\n",
    "    for i in range(2):\n",
    "        alea = random.random()\n",
    "        for j in range(len(proba_cumul)):\n",
    "            if alea < proba_cumul[j]:\n",
    "                parents.append(population[j])\n",
    "                index_parent.append(j)\n",
    "                break\n",
    "    return parents, index_parent\n",
    "\n",
    "print(selection_roulette(population_initiale(10, 10), evaluation_totale(population_initiale(10, 10), distances_ville, 10)))"
   ],
   "metadata": {
    "collapsed": false,
    "ExecuteTime": {
     "end_time": "2023-11-08T11:01:48.344843Z",
     "start_time": "2023-11-08T11:01:48.334010Z"
    }
   },
   "id": "665e38542cc4c501"
  },
  {
   "cell_type": "code",
   "execution_count": 25,
   "outputs": [
    {
     "name": "stdout",
     "output_type": "stream",
     "text": [
      "[3, 1, 2, 0, 4, 5, 6, 7, 8, 9]\n"
     ]
    }
   ],
   "source": [
    "# Mutation par inversion de deux villes\n",
    "\n",
    "def mutation_inversion(individu):\n",
    "    mutation = individu.copy()\n",
    "    alea = random.randint(0, len(individu)-1)\n",
    "    alea2 = random.randint(0, len(individu)-1)\n",
    "    mutation[alea], mutation[alea2] = mutation[alea2], mutation[alea]\n",
    "    return mutation\n",
    "\n",
    "print(mutation_inversion([0, 1, 2, 3, 4, 5, 6, 7, 8, 9]))"
   ],
   "metadata": {
    "collapsed": false,
    "ExecuteTime": {
     "end_time": "2023-11-08T11:04:18.075507Z",
     "start_time": "2023-11-08T11:04:18.070560Z"
    }
   },
   "id": "f4bfd52f1ee333f1"
  },
  {
   "cell_type": "code",
   "execution_count": 49,
   "outputs": [
    {
     "name": "stdout",
     "output_type": "stream",
     "text": [
      "[[0, 1, 2, 3, 4, 5, 3, 2, 1, 0], [9, 8, 7, 6, 5, 4, 6, 7, 8, 9]]\n"
     ]
    }
   ],
   "source": [
    "# Croisement en 1 point\n",
    "\n",
    "def croisement(enfants):\n",
    "    enfant_1 = enfants[0]\n",
    "    enfant_2 = enfants[1]\n",
    "    alea = random.randint(0, len(enfant_1)-1)\n",
    "    enfant_1[alea:], enfant_2[alea:] = enfant_2[alea:], enfant_1[alea:]\n",
    "    return enfant_1, enfant_2\n",
    "\n",
    "print(croisement([[0, 1, 2, 3, 4, 5, 6, 7, 8, 9], [9, 8, 7, 6, 5, 4, 3, 2, 1, 0]]))"
   ],
   "metadata": {
    "collapsed": false,
    "ExecuteTime": {
     "end_time": "2023-11-08T11:30:45.246729Z",
     "start_time": "2023-11-08T11:30:45.233190Z"
    }
   },
   "id": "3a1cb31fdc0750e1"
  },
  {
   "cell_type": "code",
   "execution_count": 44,
   "outputs": [
    {
     "name": "stdout",
     "output_type": "stream",
     "text": [
      "[9, 1, 2, 3, 5, 4, 6, 7, 8, 0]\n"
     ]
    }
   ],
   "source": [
    "# Correction d'un individu\n",
    "\n",
    "def reparer_individu(individu):\n",
    "    taille_individu = len(individu)\n",
    "    villes_manquantes = set(range(taille_individu)) - set(individu)\n",
    "    villes_doubles = set([x for x in individu if individu.count(x) > 1])\n",
    "    \n",
    "    # Créer une copie de l'individu pour éviter de modifier l'original pendant l'itération\n",
    "    individu_repare = individu[:]\n",
    "    for ville in villes_doubles:\n",
    "        while individu_repare.count(ville) > 1:\n",
    "            index_ville_double = individu_repare.index(ville, individu_repare.index(ville) + 1)\n",
    "            ville_manquante = villes_manquantes.pop()\n",
    "            individu_repare[index_ville_double] = ville_manquante\n",
    "\n",
    "    return individu_repare\n",
    "\n",
    "print(reparer_individu([9, 1, 2, 3, 5, 5, 6, 7, 8, 9]))"
   ],
   "metadata": {
    "collapsed": false,
    "ExecuteTime": {
     "end_time": "2023-11-08T11:29:06.455206Z",
     "start_time": "2023-11-08T11:29:06.450626Z"
    }
   },
   "id": "fad35e97dfd5db2e"
  },
  {
   "cell_type": "code",
   "execution_count": 65,
   "outputs": [],
   "source": [
    "# Algorithme génétique\n",
    "\n",
    "def algorithme_genetique(distances, nombre_ville, nombre_iter, proba_mutation, taille_population):\n",
    "    population = population_initiale(nombre_ville, taille_population)\n",
    "    for i in range(nombre_iter):\n",
    "        evaluation = evaluation_totale(population, distances, nombre_ville)\n",
    "        parents = selection_roulette(population, evaluation)\n",
    "        enfants = croisement(parents)\n",
    "        # On répare les enfants\n",
    "        # Conversion en liste de listes\n",
    "        enfants = [list(arr) for arr in enfants]\n",
    "        enfants[0] = reparer_individu(enfants[0])\n",
    "        enfants[1] = reparer_individu(enfants[1])\n",
    "        # On remplace les parents par les enfants s'ils sont meilleurs\n",
    "        if tsp.cal_distance(enfants[0], distances, nombre_ville) < tsp.cal_distance(parents[0], distances, nombre_ville):\n",
    "            population[parents[1][0]] = enfants[0]\n",
    "        if tsp.cal_distance(enfants[1], distances, nombre_ville) < tsp.cal_distance(parents[1], distances, nombre_ville):\n",
    "            population[parents[1][1]] = enfants[1]\n",
    "        # On mute la population au hasard\n",
    "        for j in range(len(population)):\n",
    "            if random.random() < proba_mutation:\n",
    "                population[j] = reparer_individu(list(mutation_inversion(population[j])))\n",
    "    # On cherche le meilleur individu\n",
    "    evaluation = evaluation_totale(population, distances, nombre_ville)\n",
    "    index_meilleur = evaluation.index(min(evaluation))\n",
    "    best_individu = population[index_meilleur]\n",
    "    return best_individu, min(evaluation)"
   ],
   "metadata": {
    "collapsed": false,
    "ExecuteTime": {
     "end_time": "2023-11-08T11:36:35.158423Z",
     "start_time": "2023-11-08T11:36:35.148179Z"
    }
   },
   "id": "264969faba3f684"
  },
  {
   "cell_type": "code",
   "execution_count": 68,
   "outputs": [
    {
     "name": "stdout",
     "output_type": "stream",
     "text": [
      "[7, 0, 1, 3, 5, 8, 9, 4, 6, 2] 3.9841954491012554\n"
     ]
    },
    {
     "data": {
      "text/plain": "<Figure size 640x480 with 1 Axes>",
      "image/png": "[encoded data removed]"
     },
     "metadata": {},
     "output_type": "display_data"
    }
   ],
   "source": [
    "# Test de l'algorithme génétique\n",
    "\n",
    "NOMBRE_DE_VILLES = 10\n",
    "NOMBRE_ITER = 10000\n",
    "PROBA_MUTATION = 0.1\n",
    "TAILLE_POPULATION = 1000\n",
    "\n",
    "coor_ville = generate_random_cities(NOMBRE_DE_VILLES)\n",
    "distances_ville = matrice_distance_ville(coor_ville)\n",
    "\n",
    "meilleur_individu, distance_totale = algorithme_genetique(distances_ville, NOMBRE_DE_VILLES, NOMBRE_ITER, PROBA_MUTATION, TAILLE_POPULATION)\n",
    "print(f\"Le meilleur individu est {meilleur_individu} avec une distance de {distance_totale}\")\n",
    "\n",
    "afficaghe(coor_ville, meilleur_individu)"
   ],
   "metadata": {
    "collapsed": false,
    "ExecuteTime": {
     "end_time": "2023-11-08T11:38:13.268376Z",
     "start_time": "2023-11-08T11:37:40.490607Z"
    }
   },
   "id": "21cbb024507a3617"
  },
  {
   "cell_type": "markdown",
   "source": [
    "Programmer l’algorithme de colonies de fourmis adapté au TSP :\n",
    "    - Choisir les paramètres de l’algorithme en fonction des résultats observés"
   ],
   "metadata": {
    "collapsed": false
   },
   "id": "b76c19f7b6f156d1"
  },
  {
   "cell_type": "code",
   "execution_count": 74,
   "outputs": [
    {
     "name": "stdout",
     "output_type": "stream",
     "text": [
      "Meilleur chemin trouvé: [5, 8, 9, 7, 6, 3, 0, 4, 2, 1]\n",
      "Distance du meilleur chemin: 3.4164555031306554\n"
     ]
    }
   ],
   "source": [
    "import numpy as np\n",
    "\n",
    "def ant_colony_optimization(distances, n_fourmis, n_best, n_iterations, declin, alpha, beta):\n",
    "    n_villes = distances.shape[0]\n",
    "\n",
    "    # Initialisation du dépôt de phéromones\n",
    "    pheromone = np.ones((n_villes, n_villes)) / n_villes\n",
    "    # Garder la trace de la meilleure solution\n",
    "    plus_court_chemin = None\n",
    "    meilleur_distance = float('inf')\n",
    "\n",
    "    for _ in range(n_iterations):\n",
    "        tous_chemins = []\n",
    "        toutes_distances = []\n",
    "\n",
    "        for _ in range(n_fourmis):\n",
    "            chemin = [np.random.randint(0, n_villes)]  # Commencer à une ville aléatoire\n",
    "            while len(chemin) < n_villes:\n",
    "                ville_actuelle = chemin[-1]\n",
    "                # Calculer la probabilité de transition pour la prochaine ville\n",
    "                probabilites = np.zeros(n_villes)\n",
    "                for ville_suivante in range(n_villes):\n",
    "                    if ville_suivante not in chemin:\n",
    "                        trace = pheromone[ville_actuelle, ville_suivante] ** alpha\n",
    "                        visibilite = (1.0 / distances[ville_actuelle, ville_suivante]) ** beta\n",
    "                        probabilites[ville_suivante] = trace * visibilite\n",
    "                # Normaliser pour obtenir des probabilités\n",
    "                probabilites /= probabilites.sum()\n",
    "                # Choisir la prochaine ville\n",
    "                ville_suivante = np.random.choice(n_villes, p=probabilites)\n",
    "                chemin.append(ville_suivante)\n",
    "\n",
    "            tous_chemins.append(chemin)\n",
    "            # Calculer la longueur du chemin\n",
    "            distance = sum([distances[chemin[i], chemin[i+1]] for i in range(-1, n_villes-1)])\n",
    "            toutes_distances.append(distance)\n",
    "\n",
    "            # Vérifier si nous avons une nouvelle meilleure solution\n",
    "            if distance < meilleur_distance:\n",
    "                meilleur_distance = distance\n",
    "                plus_court_chemin = chemin\n",
    "\n",
    "        # Trier les fourmis - les meilleures en premier\n",
    "        fourmies_triees = np.argsort(toutes_distances)\n",
    "        # Mise à jour du dépôt de phéromones\n",
    "        pheromone *= declin\n",
    "        for i in range(n_best):\n",
    "            for j in range(-1, n_villes-1):\n",
    "                pheromone[tous_chemins[fourmies_triees[i]][j], tous_chemins[fourmies_triees[i]][j+1]] += 1.0 / toutes_distances[fourmies_triees[i]]\n",
    "\n",
    "    return plus_court_chemin, meilleur_distance\n",
    "\n",
    "# Données du problème TSP (matrice de distance)\n",
    "\n",
    "NOMBRE_DE_VILLES = 10\n",
    "NOMBRE_ITER = 10000\n",
    "PROBA_MUTATION = 0.1\n",
    "TAILLE_POPULATION = 1000\n",
    "\n",
    "coor_ville = generate_random_cities(NOMBRE_DE_VILLES)\n",
    "distances_ville = matrice_distance_ville(coor_ville)\n",
    "\n",
    "DISTANCES = distances_ville\n",
    "\n",
    "# Paramètres de l'algorithme\n",
    "N_FOURMIS = 10\n",
    "N_BEST = 5\n",
    "N_ITERATIONS = 100\n",
    "DECLIN = 0.95\n",
    "ALPHA = 1\n",
    "BETA = 2\n",
    "\n",
    "# Lancer l'algorithme\n",
    "plus_court, meilleur_dist = ant_colony_optimization(DISTANCES, N_FOURMIS, N_BEST, N_ITERATIONS, DECLIN, ALPHA, BETA)\n",
    "\n",
    "print(\"Meilleur chemin trouvé:\", plus_court)\n",
    "print(\"Distance du meilleur chemin:\", meilleur_dist)\n"
   ],
   "metadata": {
    "collapsed": false,
    "ExecuteTime": {
     "end_time": "2023-11-08T12:00:10.374213Z",
     "start_time": "2023-11-08T12:00:10.235713Z"
    }
   },
   "id": "5305c8563c0045e2"
  },
  {
   "cell_type": "markdown",
   "source": [
    "Comparer les trois approches du point de vue de la qualité des solutions proposées et du temps de calcul. Pour ce faire, générer des instances représentatives (minimum 4) du problème TSP."
   ],
   "metadata": {
    "collapsed": false
   },
   "id": "153820b3abf17c77"
  }
 ],
 "metadata": {
  "kernelspec": {
   "display_name": "Python 3 (ipykernel)",
   "language": "python",
   "name": "python3"
  },
  "language_info": {
   "codemirror_mode": {
    "name": "ipython",
    "version": 3
   },
   "file_extension": ".py",
   "mimetype": "text/x-python",
   "name": "python",
   "nbconvert_exporter": "python",
   "pygments_lexer": "ipython3",
   "version": "3.8.18"
  }
 },
 "nbformat": 4,
 "nbformat_minor": 5
}
