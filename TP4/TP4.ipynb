{
 "cells": [
  {
   "cell_type": "markdown",
   "source": [
    "# Algorithme classique du problème du sac à dos"
   ],
   "metadata": {
    "collapsed": false
   },
   "id": "c726c9c24b860af"
  },
  {
   "cell_type": "code",
   "execution_count": 1009,
   "outputs": [],
   "source": [
    "import numpy as np"
   ],
   "metadata": {
    "collapsed": false,
    "ExecuteTime": {
     "end_time": "2023-12-20T11:24:27.009161Z",
     "start_time": "2023-12-20T11:24:26.841104Z"
    }
   },
   "id": "cbb4be15635263c3"
  },
  {
   "cell_type": "markdown",
   "source": [
    "# Classique"
   ],
   "metadata": {
    "collapsed": false
   },
   "id": "6ce331da41e31070"
  },
  {
   "cell_type": "code",
   "execution_count": 1010,
   "outputs": [
    {
     "name": "stdout",
     "output_type": "stream",
     "text": [
      "[[0 1 0 0 0]\n",
      " [1 1 0 0 1]\n",
      " [1 0 1 1 1]\n",
      " [0 1 0 1 1]\n",
      " [0 1 0 1 0]\n",
      " [0 0 0 1 0]\n",
      " [0 0 0 0 0]\n",
      " [0 1 0 1 1]\n",
      " [0 1 0 0 0]\n",
      " [1 0 1 0 1]\n",
      " [0 0 0 1 1]\n",
      " [0 0 1 1 1]\n",
      " [0 0 1 1 0]\n",
      " [0 1 0 0 1]\n",
      " [0 1 0 0 1]\n",
      " [1 0 1 0 0]\n",
      " [0 0 0 0 1]\n",
      " [0 1 1 0 0]\n",
      " [0 0 0 1 0]\n",
      " [0 0 0 0 0]\n",
      " [0 0 0 1 1]\n",
      " [0 0 0 0 1]\n",
      " [0 0 0 0 1]\n",
      " [0 1 1 1 0]\n",
      " [0 1 0 0 1]\n",
      " [0 0 0 0 1]\n",
      " [1 1 1 1 0]\n",
      " [0 0 1 1 0]\n",
      " [1 0 1 0 1]\n",
      " [0 0 1 1 0]\n",
      " [0 0 0 1 0]\n",
      " [1 1 0 0 0]\n",
      " [1 0 0 0 1]\n",
      " [1 1 0 1 1]\n",
      " [0 0 1 0 0]\n",
      " [1 0 0 1 1]\n",
      " [1 1 0 1 1]\n",
      " [0 1 0 0 0]\n",
      " [1 1 0 1 0]\n",
      " [1 0 1 0 0]\n",
      " [0 0 0 0 0]\n",
      " [0 1 1 0 0]\n",
      " [1 0 1 1 0]\n",
      " [1 0 1 0 1]\n",
      " [0 0 0 0 0]\n",
      " [1 1 1 0 1]\n",
      " [0 1 1 0 0]\n",
      " [0 1 0 0 0]\n",
      " [0 0 1 0 1]\n",
      " [1 0 0 0 1]\n",
      " [0 1 1 1 0]\n",
      " [1 1 1 1 1]\n",
      " [0 0 1 1 0]\n",
      " [0 0 0 0 1]\n",
      " [1 1 0 0 0]\n",
      " [0 1 0 1 1]\n",
      " [1 0 1 1 1]\n",
      " [0 1 0 1 0]\n",
      " [1 0 0 0 0]\n",
      " [0 0 1 1 0]\n",
      " [1 0 0 0 1]\n",
      " [0 0 1 1 1]\n",
      " [0 1 0 1 1]\n",
      " [1 0 0 0 1]\n",
      " [0 0 0 0 1]\n",
      " [0 1 0 1 1]\n",
      " [0 1 0 0 0]\n",
      " [1 0 1 0 0]\n",
      " [1 0 0 0 0]\n",
      " [1 0 0 1 0]\n",
      " [1 0 1 0 0]\n",
      " [0 0 0 1 1]\n",
      " [1 0 1 1 0]\n",
      " [0 1 1 0 1]\n",
      " [0 1 0 0 1]\n",
      " [0 0 1 0 0]\n",
      " [0 0 0 1 1]\n",
      " [1 0 0 1 0]\n",
      " [0 0 1 0 0]\n",
      " [1 0 1 0 0]\n",
      " [0 0 1 1 1]\n",
      " [0 1 1 0 0]\n",
      " [1 0 1 0 0]\n",
      " [0 1 0 0 1]\n",
      " [1 0 0 0 1]\n",
      " [1 1 1 0 1]\n",
      " [0 1 0 0 1]\n",
      " [0 1 1 1 1]\n",
      " [1 0 1 1 0]\n",
      " [0 0 1 1 0]\n",
      " [1 1 1 0 0]\n",
      " [0 1 0 0 0]\n",
      " [1 0 0 1 0]\n",
      " [0 1 1 1 1]\n",
      " [0 1 0 1 0]\n",
      " [0 1 1 1 0]\n",
      " [1 1 0 0 1]\n",
      " [1 0 0 1 1]\n",
      " [0 0 0 1 0]\n",
      " [0 0 1 0 1]]\n"
     ]
    }
   ],
   "source": [
    "weights = np.array([10, 20, 30, 40, 50])\n",
    "values = np.array([60, 100, 120, 140, 160])\n",
    "max_weight = np.sum(weights) // 3\n",
    "\n",
    "population_size = 100\n",
    "\n",
    "population = np.random.randint(2, size=(population_size, weights.shape[0]))\n",
    "print(population)"
   ],
   "metadata": {
    "collapsed": false,
    "ExecuteTime": {
     "end_time": "2023-12-20T11:24:27.038361Z",
     "start_time": "2023-12-20T11:24:26.998668Z"
    }
   },
   "id": "b646e4e6e77de61f"
  },
  {
   "cell_type": "code",
   "execution_count": 1011,
   "outputs": [],
   "source": [
    "def fitness(weight, value, population, max_weight):\n",
    "    arg_fitness = np.empty(population.shape[0])\n",
    "    for i in range(population.shape[0]):\n",
    "        S1 = np.sum(population[i] * value)\n",
    "        S2 = np.sum(population[i] * weight)\n",
    "        if S2 > max_weight:\n",
    "            arg_fitness[i] = 0\n",
    "        else:\n",
    "            arg_fitness[i] = S1\n",
    "    return arg_fitness"
   ],
   "metadata": {
    "collapsed": false,
    "ExecuteTime": {
     "end_time": "2023-12-20T11:24:27.089157Z",
     "start_time": "2023-12-20T11:24:27.017385Z"
    }
   },
   "id": "91fe351fbd8ef826"
  },
  {
   "cell_type": "code",
   "execution_count": 1012,
   "outputs": [
    {
     "data": {
      "text/plain": "array([100.,   0.,   0.,   0.,   0., 140.,   0.,   0., 100.,   0.,   0.,\n         0.,   0.,   0.,   0., 180., 160., 220., 140.,   0.,   0., 160.,\n       160.,   0.,   0., 160.,   0.,   0.,   0.,   0., 140., 160.,   0.,\n         0., 120.,   0.,   0., 100.,   0., 180.,   0., 220.,   0.,   0.,\n         0.,   0., 220., 100.,   0.,   0.,   0.,   0.,   0., 160., 160.,\n         0.,   0.,   0.,  60.,   0.,   0.,   0.,   0.,   0., 160.,   0.,\n       100., 180.,  60., 200., 180.,   0.,   0.,   0.,   0., 120.,   0.,\n       200., 120., 180.,   0., 220., 180.,   0.,   0.,   0.,   0.,   0.,\n         0.,   0.,   0., 100., 200.,   0.,   0.,   0.,   0.,   0., 140.,\n         0.])"
     },
     "execution_count": 1012,
     "metadata": {},
     "output_type": "execute_result"
    }
   ],
   "source": [
    "fitness(weights, values, population, max_weight)"
   ],
   "metadata": {
    "collapsed": false,
    "ExecuteTime": {
     "end_time": "2023-12-20T11:24:27.108871Z",
     "start_time": "2023-12-20T11:24:27.045970Z"
    }
   },
   "id": "e4eeb92811a3ff11"
  },
  {
   "cell_type": "code",
   "execution_count": 1013,
   "outputs": [],
   "source": [
    "def selection_roulette(fitness, population):\n",
    "    # Selectionner par la roulette les 2 meilleurs individus, ils doivent être différents\n",
    "    parents = []\n",
    "    somme = np.sum(fitness)\n",
    "    fitness_roulette = fitness / somme\n",
    "    for i in range(2):\n",
    "        # Tirage aléatoire entre 0 et 1\n",
    "        tirage = np.random.rand()\n",
    "        # On cherche l'indice de l'individu qui correspond au tirage et on le stocke dans parents puis on le supprime de la population\n",
    "        somme = 0\n",
    "        for j in range(fitness_roulette.shape[0]):\n",
    "            somme += fitness_roulette[j]\n",
    "            if somme >= tirage:\n",
    "                parents.append(population[j])\n",
    "                population = np.delete(population, j, axis=0)\n",
    "                fitness = np.delete(fitness, j, axis=0)\n",
    "                fitness_roulette = np.delete(fitness_roulette, j, axis=0)\n",
    "                break\n",
    "    return parents\n",
    "    "
   ],
   "metadata": {
    "collapsed": false,
    "ExecuteTime": {
     "end_time": "2023-12-20T11:24:27.256094Z",
     "start_time": "2023-12-20T11:24:27.098135Z"
    }
   },
   "id": "94bc7cbe1acb727a"
  },
  {
   "cell_type": "code",
   "execution_count": 1014,
   "outputs": [
    {
     "name": "stdout",
     "output_type": "stream",
     "text": [
      "[array([0, 1, 1, 0, 0]), array([1, 0, 1, 0, 0])]\n"
     ]
    }
   ],
   "source": [
    "print(selection_roulette(fitness(weights, values, population, max_weight), population))"
   ],
   "metadata": {
    "collapsed": false,
    "ExecuteTime": {
     "end_time": "2023-12-20T11:24:27.262501Z",
     "start_time": "2023-12-20T11:24:27.242609Z"
    }
   },
   "id": "554d4eb09f8b8b98"
  },
  {
   "cell_type": "code",
   "execution_count": 1015,
   "outputs": [],
   "source": [
    "def crossover(parents):\n",
    "    # On choisit un point de croisement aléatoire\n",
    "    point_croisement = np.random.randint(1, parents[0].shape[0])\n",
    "    # On crée les enfants\n",
    "    enfant1 = np.concatenate((parents[0][:point_croisement], parents[1][point_croisement:]))\n",
    "    enfant2 = np.concatenate((parents[1][:point_croisement], parents[0][point_croisement:]))\n",
    "    return enfant1, enfant2"
   ],
   "metadata": {
    "collapsed": false,
    "ExecuteTime": {
     "end_time": "2023-12-20T11:24:27.279205Z",
     "start_time": "2023-12-20T11:24:27.264724Z"
    }
   },
   "id": "493adc2d0cebf177"
  },
  {
   "cell_type": "code",
   "execution_count": 1016,
   "outputs": [
    {
     "name": "stdout",
     "output_type": "stream",
     "text": [
      "(array([0, 1, 1, 0, 0]), array([1, 0, 1, 0, 0]))\n"
     ]
    }
   ],
   "source": [
    "print(crossover(selection_roulette(fitness(weights, values, population, max_weight), population)))"
   ],
   "metadata": {
    "collapsed": false,
    "ExecuteTime": {
     "end_time": "2023-12-20T11:24:27.308Z",
     "start_time": "2023-12-20T11:24:27.280738Z"
    }
   },
   "id": "3642f8e5cebc51e4"
  },
  {
   "cell_type": "code",
   "execution_count": 1017,
   "outputs": [],
   "source": [
    "def mutation(enfants):\n",
    "    # On choisit un point de mutation aléatoire\n",
    "    point_mutation = np.random.randint(0, enfants[0].shape[0])\n",
    "    # On crée les enfants si le point de mutation est 0 on le change en 1 et inversement\n",
    "    if enfants[0][point_mutation] == 0:\n",
    "        enfants[0][point_mutation] = 1\n",
    "    else:\n",
    "        enfants[0][point_mutation] = 0\n",
    "    return enfants"
   ],
   "metadata": {
    "collapsed": false,
    "ExecuteTime": {
     "end_time": "2023-12-20T11:24:27.329797Z",
     "start_time": "2023-12-20T11:24:27.309779Z"
    }
   },
   "id": "35a928f91c0d23cb"
  },
  {
   "cell_type": "code",
   "execution_count": 1018,
   "outputs": [
    {
     "name": "stdout",
     "output_type": "stream",
     "text": [
      "(array([0, 1, 0, 0, 0]), array([0, 1, 0, 0, 0]))\n"
     ]
    }
   ],
   "source": [
    "print(mutation(crossover(selection_roulette(fitness(weights, values, population, max_weight), population))))"
   ],
   "metadata": {
    "collapsed": false,
    "ExecuteTime": {
     "end_time": "2023-12-20T11:24:27.372641Z",
     "start_time": "2023-12-20T11:24:27.330798Z"
    }
   },
   "id": "e0f4e93eca891bc7"
  },
  {
   "cell_type": "code",
   "execution_count": 1019,
   "outputs": [],
   "source": [
    "def evolution(arg_population, arg_fitness, arg_max_weight, mutation_rate=0.1):\n",
    "    # On sélectionne les parents\n",
    "    parents = selection_roulette(arg_fitness, arg_population)\n",
    "    # On crée les enfants\n",
    "    enfants = crossover(parents)\n",
    "    # On mute les enfants avec une probabilité\n",
    "    if np.random.rand() < mutation_rate:\n",
    "        enfants = mutation(enfants)\n",
    "    # On ajoute les enfants à la population si ils améliorent le pire individu\n",
    "    enfants = np.array(enfants)\n",
    "    fitness_enfants = fitness(weights, values, enfants, arg_max_weight)\n",
    "    fitness_population = fitness(weights, values, arg_population, arg_max_weight)\n",
    "    for i in range(2):\n",
    "        if fitness_enfants[i] > np.min(fitness_population):\n",
    "            # On remplace le pire individu par l'enfant\n",
    "            arg_population[np.argmin(fitness_population)] = enfants[i]\n",
    "            fitness_population[np.argmin(fitness_population)] = fitness_enfants[i]\n",
    "    # On calcule la fitness de la nouvelle population\n",
    "    arg_fitness = fitness_population\n",
    "    return arg_population"
   ],
   "metadata": {
    "collapsed": false,
    "ExecuteTime": {
     "end_time": "2023-12-20T11:24:27.375997Z",
     "start_time": "2023-12-20T11:24:27.346931Z"
    }
   },
   "id": "ccd282469b6a3b0d"
  },
  {
   "cell_type": "code",
   "execution_count": 1020,
   "outputs": [
    {
     "name": "stdout",
     "output_type": "stream",
     "text": [
      "[[0 1 0 0 0]\n",
      " [1 0 1 0 0]\n",
      " [1 0 1 1 1]\n",
      " [0 1 0 1 1]\n",
      " [0 1 0 1 0]\n",
      " [0 0 0 1 0]\n",
      " [0 0 0 0 0]\n",
      " [0 1 0 1 1]\n",
      " [0 1 0 0 0]\n",
      " [1 0 1 0 1]\n",
      " [0 0 0 1 1]\n",
      " [0 0 1 1 1]\n",
      " [0 0 1 1 0]\n",
      " [0 1 0 0 1]\n",
      " [0 1 0 0 1]\n",
      " [1 0 1 0 0]\n",
      " [0 0 0 0 1]\n",
      " [0 1 1 0 0]\n",
      " [0 0 0 1 0]\n",
      " [0 0 0 0 0]\n",
      " [0 0 0 1 1]\n",
      " [0 0 0 0 1]\n",
      " [0 0 0 0 1]\n",
      " [0 1 1 1 0]\n",
      " [0 1 0 0 1]\n",
      " [0 0 0 0 1]\n",
      " [1 1 1 1 0]\n",
      " [0 0 1 1 0]\n",
      " [1 0 1 0 1]\n",
      " [0 0 1 1 0]\n",
      " [0 0 0 1 0]\n",
      " [1 1 0 0 0]\n",
      " [1 0 0 0 1]\n",
      " [1 1 0 1 1]\n",
      " [0 0 1 0 0]\n",
      " [1 0 0 1 1]\n",
      " [1 1 0 1 1]\n",
      " [0 1 0 0 0]\n",
      " [1 1 0 1 0]\n",
      " [1 0 1 0 0]\n",
      " [0 0 0 0 0]\n",
      " [0 1 1 0 0]\n",
      " [1 0 1 1 0]\n",
      " [1 0 1 0 1]\n",
      " [0 0 0 0 0]\n",
      " [1 1 1 0 1]\n",
      " [0 1 1 0 0]\n",
      " [0 1 0 0 0]\n",
      " [0 0 1 0 1]\n",
      " [1 0 0 0 1]\n",
      " [0 1 1 1 0]\n",
      " [1 1 1 1 1]\n",
      " [0 0 1 1 0]\n",
      " [0 0 0 0 1]\n",
      " [1 1 0 0 0]\n",
      " [0 1 0 1 1]\n",
      " [1 0 1 1 1]\n",
      " [0 1 0 1 0]\n",
      " [1 0 0 0 0]\n",
      " [0 0 1 1 0]\n",
      " [1 0 0 0 1]\n",
      " [0 0 1 1 1]\n",
      " [0 1 0 1 1]\n",
      " [1 0 0 0 1]\n",
      " [0 0 0 0 1]\n",
      " [0 1 0 1 1]\n",
      " [0 1 0 0 0]\n",
      " [1 0 1 0 0]\n",
      " [1 0 0 0 0]\n",
      " [1 0 0 1 0]\n",
      " [1 0 1 0 0]\n",
      " [0 0 0 1 1]\n",
      " [1 0 1 1 0]\n",
      " [0 1 1 0 1]\n",
      " [0 1 0 0 1]\n",
      " [0 0 1 0 0]\n",
      " [0 0 0 1 1]\n",
      " [1 0 0 1 0]\n",
      " [0 0 1 0 0]\n",
      " [1 0 1 0 0]\n",
      " [0 0 1 1 1]\n",
      " [0 1 1 0 0]\n",
      " [1 0 1 0 0]\n",
      " [0 1 0 0 1]\n",
      " [1 0 0 0 1]\n",
      " [1 1 1 0 1]\n",
      " [0 1 0 0 1]\n",
      " [0 1 1 1 1]\n",
      " [1 0 1 1 0]\n",
      " [0 0 1 1 0]\n",
      " [1 1 1 0 0]\n",
      " [0 1 0 0 0]\n",
      " [1 0 0 1 0]\n",
      " [0 1 1 1 1]\n",
      " [0 1 0 1 0]\n",
      " [0 1 1 1 0]\n",
      " [1 1 0 0 1]\n",
      " [1 0 0 1 1]\n",
      " [0 0 0 1 0]\n",
      " [0 0 1 0 1]]\n"
     ]
    }
   ],
   "source": [
    "print(evolution(population, fitness(weights, values, population, max_weight), max_weight))"
   ],
   "metadata": {
    "collapsed": false,
    "ExecuteTime": {
     "end_time": "2023-12-20T11:24:27.441708Z",
     "start_time": "2023-12-20T11:24:27.379265Z"
    }
   },
   "id": "b057834c4638367c"
  },
  {
   "cell_type": "code",
   "execution_count": 1021,
   "outputs": [],
   "source": [
    "def algo_genetique(population_finale, arg_weights, arg_values, arg_max_weight, nb_iterations=1000):\n",
    "    # On trie la population finale par ordre décroissant de fitness\n",
    "    population_finale = population_finale[np.argsort(fitness(arg_weights, arg_values, population_finale, arg_max_weight))[::-1]]\n",
    "    # On retourne le meilleur individu\n",
    "    return population_finale[0], fitness(arg_weights, arg_values, population_finale, arg_max_weight)[0]"
   ],
   "metadata": {
    "collapsed": false,
    "ExecuteTime": {
     "end_time": "2023-12-20T11:24:27.475861Z",
     "start_time": "2023-12-20T11:24:27.429844Z"
    }
   },
   "id": "bda8587944a8af8"
  },
  {
   "cell_type": "code",
   "execution_count": 1022,
   "outputs": [
    {
     "data": {
      "text/plain": "(array([0, 1, 1, 0, 0]), 220.0)"
     },
     "execution_count": 1022,
     "metadata": {},
     "output_type": "execute_result"
    }
   ],
   "source": [
    "algo_genetique(population, weights, values, max_weight)"
   ],
   "metadata": {
    "collapsed": false,
    "ExecuteTime": {
     "end_time": "2023-12-20T11:24:27.510992Z",
     "start_time": "2023-12-20T11:24:27.478718Z"
    }
   },
   "id": "41f56096e864e03f"
  },
  {
   "cell_type": "markdown",
   "source": [
    "# Les 5 jeux de données"
   ],
   "metadata": {
    "collapsed": false
   },
   "id": "243ace5fe7845582"
  },
  {
   "cell_type": "markdown",
   "source": [
    "## Jeu de données 1"
   ],
   "metadata": {
    "collapsed": false
   },
   "id": "e4411a21e33ef174"
  },
  {
   "cell_type": "code",
   "execution_count": 1023,
   "outputs": [],
   "source": [
    "weights_1 = np.array([10, 20, 30, 40, 50])\n",
    "values_1 = np.array([60, 100, 120, 140, 160])\n",
    "max_weight_1 = np.sum(weights) // 3"
   ],
   "metadata": {
    "collapsed": false,
    "ExecuteTime": {
     "end_time": "2023-12-20T11:24:27.543976Z",
     "start_time": "2023-12-20T11:24:27.511781Z"
    }
   },
   "id": "dc7baed3e3f94e4b"
  },
  {
   "cell_type": "markdown",
   "source": [
    "## Jeu de données 2"
   ],
   "metadata": {
    "collapsed": false
   },
   "id": "4d2a622d87acb991"
  },
  {
   "cell_type": "code",
   "execution_count": 1024,
   "outputs": [],
   "source": [
    "weights_2 = np.array([10, 20, 30, 40, 50, 60, 70, 80, 90, 100])\n",
    "values_2 = np.array([60, 100, 120, 140, 160, 180, 200, 220, 240, 260])\n",
    "max_weight_2 = np.sum(weights) // 3"
   ],
   "metadata": {
    "collapsed": false,
    "ExecuteTime": {
     "end_time": "2023-12-20T11:24:27.568244Z",
     "start_time": "2023-12-20T11:24:27.544676Z"
    }
   },
   "id": "45b5c44610ba632a"
  },
  {
   "cell_type": "markdown",
   "source": [
    "## Jeu de données 3"
   ],
   "metadata": {
    "collapsed": false
   },
   "id": "d1a2d5908edc973"
  },
  {
   "cell_type": "code",
   "execution_count": 1025,
   "outputs": [],
   "source": [
    "weights_3 = [83, 73, 22, 1, 65, 98, 64, 40, 92, 68, 6, 39, 90, 73, 7, 99, 6, 52, 23, 14]\n",
    "values_3 = [8, 17, 2, 17, 20, 16, 15, 2, 19, 10, 19, 6, 19, 5, 16, 21, 19, 18, 9, 1]\n",
    "max_weight_3 = np.sum(weights) // 3"
   ],
   "metadata": {
    "collapsed": false,
    "ExecuteTime": {
     "end_time": "2023-12-20T11:24:27.594934Z",
     "start_time": "2023-12-20T11:24:27.569668Z"
    }
   },
   "id": "6680535d214115ba"
  },
  {
   "cell_type": "markdown",
   "source": [
    "# Quantique "
   ],
   "metadata": {
    "collapsed": false
   },
   "id": "eb2d96e64aa55de2"
  },
  {
   "cell_type": "code",
   "execution_count": 1026,
   "outputs": [],
   "source": [
    "weights_q = np.array([10, 20])\n",
    "values_q = np.array([60, 100])\n",
    "max_weight_q = np.sum(weights_q) // 3"
   ],
   "metadata": {
    "collapsed": false,
    "ExecuteTime": {
     "end_time": "2023-12-20T11:24:27.595992Z",
     "start_time": "2023-12-20T11:24:27.574187Z"
    }
   },
   "id": "1614ffb1ed4ca57c"
  },
  {
   "cell_type": "code",
   "execution_count": 1027,
   "outputs": [],
   "source": [
    "def initialiser_q(n, m):\n",
    "    Q = []\n",
    "    un_ele = [1/(2**0.5) for i in range(m)]\n",
    "    for i in range(n):\n",
    "        Q.append([un_ele, un_ele])\n",
    "    return Q"
   ],
   "metadata": {
    "collapsed": false,
    "ExecuteTime": {
     "end_time": "2023-12-20T11:24:27.676363Z",
     "start_time": "2023-12-20T11:24:27.598101Z"
    }
   },
   "id": "e95375fa1499b50e"
  },
  {
   "cell_type": "code",
   "execution_count": 1028,
   "outputs": [
    {
     "name": "stdout",
     "output_type": "stream",
     "text": [
      "[[[0.7071067811865475, 0.7071067811865475], [0.7071067811865475, 0.7071067811865475]], [[0.7071067811865475, 0.7071067811865475], [0.7071067811865475, 0.7071067811865475]], [[0.7071067811865475, 0.7071067811865475], [0.7071067811865475, 0.7071067811865475]], [[0.7071067811865475, 0.7071067811865475], [0.7071067811865475, 0.7071067811865475]], [[0.7071067811865475, 0.7071067811865475], [0.7071067811865475, 0.7071067811865475]]]\n"
     ]
    }
   ],
   "source": [
    "print(initialiser_q(5, 2))"
   ],
   "metadata": {
    "collapsed": false,
    "ExecuteTime": {
     "end_time": "2023-12-20T11:24:27.694798Z",
     "start_time": "2023-12-20T11:24:27.677818Z"
    }
   },
   "id": "2d824822919b4800"
  },
  {
   "cell_type": "code",
   "execution_count": 1029,
   "outputs": [],
   "source": [
    "def initialiser_p(n, m, Q):\n",
    "    P = []\n",
    "    for i in range(n):\n",
    "        aux = []\n",
    "        for j in range(m):\n",
    "            r = np.random.rand()\n",
    "            if r < Q[i][0][j]**2:\n",
    "                aux.append(0)\n",
    "            else:\n",
    "                aux.append(1)\n",
    "        P.append(aux)\n",
    "    return P"
   ],
   "metadata": {
    "collapsed": false,
    "ExecuteTime": {
     "end_time": "2023-12-20T11:24:27.726704Z",
     "start_time": "2023-12-20T11:24:27.697030Z"
    }
   },
   "id": "64517a5734162b8b"
  },
  {
   "cell_type": "code",
   "execution_count": 1030,
   "outputs": [
    {
     "name": "stdout",
     "output_type": "stream",
     "text": [
      "[[0, 1], [1, 0], [1, 0], [1, 0], [0, 0]]\n"
     ]
    }
   ],
   "source": [
    "print(initialiser_p(5, 2, initialiser_q(5, 2)))"
   ],
   "metadata": {
    "collapsed": false,
    "ExecuteTime": {
     "end_time": "2023-12-20T11:24:27.728177Z",
     "start_time": "2023-12-20T11:24:27.700751Z"
    }
   },
   "id": "11e5ddff39523fc5"
  },
  {
   "cell_type": "code",
   "execution_count": 1031,
   "outputs": [],
   "source": [
    "def evaluer_fitness(P, arg_weights, arg_values, arg_max_weight):\n",
    "    tab_fitness = []\n",
    "    for i in range(len(P)):\n",
    "        S1 = np.sum(P[i] * arg_values)\n",
    "        S2 = np.sum(P[i] * arg_weights)\n",
    "        if S2 > arg_max_weight:\n",
    "            tab_fitness.append(0)\n",
    "        else:\n",
    "            tab_fitness.append(S1)\n",
    "    return tab_fitness"
   ],
   "metadata": {
    "collapsed": false,
    "ExecuteTime": {
     "end_time": "2023-12-20T11:24:27.788716Z",
     "start_time": "2023-12-20T11:24:27.730214Z"
    }
   },
   "id": "3732e549e58a1660"
  },
  {
   "cell_type": "code",
   "execution_count": 1032,
   "outputs": [
    {
     "name": "stdout",
     "output_type": "stream",
     "text": [
      "[0, 60, 0, 0, 0]\n"
     ]
    }
   ],
   "source": [
    "print(evaluer_fitness(initialiser_p(5, 2, initialiser_q(5, 2)), weights_q, values_q, max_weight_q))"
   ],
   "metadata": {
    "collapsed": false,
    "ExecuteTime": {
     "end_time": "2023-12-20T11:24:27.824908Z",
     "start_time": "2023-12-20T11:24:27.763529Z"
    }
   },
   "id": "ddf30dbfb9ff2ece"
  },
  {
   "cell_type": "code",
   "execution_count": 1033,
   "outputs": [],
   "source": [
    "def recuperer_meilleur(P, arg_fitness):\n",
    "    return P[np.argmax(arg_fitness)], np.max(arg_fitness)"
   ],
   "metadata": {
    "collapsed": false,
    "ExecuteTime": {
     "end_time": "2023-12-20T11:24:27.858388Z",
     "start_time": "2023-12-20T11:24:27.826533Z"
    }
   },
   "id": "83fc3485148c0f2f"
  },
  {
   "cell_type": "code",
   "execution_count": 1034,
   "outputs": [
    {
     "name": "stdout",
     "output_type": "stream",
     "text": [
      "([1, 0], 60)\n"
     ]
    }
   ],
   "source": [
    "sol = initialiser_p(5, 2, initialiser_q(5, 2))\n",
    "\n",
    "print(recuperer_meilleur(sol, evaluer_fitness(sol, weights_q, values_q, max_weight_q)))"
   ],
   "metadata": {
    "collapsed": false,
    "ExecuteTime": {
     "end_time": "2023-12-20T11:24:27.873189Z",
     "start_time": "2023-12-20T11:24:27.858996Z"
    }
   },
   "id": "72a6e5c848808850"
  },
  {
   "cell_type": "code",
   "execution_count": 1035,
   "outputs": [
    {
     "name": "stdout",
     "output_type": "stream",
     "text": [
      "(-0.5772035741693046, 0.40845566952385437)\n"
     ]
    }
   ],
   "source": [
    "import random as r\n",
    "\n",
    "def calcule_alpha_beta(alpha, beta, gamma):\n",
    "    alpha_prime = alpha * np.cos(gamma) - beta * np.sin(gamma)\n",
    "    beta_prime = alpha * np.sin(gamma) + beta * np.cos(gamma)\n",
    "    return alpha_prime, beta_prime\n",
    "\n",
    "print(calcule_alpha_beta(0.5, 0.5, np.random.rand() * np.pi))\n",
    "\n",
    "def update(Q):\n",
    "    for i in range(len(Q)):\n",
    "        for j in range(len(Q[i])):\n",
    "            alpha = Q[i][0][j]\n",
    "            beta = Q[i][1][j]\n",
    "            gamma = r.random() * np.pi\n",
    "            alpha_prime, beta_prime = calcule_alpha_beta(alpha, beta, gamma)\n",
    "            Q[i][0][j] = alpha_prime\n",
    "            Q[i][1][j] = beta_prime\n",
    "    return Q"
   ],
   "metadata": {
    "collapsed": false,
    "ExecuteTime": {
     "end_time": "2023-12-20T11:24:27.910332Z",
     "start_time": "2023-12-20T11:24:27.875786Z"
    }
   },
   "id": "d1806f666e998881"
  },
  {
   "cell_type": "code",
   "execution_count": 1036,
   "outputs": [
    {
     "name": "stdout",
     "output_type": "stream",
     "text": [
      "[[[-1.0127099091680691, 0.2652309535462921], [-1.0127099091680691, 0.2652309535462921]], [[-1.0127099091680691, 0.2652309535462921], [-1.0127099091680691, 0.2652309535462921]], [[-1.0127099091680691, 0.2652309535462921], [-1.0127099091680691, 0.2652309535462921]], [[-1.0127099091680691, 0.2652309535462921], [-1.0127099091680691, 0.2652309535462921]], [[-1.0127099091680691, 0.2652309535462921], [-1.0127099091680691, 0.2652309535462921]]]\n"
     ]
    }
   ],
   "source": [
    "print(update(initialiser_q(5, 2)))"
   ],
   "metadata": {
    "collapsed": false,
    "ExecuteTime": {
     "end_time": "2023-12-20T11:24:27.945651Z",
     "start_time": "2023-12-20T11:24:27.879412Z"
    }
   },
   "id": "6a788c828e46e0a2"
  },
  {
   "cell_type": "code",
   "execution_count": 1037,
   "outputs": [],
   "source": [
    "# Créer 𝑃(𝑡) en observant 𝑄(𝑡) et évaluer 𝑃(𝑡) : Sur la base de l'observation de 𝑄(𝑡), les solutions binaires 𝑃(𝑡) sont formées  \n",
    "\n",
    "def creer_p(Q):\n",
    "    P = []\n",
    "    for i in range(len(Q)):\n",
    "        aux = []\n",
    "        for j in range(len(Q[i][1])):\n",
    "            r = np.random.rand()\n",
    "            if r < Q[i][0][j]**2:\n",
    "                aux.append(0)\n",
    "            else:\n",
    "                aux.append(1)\n",
    "        P.append(aux)\n",
    "    return P"
   ],
   "metadata": {
    "collapsed": false,
    "ExecuteTime": {
     "end_time": "2023-12-20T11:24:27.958183Z",
     "start_time": "2023-12-20T11:24:27.914034Z"
    }
   },
   "id": "d1c2e3d9d6270aa1"
  },
  {
   "cell_type": "code",
   "execution_count": 1038,
   "outputs": [
    {
     "name": "stdout",
     "output_type": "stream",
     "text": [
      "[[1, 0], [1, 1], [0, 1], [0, 0], [1, 0]]\n"
     ]
    }
   ],
   "source": [
    "print(creer_p(initialiser_q(5, 2)))"
   ],
   "metadata": {
    "collapsed": false,
    "ExecuteTime": {
     "end_time": "2023-12-20T11:24:28.025935Z",
     "start_time": "2023-12-20T11:24:27.952757Z"
    }
   },
   "id": "602236776fe3ea9c"
  },
  {
   "cell_type": "code",
   "execution_count": 1039,
   "outputs": [],
   "source": [
    "# Algorithme quantique\n",
    "\n",
    "def algorithme_quantique(n, m, arg_weights, arg_values, arg_max_weight, nb_iterations):\n",
    "    Q = initialiser_q(n, m)\n",
    "    B = []\n",
    "    for i in range(nb_iterations):\n",
    "        Q = update(Q)\n",
    "        P = creer_p(Q)\n",
    "        fct_fitness = evaluer_fitness(P, arg_weights, arg_values, arg_max_weight)\n",
    "        P, fct_fitness = recuperer_meilleur(P, fct_fitness)\n",
    "        B.append([P, fct_fitness])\n",
    "    return B"
   ],
   "metadata": {
    "collapsed": false,
    "ExecuteTime": {
     "end_time": "2023-12-20T11:24:28.030696Z",
     "start_time": "2023-12-20T11:24:28.013954Z"
    }
   },
   "id": "8c036be4383d0f42"
  },
  {
   "cell_type": "code",
   "execution_count": 1040,
   "outputs": [
    {
     "name": "stdout",
     "output_type": "stream",
     "text": [
      "[[[1, 1], 0], [[1, 1], 0], [[1, 1], 0], [[1, 1], 0], [[1, 1], 0], [[1, 1], 0], [[1, 1], 0], [[1, 1], 0], [[1, 1], 0], [[1, 1], 0]]\n"
     ]
    }
   ],
   "source": [
    "print(algorithme_quantique(5, 2, weights_q, values_q, max_weight_q, 10))"
   ],
   "metadata": {
    "collapsed": false,
    "ExecuteTime": {
     "end_time": "2023-12-20T11:24:28.092983Z",
     "start_time": "2023-12-20T11:24:28.033085Z"
    }
   },
   "id": "59fae12809bfaa2"
  },
  {
   "cell_type": "code",
   "execution_count": 1041,
   "outputs": [
    {
     "name": "stdout",
     "output_type": "stream",
     "text": [
      "[[[1, 1, 0, 0, 0], 160], [[1, 1, 0, 0, 0], 160], [[1, 1, 0, 0, 0], 160], [[1, 1, 0, 0, 0], 160], [[1, 1, 0, 0, 0], 160], [[1, 1, 0, 0, 0], 160], [[1, 1, 0, 0, 0], 160], [[1, 1, 0, 0, 0], 160], [[1, 1, 0, 0, 0], 160], [[1, 1, 0, 0, 0], 160], [[1, 1, 0, 0, 0], 160], [[1, 1, 0, 0, 0], 160], [[1, 1, 0, 0, 0], 160], [[1, 1, 0, 0, 0], 160], [[1, 1, 0, 0, 0], 160], [[1, 1, 0, 0, 0], 160], [[1, 1, 0, 0, 0], 160], [[1, 1, 0, 0, 0], 160], [[1, 1, 0, 0, 0], 160], [[1, 1, 0, 0, 0], 160], [[1, 1, 0, 0, 0], 160], [[1, 1, 0, 0, 0], 160], [[1, 1, 0, 0, 0], 160], [[1, 1, 0, 0, 0], 160], [[1, 1, 0, 0, 0], 160], [[1, 1, 0, 0, 0], 160], [[1, 1, 0, 0, 0], 160], [[1, 1, 0, 0, 0], 160], [[1, 1, 0, 0, 0], 160], [[1, 1, 0, 0, 0], 160], [[1, 1, 0, 0, 0], 160], [[1, 1, 0, 0, 0], 160], [[1, 1, 0, 0, 0], 160], [[1, 1, 0, 0, 0], 160], [[1, 1, 0, 0, 0], 160], [[1, 1, 0, 0, 0], 160], [[1, 1, 0, 0, 0], 160], [[1, 1, 0, 0, 0], 160], [[1, 1, 0, 0, 0], 160], [[1, 1, 0, 0, 0], 160], [[1, 1, 0, 0, 0], 160], [[1, 1, 0, 0, 0], 160], [[1, 1, 0, 0, 0], 160], [[1, 1, 0, 0, 0], 160], [[1, 1, 0, 0, 0], 160], [[1, 1, 0, 0, 0], 160], [[1, 1, 0, 0, 0], 160], [[1, 1, 0, 0, 0], 160], [[1, 1, 0, 0, 0], 160], [[1, 1, 0, 0, 0], 160], [[1, 1, 0, 0, 0], 160], [[1, 1, 0, 0, 0], 160], [[1, 1, 0, 0, 0], 160], [[1, 1, 0, 0, 0], 160], [[1, 1, 0, 0, 0], 160], [[1, 1, 0, 0, 0], 160], [[1, 1, 0, 0, 0], 160], [[1, 1, 0, 0, 0], 160], [[1, 1, 0, 0, 0], 160], [[1, 1, 0, 0, 0], 160], [[1, 1, 0, 0, 0], 160], [[1, 1, 0, 0, 0], 160], [[1, 1, 0, 0, 0], 160], [[1, 1, 0, 0, 0], 160], [[1, 1, 0, 0, 0], 160], [[1, 1, 0, 0, 0], 160], [[1, 1, 0, 0, 0], 160], [[1, 1, 0, 0, 0], 160], [[1, 1, 0, 0, 0], 160], [[1, 1, 0, 0, 0], 160], [[1, 1, 0, 0, 0], 160], [[1, 1, 0, 0, 0], 160], [[1, 1, 0, 0, 0], 160], [[1, 1, 0, 0, 0], 160], [[1, 1, 0, 0, 0], 160], [[1, 1, 0, 0, 0], 160], [[1, 1, 0, 0, 0], 160], [[1, 1, 0, 0, 0], 160], [[1, 1, 0, 0, 0], 160], [[1, 1, 0, 0, 0], 160], [[1, 1, 0, 0, 0], 160], [[1, 1, 0, 0, 0], 160], [[1, 1, 0, 0, 0], 160], [[1, 1, 0, 0, 0], 160], [[1, 1, 0, 0, 0], 160], [[1, 1, 0, 0, 0], 160], [[1, 1, 0, 0, 0], 160], [[1, 1, 0, 0, 0], 160], [[1, 1, 0, 0, 0], 160], [[1, 1, 0, 0, 0], 160], [[1, 1, 0, 0, 0], 160], [[1, 1, 0, 0, 0], 160], [[1, 1, 0, 0, 0], 160], [[1, 1, 0, 0, 0], 160], [[1, 1, 0, 0, 0], 160], [[1, 1, 0, 0, 0], 160], [[1, 1, 0, 0, 0], 160], [[1, 1, 0, 0, 0], 160], [[1, 1, 0, 0, 0], 160], [[1, 1, 0, 0, 0], 160], [[1, 1, 0, 0, 0], 160], [[1, 1, 0, 0, 0], 160], [[1, 1, 0, 0, 0], 160], [[1, 1, 0, 0, 0], 160], [[1, 1, 0, 0, 0], 160], [[1, 1, 0, 0, 0], 160], [[1, 1, 0, 0, 0], 160], [[1, 1, 0, 0, 0], 160], [[1, 1, 0, 0, 0], 160], [[1, 1, 0, 0, 0], 160], [[1, 1, 0, 0, 0], 160], [[1, 1, 0, 0, 0], 160], [[1, 1, 0, 0, 0], 160], [[1, 1, 0, 0, 0], 160], [[1, 1, 0, 0, 0], 160], [[1, 1, 0, 0, 0], 160], [[1, 1, 0, 0, 0], 160], [[1, 1, 0, 0, 0], 160], [[1, 1, 0, 0, 0], 160], [[1, 1, 0, 0, 0], 160], [[1, 1, 0, 0, 0], 160], [[1, 1, 0, 0, 0], 160], [[1, 1, 0, 0, 0], 160], [[1, 1, 0, 0, 0], 160], [[1, 1, 0, 0, 0], 160], [[1, 1, 0, 0, 0], 160], [[1, 1, 0, 0, 0], 160], [[1, 1, 0, 0, 0], 160], [[1, 1, 0, 0, 0], 160], [[1, 1, 0, 0, 0], 160], [[1, 1, 0, 0, 0], 160], [[1, 1, 0, 0, 0], 160], [[1, 1, 0, 0, 0], 160], [[1, 1, 0, 0, 0], 160], [[1, 1, 0, 0, 0], 160], [[1, 1, 0, 0, 0], 160], [[1, 1, 0, 0, 0], 160], [[1, 1, 0, 0, 0], 160], [[1, 1, 0, 0, 0], 160], [[1, 1, 0, 0, 0], 160], [[1, 1, 0, 0, 0], 160], [[1, 1, 0, 0, 0], 160], [[1, 1, 0, 0, 0], 160], [[1, 1, 0, 0, 0], 160], [[1, 1, 0, 0, 0], 160], [[1, 1, 0, 0, 0], 160], [[1, 1, 0, 0, 0], 160], [[1, 1, 0, 0, 0], 160], [[1, 1, 0, 0, 0], 160], [[1, 1, 0, 0, 0], 160], [[1, 1, 0, 0, 0], 160], [[1, 1, 0, 0, 0], 160], [[1, 1, 0, 0, 0], 160], [[1, 1, 0, 0, 0], 160], [[1, 1, 0, 0, 0], 160], [[1, 1, 0, 0, 0], 160], [[1, 1, 0, 0, 0], 160], [[1, 1, 0, 0, 0], 160], [[1, 1, 0, 0, 0], 160], [[1, 1, 0, 0, 0], 160], [[1, 1, 0, 0, 0], 160], [[1, 1, 0, 0, 0], 160], [[1, 1, 0, 0, 0], 160], [[1, 1, 0, 0, 0], 160], [[1, 1, 0, 0, 0], 160], [[1, 1, 0, 0, 0], 160], [[1, 1, 0, 0, 0], 160], [[1, 1, 0, 0, 0], 160], [[1, 1, 0, 0, 0], 160], [[1, 1, 0, 0, 0], 160], [[1, 1, 0, 0, 0], 160], [[1, 1, 0, 0, 0], 160], [[1, 1, 0, 0, 0], 160], [[1, 1, 0, 0, 0], 160], [[1, 1, 0, 0, 0], 160], [[1, 1, 0, 0, 0], 160], [[1, 1, 0, 0, 0], 160], [[1, 1, 0, 0, 0], 160], [[1, 1, 0, 0, 0], 160], [[1, 1, 0, 0, 0], 160], [[1, 1, 0, 0, 0], 160], [[1, 1, 0, 0, 0], 160], [[1, 1, 0, 0, 0], 160], [[1, 1, 0, 0, 0], 160], [[1, 1, 0, 0, 0], 160], [[1, 1, 0, 0, 0], 160], [[1, 1, 0, 0, 0], 160], [[1, 1, 0, 0, 0], 160], [[1, 1, 0, 0, 0], 160], [[1, 1, 0, 0, 0], 160], [[1, 1, 0, 0, 0], 160], [[1, 1, 0, 0, 0], 160], [[1, 1, 0, 0, 0], 160], [[1, 1, 0, 0, 0], 160], [[1, 1, 0, 0, 0], 160], [[1, 1, 0, 0, 0], 160], [[1, 1, 0, 0, 0], 160], [[1, 1, 0, 0, 0], 160], [[1, 1, 0, 0, 0], 160], [[1, 1, 0, 0, 0], 160], [[1, 1, 0, 0, 0], 160], [[1, 1, 0, 0, 0], 160], [[1, 1, 0, 0, 0], 160], [[1, 1, 0, 0, 0], 160], [[1, 1, 0, 0, 0], 160], [[1, 1, 0, 0, 0], 160], [[1, 1, 0, 0, 0], 160], [[1, 1, 0, 0, 0], 160], [[1, 1, 0, 0, 0], 160], [[1, 1, 0, 0, 0], 160], [[1, 1, 0, 0, 0], 160], [[1, 1, 0, 0, 0], 160], [[1, 1, 0, 0, 0], 160], [[1, 1, 0, 0, 0], 160], [[1, 1, 0, 0, 0], 160], [[1, 1, 0, 0, 0], 160], [[1, 1, 0, 0, 0], 160], [[1, 1, 0, 0, 0], 160], [[1, 1, 0, 0, 0], 160], [[1, 1, 0, 0, 0], 160], [[1, 1, 0, 0, 0], 160], [[1, 1, 0, 0, 0], 160], [[1, 1, 0, 0, 0], 160], [[1, 1, 0, 0, 0], 160], [[1, 1, 0, 0, 0], 160], [[1, 1, 0, 0, 0], 160], [[1, 1, 0, 0, 0], 160], [[1, 1, 0, 0, 0], 160], [[1, 1, 0, 0, 0], 160], [[1, 1, 0, 0, 0], 160], [[1, 1, 0, 0, 0], 160], [[1, 1, 0, 0, 0], 160], [[1, 1, 0, 0, 0], 160], [[1, 1, 0, 0, 0], 160], [[1, 1, 0, 0, 0], 160], [[1, 1, 0, 0, 0], 160], [[1, 1, 0, 0, 0], 160], [[1, 1, 0, 0, 0], 160], [[1, 1, 0, 0, 0], 160], [[1, 1, 0, 0, 0], 160], [[1, 1, 0, 0, 0], 160], [[1, 1, 0, 0, 0], 160], [[1, 1, 0, 0, 0], 160], [[1, 1, 0, 0, 0], 160], [[1, 1, 0, 0, 0], 160], [[1, 1, 0, 0, 0], 160], [[1, 1, 0, 0, 0], 160], [[1, 1, 0, 0, 0], 160], [[1, 1, 0, 0, 0], 160], [[1, 1, 0, 0, 0], 160], [[1, 1, 0, 0, 0], 160], [[1, 1, 0, 0, 0], 160], [[1, 1, 0, 0, 0], 160], [[1, 1, 0, 0, 0], 160], [[1, 1, 0, 0, 0], 160], [[1, 1, 0, 0, 0], 160], [[1, 1, 0, 0, 0], 160], [[1, 1, 0, 0, 0], 160], [[1, 1, 0, 0, 0], 160], [[1, 1, 0, 0, 0], 160], [[1, 1, 0, 0, 0], 160], [[1, 1, 0, 0, 0], 160], [[1, 1, 0, 0, 0], 160], [[1, 1, 0, 0, 0], 160], [[1, 1, 0, 0, 0], 160], [[1, 1, 0, 0, 0], 160], [[1, 1, 0, 0, 0], 160], [[1, 1, 0, 0, 0], 160], [[1, 1, 0, 0, 0], 160], [[1, 1, 0, 0, 0], 160], [[1, 1, 0, 0, 0], 160], [[1, 1, 0, 0, 0], 160], [[1, 1, 0, 0, 0], 160], [[1, 1, 0, 0, 0], 160], [[1, 1, 0, 0, 0], 160], [[1, 1, 0, 0, 0], 160], [[1, 1, 0, 0, 0], 160], [[1, 1, 0, 0, 0], 160], [[1, 1, 0, 0, 0], 160], [[1, 1, 0, 0, 0], 160], [[1, 1, 0, 0, 0], 160], [[1, 1, 0, 0, 0], 160], [[1, 1, 0, 0, 0], 160], [[1, 1, 0, 0, 0], 160], [[1, 1, 0, 0, 0], 160], [[1, 1, 0, 0, 0], 160], [[1, 1, 0, 0, 0], 160], [[1, 1, 0, 0, 0], 160], [[1, 1, 0, 0, 0], 160], [[1, 1, 0, 0, 0], 160], [[1, 1, 0, 0, 0], 160], [[1, 1, 0, 0, 0], 160], [[1, 1, 0, 0, 0], 160], [[1, 1, 0, 0, 0], 160], [[1, 1, 0, 0, 0], 160], [[1, 1, 0, 0, 0], 160], [[1, 1, 0, 0, 0], 160], [[1, 1, 0, 0, 0], 160], [[1, 1, 0, 0, 0], 160], [[1, 1, 0, 0, 0], 160], [[1, 1, 0, 0, 0], 160], [[1, 1, 0, 0, 0], 160], [[1, 1, 0, 0, 0], 160], [[1, 1, 0, 0, 0], 160], [[1, 1, 0, 0, 0], 160], [[1, 1, 0, 0, 0], 160], [[1, 1, 0, 0, 0], 160], [[1, 1, 0, 0, 0], 160], [[1, 1, 0, 0, 0], 160], [[1, 1, 0, 0, 0], 160], [[1, 1, 0, 0, 0], 160], [[1, 1, 0, 0, 0], 160], [[1, 1, 0, 0, 0], 160], [[1, 1, 0, 0, 0], 160], [[1, 1, 0, 0, 0], 160], [[1, 1, 0, 0, 0], 160], [[1, 1, 0, 0, 0], 160], [[1, 1, 0, 0, 0], 160], [[1, 1, 0, 0, 0], 160], [[1, 1, 0, 0, 0], 160], [[1, 1, 0, 0, 0], 160], [[1, 1, 0, 0, 0], 160], [[1, 1, 0, 0, 0], 160], [[1, 1, 0, 0, 0], 160], [[1, 1, 0, 0, 0], 160], [[1, 1, 0, 0, 0], 160], [[1, 1, 0, 0, 0], 160], [[1, 1, 0, 0, 0], 160], [[1, 1, 0, 0, 0], 160], [[1, 1, 0, 0, 0], 160], [[1, 1, 0, 0, 0], 160], [[1, 1, 0, 0, 0], 160], [[1, 1, 0, 0, 0], 160], [[1, 1, 0, 0, 0], 160], [[1, 1, 0, 0, 0], 160], [[1, 1, 0, 0, 0], 160], [[1, 1, 0, 0, 0], 160], [[1, 1, 0, 0, 0], 160], [[1, 1, 0, 0, 0], 160], [[1, 1, 0, 0, 0], 160], [[1, 1, 0, 0, 0], 160], [[1, 1, 0, 0, 0], 160], [[1, 1, 0, 0, 0], 160], [[1, 1, 0, 0, 0], 160], [[1, 1, 0, 0, 0], 160], [[1, 1, 0, 0, 0], 160], [[1, 1, 0, 0, 0], 160], [[1, 1, 0, 0, 0], 160], [[1, 1, 0, 0, 0], 160], [[1, 1, 0, 0, 0], 160], [[1, 1, 0, 0, 0], 160], [[1, 1, 0, 0, 0], 160], [[1, 1, 0, 0, 0], 160], [[1, 1, 0, 0, 0], 160], [[1, 1, 0, 0, 0], 160], [[1, 1, 0, 0, 0], 160], [[1, 1, 0, 0, 0], 160], [[1, 1, 0, 0, 0], 160], [[1, 1, 0, 0, 0], 160], [[1, 1, 0, 0, 0], 160], [[1, 1, 0, 0, 0], 160], [[1, 1, 0, 0, 0], 160], [[1, 1, 0, 0, 0], 160], [[1, 1, 0, 0, 0], 160], [[1, 1, 0, 0, 0], 160], [[1, 1, 0, 0, 0], 160], [[1, 1, 0, 0, 0], 160], [[1, 1, 0, 0, 0], 160], [[1, 1, 0, 0, 0], 160], [[1, 1, 0, 0, 0], 160], [[1, 1, 0, 0, 0], 160], [[1, 1, 0, 0, 0], 160], [[1, 1, 0, 0, 0], 160], [[1, 1, 0, 0, 0], 160], [[1, 1, 0, 0, 0], 160], [[1, 1, 0, 0, 0], 160], [[1, 1, 0, 0, 0], 160], [[1, 1, 0, 0, 0], 160], [[1, 1, 0, 0, 0], 160], [[1, 1, 0, 0, 0], 160], [[1, 1, 0, 0, 0], 160], [[1, 1, 0, 0, 0], 160], [[1, 1, 0, 0, 0], 160], [[1, 1, 0, 0, 0], 160], [[1, 1, 0, 0, 0], 160], [[1, 1, 0, 0, 0], 160], [[1, 1, 0, 0, 0], 160], [[1, 1, 0, 0, 0], 160], [[1, 1, 0, 0, 0], 160], [[1, 1, 0, 0, 0], 160], [[1, 1, 0, 0, 0], 160], [[1, 1, 0, 0, 0], 160], [[1, 1, 0, 0, 0], 160], [[1, 1, 0, 0, 0], 160], [[1, 1, 0, 0, 0], 160], [[1, 1, 0, 0, 0], 160], [[1, 1, 0, 0, 0], 160], [[1, 1, 0, 0, 0], 160], [[1, 1, 0, 0, 0], 160], [[1, 1, 0, 0, 0], 160], [[1, 1, 0, 0, 0], 160], [[1, 1, 0, 0, 0], 160], [[1, 1, 0, 0, 0], 160], [[1, 1, 0, 0, 0], 160], [[1, 1, 0, 0, 0], 160], [[1, 1, 0, 0, 0], 160], [[1, 1, 0, 0, 0], 160], [[1, 1, 0, 0, 0], 160], [[1, 1, 0, 0, 0], 160], [[1, 1, 0, 0, 0], 160], [[1, 1, 0, 0, 0], 160], [[1, 1, 0, 0, 0], 160], [[1, 1, 0, 0, 0], 160], [[1, 1, 0, 0, 0], 160], [[1, 1, 0, 0, 0], 160], [[1, 1, 0, 0, 0], 160], [[1, 1, 0, 0, 0], 160], [[1, 1, 0, 0, 0], 160], [[1, 1, 0, 0, 0], 160], [[1, 1, 0, 0, 0], 160], [[1, 1, 0, 0, 0], 160], [[1, 1, 0, 0, 0], 160], [[1, 1, 0, 0, 0], 160], [[1, 1, 0, 0, 0], 160], [[1, 1, 0, 0, 0], 160], [[1, 1, 0, 0, 0], 160], [[1, 1, 0, 0, 0], 160], [[1, 1, 0, 0, 0], 160], [[1, 1, 0, 0, 0], 160], [[1, 1, 0, 0, 0], 160], [[1, 1, 0, 0, 0], 160], [[1, 1, 0, 0, 0], 160], [[1, 1, 0, 0, 0], 160], [[1, 1, 0, 0, 0], 160], [[1, 1, 0, 0, 0], 160], [[1, 1, 0, 0, 0], 160], [[1, 1, 0, 0, 0], 160], [[1, 1, 0, 0, 0], 160], [[1, 1, 0, 0, 0], 160], [[1, 1, 0, 0, 0], 160], [[1, 1, 0, 0, 0], 160], [[1, 1, 0, 0, 0], 160], [[1, 1, 0, 0, 0], 160], [[1, 1, 0, 0, 0], 160], [[1, 1, 0, 0, 0], 160], [[1, 1, 0, 0, 0], 160], [[1, 1, 0, 0, 0], 160], [[1, 1, 0, 0, 0], 160], [[1, 1, 0, 0, 0], 160], [[1, 1, 0, 0, 0], 160], [[1, 1, 0, 0, 0], 160], [[1, 1, 0, 0, 0], 160], [[1, 1, 0, 0, 0], 160], [[1, 1, 0, 0, 0], 160], [[1, 1, 0, 0, 0], 160], [[1, 1, 0, 0, 0], 160], [[1, 1, 0, 0, 0], 160], [[1, 1, 0, 0, 0], 160], [[1, 1, 0, 0, 0], 160], [[1, 1, 0, 0, 0], 160], [[1, 1, 0, 0, 0], 160], [[1, 1, 0, 0, 0], 160], [[1, 1, 0, 0, 0], 160], [[1, 1, 0, 0, 0], 160], [[1, 1, 0, 0, 0], 160], [[1, 1, 0, 0, 0], 160], [[1, 1, 0, 0, 0], 160], [[1, 1, 0, 0, 0], 160], [[1, 1, 0, 0, 0], 160], [[1, 1, 0, 0, 0], 160], [[1, 1, 0, 0, 0], 160], [[1, 1, 0, 0, 0], 160], [[1, 1, 0, 0, 0], 160], [[1, 1, 0, 0, 0], 160], [[1, 1, 0, 0, 0], 160], [[1, 1, 0, 0, 0], 160], [[1, 1, 0, 0, 0], 160], [[1, 1, 0, 0, 0], 160], [[1, 1, 0, 0, 0], 160], [[1, 1, 0, 0, 0], 160], [[1, 1, 0, 0, 0], 160], [[1, 1, 0, 0, 0], 160], [[1, 1, 0, 0, 0], 160], [[1, 1, 0, 0, 0], 160], [[1, 1, 0, 0, 0], 160], [[1, 1, 0, 0, 0], 160], [[1, 1, 0, 0, 0], 160], [[1, 1, 0, 0, 0], 160], [[1, 1, 0, 0, 0], 160], [[1, 1, 0, 0, 0], 160], [[1, 1, 0, 0, 0], 160], [[1, 1, 0, 0, 0], 160], [[1, 1, 0, 0, 0], 160], [[1, 1, 0, 0, 0], 160], [[1, 1, 0, 0, 0], 160], [[1, 1, 0, 0, 0], 160], [[1, 1, 0, 0, 0], 160], [[1, 1, 0, 0, 0], 160], [[1, 1, 0, 0, 0], 160], [[1, 1, 0, 0, 0], 160], [[1, 1, 0, 0, 0], 160], [[1, 1, 0, 0, 0], 160], [[1, 1, 0, 0, 0], 160], [[1, 1, 0, 0, 0], 160], [[1, 1, 0, 0, 0], 160], [[1, 1, 0, 0, 0], 160], [[1, 1, 0, 0, 0], 160], [[1, 1, 0, 0, 0], 160], [[1, 1, 0, 0, 0], 160], [[1, 1, 0, 0, 0], 160], [[1, 1, 0, 0, 0], 160], [[1, 1, 0, 0, 0], 160], [[1, 1, 0, 0, 0], 160], [[1, 1, 0, 0, 0], 160], [[1, 1, 0, 0, 0], 160], [[1, 1, 0, 0, 0], 160], [[1, 1, 0, 0, 0], 160], [[1, 1, 0, 0, 0], 160], [[1, 1, 0, 0, 0], 160], [[1, 1, 0, 0, 0], 160], [[1, 1, 0, 0, 0], 160], [[1, 1, 0, 0, 0], 160], [[1, 1, 0, 0, 0], 160], [[1, 1, 0, 0, 0], 160], [[1, 1, 0, 0, 0], 160], [[1, 1, 0, 0, 0], 160], [[1, 1, 0, 0, 0], 160], [[1, 1, 0, 0, 0], 160], [[1, 1, 0, 0, 0], 160], [[1, 1, 0, 0, 0], 160], [[1, 1, 0, 0, 0], 160], [[1, 1, 0, 0, 0], 160], [[1, 1, 0, 0, 0], 160], [[1, 1, 0, 0, 0], 160], [[1, 1, 0, 0, 0], 160], [[1, 1, 0, 0, 0], 160], [[1, 1, 0, 0, 0], 160], [[1, 1, 0, 0, 0], 160], [[1, 1, 0, 0, 0], 160], [[1, 1, 0, 0, 0], 160], [[1, 1, 0, 0, 0], 160], [[1, 1, 0, 0, 0], 160], [[1, 1, 0, 0, 0], 160], [[1, 1, 0, 0, 0], 160], [[1, 1, 0, 0, 0], 160], [[1, 1, 0, 0, 0], 160], [[1, 1, 0, 0, 0], 160], [[1, 1, 0, 0, 0], 160], [[1, 1, 0, 0, 0], 160], [[1, 1, 0, 0, 0], 160], [[1, 1, 0, 0, 0], 160], [[1, 1, 0, 0, 0], 160], [[1, 1, 0, 0, 0], 160], [[1, 1, 0, 0, 0], 160], [[1, 1, 0, 0, 0], 160], [[1, 1, 0, 0, 0], 160], [[1, 1, 0, 0, 0], 160], [[1, 1, 0, 0, 0], 160], [[1, 1, 0, 0, 0], 160], [[1, 1, 0, 0, 0], 160], [[1, 1, 0, 0, 0], 160], [[1, 1, 0, 0, 0], 160], [[1, 1, 0, 0, 0], 160], [[1, 1, 0, 0, 0], 160], [[1, 1, 0, 0, 0], 160], [[1, 1, 0, 0, 0], 160], [[1, 1, 0, 0, 0], 160], [[1, 1, 0, 0, 0], 160], [[1, 1, 0, 0, 0], 160], [[1, 1, 0, 0, 0], 160], [[1, 1, 0, 0, 0], 160], [[1, 1, 0, 0, 0], 160], [[1, 1, 0, 0, 0], 160], [[1, 1, 0, 0, 0], 160], [[1, 1, 0, 0, 0], 160], [[1, 1, 0, 0, 0], 160], [[1, 1, 0, 0, 0], 160], [[1, 1, 0, 0, 0], 160], [[1, 1, 0, 0, 0], 160], [[1, 1, 0, 0, 0], 160], [[1, 1, 0, 0, 0], 160], [[1, 1, 0, 0, 0], 160], [[1, 1, 0, 0, 0], 160], [[1, 1, 0, 0, 0], 160], [[1, 1, 0, 0, 0], 160], [[1, 1, 0, 0, 0], 160], [[1, 1, 0, 0, 0], 160], [[1, 1, 0, 0, 0], 160], [[1, 1, 0, 0, 0], 160], [[1, 1, 0, 0, 0], 160], [[1, 1, 0, 0, 0], 160], [[1, 1, 0, 0, 0], 160], [[1, 1, 0, 0, 0], 160], [[1, 1, 0, 0, 0], 160], [[1, 1, 0, 0, 0], 160], [[1, 1, 0, 0, 0], 160], [[1, 1, 0, 0, 0], 160], [[1, 1, 0, 0, 0], 160], [[1, 1, 0, 0, 0], 160], [[1, 1, 0, 0, 0], 160], [[1, 1, 0, 0, 0], 160], [[1, 1, 0, 0, 0], 160], [[1, 1, 0, 0, 0], 160], [[1, 1, 0, 0, 0], 160], [[1, 1, 0, 0, 0], 160], [[1, 1, 0, 0, 0], 160], [[1, 1, 0, 0, 0], 160], [[1, 1, 0, 0, 0], 160], [[1, 1, 0, 0, 0], 160], [[1, 1, 0, 0, 0], 160], [[1, 1, 0, 0, 0], 160], [[1, 1, 0, 0, 0], 160], [[1, 1, 0, 0, 0], 160], [[1, 1, 0, 0, 0], 160], [[1, 1, 0, 0, 0], 160], [[1, 1, 0, 0, 0], 160], [[1, 1, 0, 0, 0], 160], [[1, 1, 0, 0, 0], 160], [[1, 1, 0, 0, 0], 160], [[1, 1, 0, 0, 0], 160], [[1, 1, 0, 0, 0], 160], [[1, 1, 0, 0, 0], 160], [[1, 1, 0, 0, 0], 160], [[1, 1, 0, 0, 0], 160], [[1, 1, 0, 0, 0], 160], [[1, 1, 0, 0, 0], 160], [[1, 1, 0, 0, 0], 160], [[1, 1, 0, 0, 0], 160], [[1, 1, 0, 0, 0], 160], [[1, 1, 0, 0, 0], 160], [[1, 1, 0, 0, 0], 160], [[1, 1, 0, 0, 0], 160], [[1, 1, 0, 0, 0], 160], [[1, 1, 0, 0, 0], 160], [[1, 1, 0, 0, 0], 160], [[1, 1, 0, 0, 0], 160], [[1, 1, 0, 0, 0], 160], [[1, 1, 0, 0, 0], 160], [[1, 1, 0, 0, 0], 160], [[1, 1, 0, 0, 0], 160], [[1, 1, 0, 0, 0], 160], [[1, 1, 0, 0, 0], 160], [[1, 1, 0, 0, 0], 160], [[1, 1, 0, 0, 0], 160], [[1, 1, 0, 0, 0], 160], [[1, 1, 0, 0, 0], 160], [[1, 1, 0, 0, 0], 160], [[1, 1, 0, 0, 0], 160], [[1, 1, 0, 0, 0], 160], [[1, 1, 0, 0, 0], 160], [[1, 1, 0, 0, 0], 160], [[1, 1, 0, 0, 0], 160], [[1, 1, 0, 0, 0], 160], [[1, 1, 0, 0, 0], 160], [[1, 1, 0, 0, 0], 160], [[1, 1, 0, 0, 0], 160], [[1, 1, 0, 0, 0], 160], [[1, 1, 0, 0, 0], 160], [[1, 1, 0, 0, 0], 160], [[1, 1, 0, 0, 0], 160], [[1, 1, 0, 0, 0], 160], [[1, 1, 0, 0, 0], 160], [[1, 1, 0, 0, 0], 160], [[1, 1, 0, 0, 0], 160], [[1, 1, 0, 0, 0], 160], [[1, 1, 0, 0, 0], 160], [[1, 1, 0, 0, 0], 160], [[1, 1, 0, 0, 0], 160], [[1, 1, 0, 0, 0], 160], [[1, 1, 0, 0, 0], 160], [[1, 1, 0, 0, 0], 160], [[1, 1, 0, 0, 0], 160], [[1, 1, 0, 0, 0], 160], [[1, 1, 0, 0, 0], 160], [[1, 1, 0, 0, 0], 160], [[1, 1, 0, 0, 0], 160], [[1, 1, 0, 0, 0], 160], [[1, 1, 0, 0, 0], 160], [[1, 1, 0, 0, 0], 160], [[1, 1, 0, 0, 0], 160], [[1, 1, 0, 0, 0], 160], [[1, 1, 0, 0, 0], 160], [[1, 1, 0, 0, 0], 160], [[1, 1, 0, 0, 0], 160], [[1, 1, 0, 0, 0], 160], [[1, 1, 0, 0, 0], 160], [[1, 1, 0, 0, 0], 160], [[1, 1, 0, 0, 0], 160], [[1, 1, 0, 0, 0], 160], [[1, 1, 0, 0, 0], 160], [[1, 1, 0, 0, 0], 160], [[1, 1, 0, 0, 0], 160], [[1, 1, 0, 0, 0], 160], [[1, 1, 0, 0, 0], 160], [[1, 1, 0, 0, 0], 160], [[1, 1, 0, 0, 0], 160], [[1, 1, 0, 0, 0], 160], [[1, 1, 0, 0, 0], 160], [[1, 1, 0, 0, 0], 160], [[1, 1, 0, 0, 0], 160], [[1, 1, 0, 0, 0], 160], [[1, 1, 0, 0, 0], 160], [[1, 1, 0, 0, 0], 160], [[1, 1, 0, 0, 0], 160], [[1, 1, 0, 0, 0], 160], [[1, 1, 0, 0, 0], 160], [[1, 1, 0, 0, 0], 160], [[1, 1, 0, 0, 0], 160], [[1, 1, 0, 0, 0], 160], [[1, 1, 0, 0, 0], 160], [[1, 1, 0, 0, 0], 160], [[1, 1, 0, 0, 0], 160], [[1, 1, 0, 0, 0], 160], [[1, 1, 0, 0, 0], 160], [[1, 1, 0, 0, 0], 160], [[1, 1, 0, 0, 0], 160], [[1, 1, 0, 0, 0], 160], [[1, 1, 0, 0, 0], 160], [[1, 1, 0, 0, 0], 160], [[1, 1, 0, 0, 0], 160], [[1, 1, 0, 0, 0], 160], [[1, 1, 0, 0, 0], 160], [[1, 1, 0, 0, 0], 160], [[1, 1, 0, 0, 0], 160], [[1, 1, 0, 0, 0], 160], [[1, 1, 0, 0, 0], 160], [[1, 1, 0, 0, 0], 160], [[1, 1, 0, 0, 0], 160], [[1, 1, 0, 0, 0], 160], [[1, 1, 0, 0, 0], 160], [[1, 1, 0, 0, 0], 160], [[1, 1, 0, 0, 0], 160], [[1, 1, 0, 0, 0], 160], [[1, 1, 0, 0, 0], 160], [[1, 1, 0, 0, 0], 160], [[1, 1, 0, 0, 0], 160], [[1, 1, 0, 0, 0], 160], [[1, 1, 0, 0, 0], 160], [[1, 1, 0, 0, 0], 160], [[1, 1, 0, 0, 0], 160], [[1, 1, 0, 0, 0], 160], [[1, 1, 0, 0, 0], 160], [[1, 1, 0, 0, 0], 160], [[1, 1, 0, 0, 0], 160], [[1, 1, 0, 0, 0], 160], [[1, 1, 0, 0, 0], 160], [[1, 1, 0, 0, 0], 160], [[1, 1, 0, 0, 0], 160], [[1, 1, 0, 0, 0], 160], [[1, 1, 0, 0, 0], 160], [[1, 1, 0, 0, 0], 160], [[1, 1, 0, 0, 0], 160], [[1, 1, 0, 0, 0], 160], [[1, 1, 0, 0, 0], 160], [[1, 1, 0, 0, 0], 160], [[1, 1, 0, 0, 0], 160], [[1, 1, 0, 0, 0], 160], [[1, 1, 0, 0, 0], 160], [[1, 1, 0, 0, 0], 160], [[1, 1, 0, 0, 0], 160], [[1, 1, 0, 0, 0], 160], [[1, 1, 0, 0, 0], 160], [[1, 1, 0, 0, 0], 160], [[1, 1, 0, 0, 0], 160], [[1, 1, 0, 0, 0], 160], [[1, 1, 0, 0, 0], 160], [[1, 1, 0, 0, 0], 160], [[1, 1, 0, 0, 0], 160], [[1, 1, 0, 0, 0], 160], [[1, 1, 0, 0, 0], 160], [[1, 1, 0, 0, 0], 160], [[1, 1, 0, 0, 0], 160], [[1, 1, 0, 0, 0], 160], [[1, 1, 0, 0, 0], 160], [[1, 1, 0, 0, 0], 160], [[1, 1, 0, 0, 0], 160], [[1, 1, 0, 0, 0], 160], [[1, 1, 0, 0, 0], 160], [[1, 1, 0, 0, 0], 160], [[1, 1, 0, 0, 0], 160], [[1, 1, 0, 0, 0], 160], [[1, 1, 0, 0, 0], 160], [[1, 1, 0, 0, 0], 160], [[1, 1, 0, 0, 0], 160], [[1, 1, 0, 0, 0], 160], [[1, 1, 0, 0, 0], 160], [[1, 1, 0, 0, 0], 160], [[1, 1, 0, 0, 0], 160], [[1, 1, 0, 0, 0], 160], [[1, 1, 0, 0, 0], 160], [[1, 1, 0, 0, 0], 160], [[1, 1, 0, 0, 0], 160], [[1, 1, 0, 0, 0], 160], [[1, 1, 0, 0, 0], 160], [[1, 1, 0, 0, 0], 160], [[1, 1, 0, 0, 0], 160], [[1, 1, 0, 0, 0], 160], [[1, 1, 0, 0, 0], 160], [[1, 1, 0, 0, 0], 160], [[1, 1, 0, 0, 0], 160], [[1, 1, 0, 0, 0], 160], [[1, 1, 0, 0, 0], 160], [[1, 1, 0, 0, 0], 160], [[1, 1, 0, 0, 0], 160], [[1, 1, 0, 0, 0], 160], [[1, 1, 0, 0, 0], 160], [[1, 1, 0, 0, 0], 160], [[1, 1, 0, 0, 0], 160], [[1, 1, 0, 0, 0], 160], [[1, 1, 0, 0, 0], 160], [[1, 1, 0, 0, 0], 160], [[1, 1, 0, 0, 0], 160], [[1, 1, 0, 0, 0], 160], [[1, 1, 0, 0, 0], 160], [[1, 1, 0, 0, 0], 160], [[1, 1, 0, 0, 0], 160], [[1, 1, 0, 0, 0], 160], [[1, 1, 0, 0, 0], 160], [[1, 1, 0, 0, 0], 160], [[1, 1, 0, 0, 0], 160], [[1, 1, 0, 0, 0], 160], [[1, 1, 0, 0, 0], 160], [[1, 1, 0, 0, 0], 160], [[1, 1, 0, 0, 0], 160], [[1, 1, 0, 0, 0], 160], [[1, 1, 0, 0, 0], 160], [[1, 1, 0, 0, 0], 160], [[1, 1, 0, 0, 0], 160], [[1, 1, 0, 0, 0], 160], [[1, 1, 0, 0, 0], 160], [[1, 1, 0, 0, 0], 160], [[1, 1, 0, 0, 0], 160], [[1, 1, 0, 0, 0], 160], [[1, 1, 0, 0, 0], 160], [[1, 1, 0, 0, 0], 160], [[1, 1, 0, 0, 0], 160], [[1, 1, 0, 0, 0], 160], [[1, 1, 0, 0, 0], 160], [[1, 1, 0, 0, 0], 160], [[1, 1, 0, 0, 0], 160], [[1, 1, 0, 0, 0], 160], [[1, 1, 0, 0, 0], 160], [[1, 1, 0, 0, 0], 160], [[1, 1, 0, 0, 0], 160], [[1, 1, 0, 0, 0], 160], [[1, 1, 0, 0, 0], 160], [[1, 1, 0, 0, 0], 160], [[1, 1, 0, 0, 0], 160], [[1, 1, 0, 0, 0], 160], [[1, 1, 0, 0, 0], 160], [[1, 1, 0, 0, 0], 160], [[1, 1, 0, 0, 0], 160], [[1, 1, 0, 0, 0], 160], [[1, 1, 0, 0, 0], 160], [[1, 1, 0, 0, 0], 160], [[1, 1, 0, 0, 0], 160], [[1, 1, 0, 0, 0], 160], [[1, 1, 0, 0, 0], 160], [[1, 1, 0, 0, 0], 160], [[1, 1, 0, 0, 0], 160], [[1, 1, 0, 0, 0], 160], [[1, 1, 0, 0, 0], 160], [[1, 1, 0, 0, 0], 160], [[1, 1, 0, 0, 0], 160], [[1, 1, 0, 0, 0], 160], [[1, 1, 0, 0, 0], 160], [[1, 1, 0, 0, 0], 160], [[1, 1, 0, 0, 0], 160], [[1, 1, 0, 0, 0], 160], [[1, 1, 0, 0, 0], 160], [[1, 1, 0, 0, 0], 160], [[1, 1, 0, 0, 0], 160], [[1, 1, 0, 0, 0], 160], [[1, 1, 0, 0, 0], 160], [[1, 1, 0, 0, 0], 160], [[1, 1, 0, 0, 0], 160], [[1, 1, 0, 0, 0], 160], [[1, 1, 0, 0, 0], 160], [[1, 1, 0, 0, 0], 160], [[1, 1, 0, 0, 0], 160], [[1, 1, 0, 0, 0], 160], [[1, 1, 0, 0, 0], 160], [[1, 1, 0, 0, 0], 160], [[1, 1, 0, 0, 0], 160], [[1, 1, 0, 0, 0], 160], [[1, 1, 0, 0, 0], 160], [[1, 1, 0, 0, 0], 160], [[1, 1, 0, 0, 0], 160], [[1, 1, 0, 0, 0], 160], [[1, 1, 0, 0, 0], 160], [[1, 1, 0, 0, 0], 160], [[1, 1, 0, 0, 0], 160], [[1, 1, 0, 0, 0], 160], [[1, 1, 0, 0, 0], 160], [[1, 1, 0, 0, 0], 160], [[1, 1, 0, 0, 0], 160], [[1, 1, 0, 0, 0], 160], [[1, 1, 0, 0, 0], 160], [[1, 1, 0, 0, 0], 160], [[1, 1, 0, 0, 0], 160], [[1, 1, 0, 0, 0], 160], [[1, 1, 0, 0, 0], 160], [[1, 1, 0, 0, 0], 160], [[1, 1, 0, 0, 0], 160], [[1, 1, 0, 0, 0], 160], [[1, 1, 0, 0, 0], 160], [[1, 1, 0, 0, 0], 160], [[1, 1, 0, 0, 0], 160], [[1, 1, 0, 0, 0], 160], [[1, 1, 0, 0, 0], 160], [[1, 1, 0, 0, 0], 160], [[1, 1, 0, 0, 0], 160], [[1, 1, 0, 0, 0], 160], [[1, 1, 0, 0, 0], 160], [[1, 1, 0, 0, 0], 160], [[1, 1, 0, 0, 0], 160], [[1, 1, 0, 0, 0], 160], [[1, 1, 0, 0, 0], 160], [[1, 1, 0, 0, 0], 160], [[1, 1, 0, 0, 0], 160], [[1, 1, 0, 0, 0], 160], [[1, 1, 0, 0, 0], 160], [[1, 1, 0, 0, 0], 160], [[1, 1, 0, 0, 0], 160], [[1, 1, 0, 0, 0], 160], [[1, 1, 0, 0, 0], 160], [[1, 1, 0, 0, 0], 160], [[1, 1, 0, 0, 0], 160], [[1, 1, 0, 0, 0], 160], [[1, 1, 0, 0, 0], 160], [[1, 1, 0, 0, 0], 160], [[1, 1, 0, 0, 0], 160], [[1, 1, 0, 0, 0], 160], [[1, 1, 0, 0, 0], 160], [[1, 1, 0, 0, 0], 160], [[1, 1, 0, 0, 0], 160], [[1, 1, 0, 0, 0], 160], [[1, 1, 0, 0, 0], 160], [[1, 1, 0, 0, 0], 160], [[1, 1, 0, 0, 0], 160], [[1, 1, 0, 0, 0], 160], [[1, 1, 0, 0, 0], 160], [[1, 1, 0, 0, 0], 160], [[1, 1, 0, 0, 0], 160], [[1, 1, 0, 0, 0], 160], [[1, 1, 0, 0, 0], 160], [[1, 1, 0, 0, 0], 160], [[1, 1, 0, 0, 0], 160], [[1, 1, 0, 0, 0], 160], [[1, 1, 0, 0, 0], 160], [[1, 1, 0, 0, 0], 160], [[1, 1, 0, 0, 0], 160], [[1, 1, 0, 0, 0], 160], [[1, 1, 0, 0, 0], 160], [[1, 1, 0, 0, 0], 160], [[1, 1, 0, 0, 0], 160], [[1, 1, 0, 0, 0], 160], [[1, 1, 0, 0, 0], 160], [[1, 1, 0, 0, 0], 160], [[1, 1, 0, 0, 0], 160], [[1, 1, 0, 0, 0], 160], [[1, 1, 0, 0, 0], 160], [[1, 1, 0, 0, 0], 160], [[1, 1, 0, 0, 0], 160], [[1, 1, 0, 0, 0], 160], [[1, 1, 0, 0, 0], 160], [[1, 1, 0, 0, 0], 160], [[1, 1, 0, 0, 0], 160], [[1, 1, 0, 0, 0], 160], [[1, 1, 0, 0, 0], 160], [[1, 1, 0, 0, 0], 160], [[1, 1, 0, 0, 0], 160], [[1, 1, 0, 0, 0], 160], [[1, 1, 0, 0, 0], 160], [[1, 1, 0, 0, 0], 160], [[1, 1, 0, 0, 0], 160], [[1, 1, 0, 0, 0], 160], [[1, 1, 0, 0, 0], 160], [[1, 1, 0, 0, 0], 160], [[1, 1, 0, 0, 0], 160], [[1, 1, 0, 0, 0], 160], [[1, 1, 0, 0, 0], 160], [[1, 1, 0, 0, 0], 160], [[1, 1, 0, 0, 0], 160], [[1, 1, 0, 0, 0], 160], [[1, 1, 0, 0, 0], 160], [[1, 1, 0, 0, 0], 160], [[1, 1, 0, 0, 0], 160], [[1, 1, 0, 0, 0], 160], [[1, 1, 0, 0, 0], 160], [[1, 1, 0, 0, 0], 160], [[1, 1, 0, 0, 0], 160], [[1, 1, 0, 0, 0], 160], [[1, 1, 0, 0, 0], 160], [[1, 1, 0, 0, 0], 160], [[1, 1, 0, 0, 0], 160], [[1, 1, 0, 0, 0], 160], [[1, 1, 0, 0, 0], 160], [[1, 1, 0, 0, 0], 160], [[1, 1, 0, 0, 0], 160]]\n"
     ]
    }
   ],
   "source": [
    "print(algorithme_quantique(100, len(weights_1), weights_1, values_1, max_weight_1, 1000))"
   ],
   "metadata": {
    "collapsed": false,
    "ExecuteTime": {
     "end_time": "2023-12-20T11:24:29.335337Z",
     "start_time": "2023-12-20T11:24:28.614556Z"
    }
   },
   "id": "94d9bbe4a10dadb6"
  },
  {
   "cell_type": "code",
   "execution_count": 1042,
   "outputs": [],
   "source": [
    "def get_best(B):\n",
    "    meilleur_element = max(B, key=lambda x: x[1])\n",
    "    return meilleur_element"
   ],
   "metadata": {
    "collapsed": false,
    "ExecuteTime": {
     "end_time": "2023-12-20T11:24:29.340893Z",
     "start_time": "2023-12-20T11:24:29.336072Z"
    }
   },
   "id": "ce15f6e08bcb97f6"
  },
  {
   "cell_type": "code",
   "execution_count": 1043,
   "outputs": [
    {
     "name": "stdout",
     "output_type": "stream",
     "text": [
      "[[1, 1, 0, 0, 0], 160]\n"
     ]
    }
   ],
   "source": [
    "print(get_best(algorithme_quantique(100, len(weights_1), weights_1, values_1, max_weight_1, 1000)))"
   ],
   "metadata": {
    "collapsed": false,
    "ExecuteTime": {
     "end_time": "2023-12-20T11:24:30.555082Z",
     "start_time": "2023-12-20T11:24:30.547822Z"
    }
   },
   "id": "83b77ead162e78d0"
  },
  {
   "cell_type": "code",
   "execution_count": 1044,
   "outputs": [
    {
     "name": "stdout",
     "output_type": "stream",
     "text": [
      "(array([0, 1, 1, 0, 0]), 220.0)\n"
     ]
    }
   ],
   "source": [
    "population_gene = np.random.randint(2, size=(100, weights_1.shape[0]))\n",
    "\n",
    "print(algo_genetique(population_gene, weights_1, values_1, max_weight_1, 1000))"
   ],
   "metadata": {
    "collapsed": false,
    "ExecuteTime": {
     "end_time": "2023-12-20T11:24:30.555961Z",
     "start_time": "2023-12-20T11:24:30.549664Z"
    }
   },
   "id": "dd9177f0bd5b1912"
  }
 ],
 "metadata": {
  "kernelspec": {
   "display_name": "Python 3",
   "language": "python",
   "name": "python3"
  },
  "language_info": {
   "codemirror_mode": {
    "name": "ipython",
    "version": 2
   },
   "file_extension": ".py",
   "mimetype": "text/x-python",
   "name": "python",
   "nbconvert_exporter": "python",
   "pygments_lexer": "ipython2",
   "version": "2.7.6"
  }
 },
 "nbformat": 4,
 "nbformat_minor": 5
}
