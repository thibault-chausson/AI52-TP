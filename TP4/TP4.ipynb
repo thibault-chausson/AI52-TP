{
 "cells": [
  {
   "cell_type": "markdown",
   "id": "c726c9c24b860af",
   "metadata": {},
   "source": [
    "# Algorithme classique du problème du sac à dos"
   ]
  },
  {
   "cell_type": "code",
   "execution_count": 194,
   "outputs": [],
   "source": [
    "import numpy as np\n",
    "import matplotlib.pyplot as plt\n",
    "import time as t "
   ],
   "metadata": {
    "collapsed": false,
    "ExecuteTime": {
     "end_time": "2023-12-23T13:45:48.399721Z",
     "start_time": "2023-12-23T13:45:48.148299Z"
    }
   },
   "id": "ddf4271b94223038"
  },
  {
   "cell_type": "markdown",
   "source": [
    "# Les 5 jeux de données"
   ],
   "metadata": {
    "collapsed": false
   },
   "id": "c228087e173956c3"
  },
  {
   "cell_type": "markdown",
   "source": [
    "# Jeu de données 1"
   ],
   "metadata": {
    "collapsed": false
   },
   "id": "fc40813056ee01b2"
  },
  {
   "cell_type": "code",
   "execution_count": 195,
   "outputs": [],
   "source": [
    "weights_1 = np.array([10, 20, 30, 40, 50])\n",
    "values_1 = np.array([60, 100, 120, 140, 160])\n",
    "max_weight_1 = np.sum(weights_1) // 3"
   ],
   "metadata": {
    "collapsed": false,
    "ExecuteTime": {
     "end_time": "2023-12-23T13:45:48.405019Z",
     "start_time": "2023-12-23T13:45:48.352019Z"
    }
   },
   "id": "8df98348a5fb4998"
  },
  {
   "cell_type": "markdown",
   "source": [
    "## Jeu de données 2"
   ],
   "metadata": {
    "collapsed": false
   },
   "id": "58c17baf83158462"
  },
  {
   "cell_type": "code",
   "execution_count": 196,
   "outputs": [],
   "source": [
    "weights_2 = np.array([10, 20, 30, 40, 50, 60, 70, 80, 90, 100])\n",
    "values_2 = np.array([60, 100, 120, 140, 160, 180, 200, 220, 240, 260])\n",
    "max_weight_2 = np.sum(weights_2) // 3"
   ],
   "metadata": {
    "collapsed": false,
    "ExecuteTime": {
     "end_time": "2023-12-23T13:45:48.454686Z",
     "start_time": "2023-12-23T13:45:48.409017Z"
    }
   },
   "id": "7c8f4d96aa09c195"
  },
  {
   "cell_type": "markdown",
   "source": [
    "## Jeu de données 3"
   ],
   "metadata": {
    "collapsed": false
   },
   "id": "c1e33094ea5f8729"
  },
  {
   "cell_type": "code",
   "execution_count": 197,
   "outputs": [],
   "source": [
    "weights_3 = [83, 73, 22, 1, 65, 98, 64, 40, 92, 68, 6, 39, 90, 73, 7, 99, 6, 52, 23, 14]\n",
    "values_3 = [8, 17, 2, 17, 20, 16, 15, 2, 19, 10, 19, 6, 19, 5, 16, 21, 19, 18, 9, 1]\n",
    "max_weight_3 = np.sum(weights_3) // 3"
   ],
   "metadata": {
    "collapsed": false,
    "ExecuteTime": {
     "end_time": "2023-12-23T13:45:48.518498Z",
     "start_time": "2023-12-23T13:45:48.455757Z"
    }
   },
   "id": "43e337beb0f0d0e1"
  },
  {
   "cell_type": "markdown",
   "source": [
    "## Jeu de données 4"
   ],
   "metadata": {
    "collapsed": false
   },
   "id": "545d307a053b98d7"
  },
  {
   "cell_type": "code",
   "execution_count": 198,
   "outputs": [],
   "source": [
    "weights_4 = [83, 73, 22, 1, 65, 98, 64, 40, 92, 68, 6, 39, 90, 73, 7, 99, 6, 52, 23, 14, 83, 73, 22, 1, 65, 98, 64, 40,\n",
    "             92, 68, 6, 39, 90, 73, 7, 99, 6, 52, 23, 14]\n",
    "values_4 = [8, 17, 2, 17, 20, 16, 15, 2, 19, 10, 19, 6, 19, 5, 16, 21, 19, 18, 9, 1, 8, 17, 2, 17, 20, 16, 15, 2, 19,\n",
    "            10, 19, 6, 19, 5, 16, 21, 19, 18, 9, 1]\n",
    "max_weight_4 = np.sum(weights_4) // 3"
   ],
   "metadata": {
    "collapsed": false,
    "ExecuteTime": {
     "end_time": "2023-12-23T13:45:48.551988Z",
     "start_time": "2023-12-23T13:45:48.521677Z"
    }
   },
   "id": "eaa7ee2a4130ecde"
  },
  {
   "cell_type": "markdown",
   "source": [
    "## Jeu de données 5"
   ],
   "metadata": {
    "collapsed": false
   },
   "id": "87efb7498941f1fb"
  },
  {
   "cell_type": "code",
   "execution_count": 199,
   "outputs": [],
   "source": [
    "weights_5 = [104, 390, 95, 276, 357, 393, 345, 148, 170, 174, 316, 185, 163, 22, 406, 360, 13, 14, 205, 136, 305, 75,\n",
    "             395, 262, 267, 379, 114, 171, 267, 383, 347, 308, 399, 382, 231, 207, 354, 395, 382, 174]\n",
    "values_5 = [25, 7, 6, 24, 19, 6, 19, 20, 21, 14, 25, 5, 24, 6, 25, 5, 25, 25, 25, 25, 25, 25, 25, 25, 6, 25, 25, 25, 25,\n",
    "            25, 25, 25, 25, 25, 6, 25, 25, 25, 25, 25]\n",
    "max_weight_5 = np.sum(weights_5) // 3"
   ],
   "metadata": {
    "collapsed": false,
    "ExecuteTime": {
     "end_time": "2023-12-23T13:45:48.607575Z",
     "start_time": "2023-12-23T13:45:48.555985Z"
    }
   },
   "id": "d894a3c8b2b7895e"
  },
  {
   "cell_type": "markdown",
   "id": "6ce331da41e31070",
   "metadata": {},
   "source": [
    "# Classique"
   ]
  },
  {
   "cell_type": "code",
   "execution_count": 200,
   "id": "b646e4e6e77de61f",
   "metadata": {
    "ExecuteTime": {
     "end_time": "2023-12-23T13:45:48.651300Z",
     "start_time": "2023-12-23T13:45:48.609998Z"
    }
   },
   "outputs": [
    {
     "name": "stdout",
     "output_type": "stream",
     "text": [
      "[[1 0 0 1 0]\n",
      " [0 1 1 0 1]\n",
      " [1 1 0 1 0]\n",
      " [1 1 1 1 1]\n",
      " [0 0 0 1 1]\n",
      " [1 1 0 0 1]\n",
      " [1 1 1 0 0]\n",
      " [0 0 0 0 0]\n",
      " [1 0 1 1 1]\n",
      " [1 0 0 1 1]\n",
      " [1 0 1 1 0]\n",
      " [0 1 0 1 1]\n",
      " [1 1 0 0 0]\n",
      " [1 1 1 0 0]\n",
      " [1 1 0 0 0]\n",
      " [0 1 0 1 0]\n",
      " [0 0 0 1 1]\n",
      " [1 1 1 0 1]\n",
      " [0 1 0 1 1]\n",
      " [0 1 0 0 1]\n",
      " [1 1 1 1 0]\n",
      " [0 1 1 1 0]\n",
      " [0 1 0 0 0]\n",
      " [1 0 0 1 1]\n",
      " [1 0 0 0 1]\n",
      " [0 1 1 0 1]\n",
      " [0 1 0 0 1]\n",
      " [0 1 1 0 0]\n",
      " [1 0 1 0 0]\n",
      " [1 0 0 1 0]\n",
      " [1 0 0 1 1]\n",
      " [1 0 1 0 0]\n",
      " [1 1 1 1 0]\n",
      " [0 1 1 1 0]\n",
      " [1 1 0 0 0]\n",
      " [1 0 1 1 1]\n",
      " [1 1 1 1 0]\n",
      " [1 0 1 0 0]\n",
      " [1 0 1 0 0]\n",
      " [0 0 1 1 0]\n",
      " [1 0 1 1 0]\n",
      " [0 1 0 0 1]\n",
      " [0 0 1 1 1]\n",
      " [1 0 1 0 1]\n",
      " [0 0 1 1 1]\n",
      " [1 0 0 0 1]\n",
      " [0 1 1 0 1]\n",
      " [0 1 0 1 0]\n",
      " [1 0 0 0 0]\n",
      " [1 1 1 1 1]\n",
      " [1 0 1 0 0]\n",
      " [1 1 1 1 0]\n",
      " [1 1 1 0 0]\n",
      " [0 0 1 0 0]\n",
      " [0 1 0 0 0]\n",
      " [1 1 1 0 0]\n",
      " [0 0 0 0 0]\n",
      " [0 1 1 1 1]\n",
      " [0 0 1 0 0]\n",
      " [0 0 0 0 1]\n",
      " [1 0 1 0 1]\n",
      " [0 1 0 0 1]\n",
      " [0 1 0 0 0]\n",
      " [0 0 1 1 1]\n",
      " [1 0 0 1 0]\n",
      " [1 1 0 0 1]\n",
      " [0 1 0 0 1]\n",
      " [1 1 0 1 1]\n",
      " [1 0 1 1 1]\n",
      " [0 1 0 1 1]\n",
      " [0 0 0 1 1]\n",
      " [0 1 0 1 0]\n",
      " [0 0 0 1 1]\n",
      " [1 1 1 1 0]\n",
      " [1 1 1 1 0]\n",
      " [0 1 0 1 1]\n",
      " [1 0 0 0 1]\n",
      " [1 1 1 0 0]\n",
      " [0 1 1 0 1]\n",
      " [0 1 1 0 0]\n",
      " [0 1 1 1 1]\n",
      " [1 1 0 1 1]\n",
      " [0 1 0 0 0]\n",
      " [0 1 0 0 0]\n",
      " [1 1 0 1 1]\n",
      " [0 1 1 0 0]\n",
      " [1 1 1 1 0]\n",
      " [0 1 0 0 1]\n",
      " [0 0 0 0 0]\n",
      " [1 1 0 1 1]\n",
      " [0 1 1 1 0]\n",
      " [0 0 0 0 0]\n",
      " [1 0 1 0 0]\n",
      " [1 0 0 1 0]\n",
      " [0 0 1 0 1]\n",
      " [0 0 0 1 0]\n",
      " [1 0 0 0 1]\n",
      " [1 1 1 0 0]\n",
      " [0 0 0 0 1]\n",
      " [1 1 0 0 1]]\n"
     ]
    }
   ],
   "source": [
    "weights = np.array([10, 20, 30, 40, 50])\n",
    "values = np.array([60, 100, 120, 140, 160])\n",
    "max_weight = np.sum(weights) // 3\n",
    "\n",
    "population_size = 100\n",
    "\n",
    "population = np.random.randint(2, size=(population_size, weights.shape[0]))\n",
    "print(population)"
   ]
  },
  {
   "cell_type": "code",
   "execution_count": 201,
   "id": "9e3af7b35ce4f637",
   "metadata": {
    "ExecuteTime": {
     "end_time": "2023-12-23T13:45:48.687680Z",
     "start_time": "2023-12-23T13:45:48.655151Z"
    }
   },
   "outputs": [],
   "source": [
    "def correction_un(arg_population, arg_max_weight, arg_weights):\n",
    "    # On corrige un individu\n",
    "    S2 = np.sum(arg_population * arg_weights)\n",
    "    if S2 > arg_max_weight:\n",
    "        # On cherche l'indice du premier 1\n",
    "        indice = np.where(arg_population == 1)[0][0]\n",
    "        # On le remplace par un 0\n",
    "        arg_population[indice] = 0\n",
    "    return arg_population\n",
    "\n",
    "\n",
    "def correction(arg_population, arg_max_weight, arg_weights):\n",
    "    # On corrige la population\n",
    "    for i in range(arg_population.shape[0]):\n",
    "        arg_population[i] = correction_un(arg_population[i], arg_max_weight, arg_weights)\n",
    "    return arg_population"
   ]
  },
  {
   "cell_type": "code",
   "execution_count": 202,
   "id": "166e69722de3f94f",
   "metadata": {
    "ExecuteTime": {
     "end_time": "2023-12-23T13:45:48.720545Z",
     "start_time": "2023-12-23T13:45:48.690048Z"
    }
   },
   "outputs": [
    {
     "name": "stdout",
     "output_type": "stream",
     "text": [
      "[[1 0 0 1 0]\n",
      " [0 0 1 0 1]\n",
      " [0 1 0 1 0]\n",
      " [0 1 1 1 1]\n",
      " [0 0 0 0 1]\n",
      " [0 1 0 0 1]\n",
      " [0 1 1 0 0]\n",
      " [0 0 0 0 0]\n",
      " [0 0 1 1 1]\n",
      " [0 0 0 1 1]\n",
      " [0 0 1 1 0]\n",
      " [0 0 0 1 1]\n",
      " [1 1 0 0 0]\n",
      " [0 1 1 0 0]\n",
      " [1 1 0 0 0]\n",
      " [0 0 0 1 0]\n",
      " [0 0 0 0 1]\n",
      " [0 1 1 0 1]\n",
      " [0 0 0 1 1]\n",
      " [0 0 0 0 1]\n",
      " [0 1 1 1 0]\n",
      " [0 0 1 1 0]\n",
      " [0 1 0 0 0]\n",
      " [0 0 0 1 1]\n",
      " [0 0 0 0 1]\n",
      " [0 0 1 0 1]\n",
      " [0 0 0 0 1]\n",
      " [0 1 1 0 0]\n",
      " [1 0 1 0 0]\n",
      " [1 0 0 1 0]\n",
      " [0 0 0 1 1]\n",
      " [1 0 1 0 0]\n",
      " [0 1 1 1 0]\n",
      " [0 0 1 1 0]\n",
      " [1 1 0 0 0]\n",
      " [0 0 1 1 1]\n",
      " [0 1 1 1 0]\n",
      " [1 0 1 0 0]\n",
      " [1 0 1 0 0]\n",
      " [0 0 0 1 0]\n",
      " [0 0 1 1 0]\n",
      " [0 0 0 0 1]\n",
      " [0 0 0 1 1]\n",
      " [0 0 1 0 1]\n",
      " [0 0 0 1 1]\n",
      " [0 0 0 0 1]\n",
      " [0 0 1 0 1]\n",
      " [0 0 0 1 0]\n",
      " [1 0 0 0 0]\n",
      " [0 1 1 1 1]\n",
      " [1 0 1 0 0]\n",
      " [0 1 1 1 0]\n",
      " [0 1 1 0 0]\n",
      " [0 0 1 0 0]\n",
      " [0 1 0 0 0]\n",
      " [0 1 1 0 0]\n",
      " [0 0 0 0 0]\n",
      " [0 0 1 1 1]\n",
      " [0 0 1 0 0]\n",
      " [0 0 0 0 1]\n",
      " [0 0 1 0 1]\n",
      " [0 0 0 0 1]\n",
      " [0 1 0 0 0]\n",
      " [0 0 0 1 1]\n",
      " [1 0 0 1 0]\n",
      " [0 1 0 0 1]\n",
      " [0 0 0 0 1]\n",
      " [0 1 0 1 1]\n",
      " [0 0 1 1 1]\n",
      " [0 0 0 1 1]\n",
      " [0 0 0 0 1]\n",
      " [0 0 0 1 0]\n",
      " [0 0 0 0 1]\n",
      " [0 1 1 1 0]\n",
      " [0 1 1 1 0]\n",
      " [0 0 0 1 1]\n",
      " [0 0 0 0 1]\n",
      " [0 1 1 0 0]\n",
      " [0 0 1 0 1]\n",
      " [0 1 1 0 0]\n",
      " [0 0 1 1 1]\n",
      " [0 1 0 1 1]\n",
      " [0 1 0 0 0]\n",
      " [0 1 0 0 0]\n",
      " [0 1 0 1 1]\n",
      " [0 1 1 0 0]\n",
      " [0 1 1 1 0]\n",
      " [0 0 0 0 1]\n",
      " [0 0 0 0 0]\n",
      " [0 1 0 1 1]\n",
      " [0 0 1 1 0]\n",
      " [0 0 0 0 0]\n",
      " [1 0 1 0 0]\n",
      " [1 0 0 1 0]\n",
      " [0 0 0 0 1]\n",
      " [0 0 0 1 0]\n",
      " [0 0 0 0 1]\n",
      " [0 1 1 0 0]\n",
      " [0 0 0 0 1]\n",
      " [0 1 0 0 1]]\n"
     ]
    }
   ],
   "source": [
    "population = correction(population, max_weight, weights)\n",
    "print(population)"
   ]
  },
  {
   "cell_type": "code",
   "execution_count": 203,
   "id": "91fe351fbd8ef826",
   "metadata": {
    "ExecuteTime": {
     "end_time": "2023-12-23T13:45:48.768484Z",
     "start_time": "2023-12-23T13:45:48.723817Z"
    }
   },
   "outputs": [],
   "source": [
    "def fitness_un(arg_weight, arg_value, arg_population, arg_max_weight):\n",
    "    # On calcule la fitness d'un individu\n",
    "    S1 = np.sum(arg_population * arg_value)\n",
    "    S2 = np.sum(arg_population * arg_weight)\n",
    "    if S2 > arg_max_weight:\n",
    "        return 0\n",
    "    else:\n",
    "        return S1\n",
    "\n",
    "\n",
    "def fitness(arg_weight, arg_value, arg_population, arg_max_weight):\n",
    "    arg_fitness = np.empty(arg_population.shape[0])\n",
    "    for i in range(arg_population.shape[0]):\n",
    "        arg_fitness[i] = fitness_un(arg_weight, arg_value, arg_population[i], arg_max_weight)\n",
    "    return arg_fitness"
   ]
  },
  {
   "cell_type": "code",
   "execution_count": 204,
   "id": "e4eeb92811a3ff11",
   "metadata": {
    "ExecuteTime": {
     "end_time": "2023-12-23T13:45:48.804622Z",
     "start_time": "2023-12-23T13:45:48.771554Z"
    }
   },
   "outputs": [
    {
     "data": {
      "text/plain": "array([200.,   0.,   0.,   0., 160.,   0., 220.,   0.,   0.,   0.,   0.,\n         0., 160., 220., 160., 140., 160.,   0.,   0., 160.,   0.,   0.,\n       100.,   0., 160.,   0., 160., 220., 180., 200.,   0., 180.,   0.,\n         0., 160.,   0.,   0., 180., 180., 140.,   0., 160.,   0.,   0.,\n         0., 160.,   0., 140.,  60.,   0., 180.,   0., 220., 120., 100.,\n       220.,   0.,   0., 120., 160.,   0., 160., 100.,   0., 200.,   0.,\n       160.,   0.,   0.,   0., 160., 140., 160.,   0.,   0.,   0., 160.,\n       220.,   0., 220.,   0.,   0., 100., 100.,   0., 220.,   0., 160.,\n         0.,   0.,   0.,   0., 180., 200., 160., 140., 160., 220., 160.,\n         0.])"
     },
     "execution_count": 204,
     "metadata": {},
     "output_type": "execute_result"
    }
   ],
   "source": [
    "fitness(weights, values, population, max_weight)"
   ]
  },
  {
   "cell_type": "code",
   "execution_count": 205,
   "id": "94bc7cbe1acb727a",
   "metadata": {
    "ExecuteTime": {
     "end_time": "2023-12-23T13:45:48.836907Z",
     "start_time": "2023-12-23T13:45:48.808434Z"
    }
   },
   "outputs": [],
   "source": [
    "def selection_roulette(arg_fitness, arg_population):\n",
    "    # Selectionner par la roulette les 2 meilleurs individus, ils doivent être différents\n",
    "    parents = []\n",
    "    fitness_aux = arg_fitness\n",
    "    for i in range(2):\n",
    "        somme = np.sum(fitness_aux)\n",
    "        fitness_roulette = fitness_aux / somme\n",
    "        # Tirage aléatoire entre 0 et 1\n",
    "        tirage = np.random.rand()\n",
    "        # On cherche l'indice de l'individu qui correspond au tirage et on le stocke dans parents puis on le supprime de la population\n",
    "        somme = 0\n",
    "        for j in range(fitness_roulette.shape[0]):\n",
    "            somme += fitness_roulette[j]\n",
    "            if somme >= tirage:\n",
    "                parents.append(arg_population[j])\n",
    "                arg_population = np.delete(arg_population, j, axis=0)\n",
    "                arg_fitness = np.delete(arg_fitness, j, axis=0)\n",
    "                fitness_aux = np.delete(fitness_roulette, j, axis=0)\n",
    "                break\n",
    "    return parents\n"
   ]
  },
  {
   "cell_type": "code",
   "execution_count": 206,
   "id": "554d4eb09f8b8b98",
   "metadata": {
    "ExecuteTime": {
     "end_time": "2023-12-23T13:45:48.951453Z",
     "start_time": "2023-12-23T13:45:48.839827Z"
    }
   },
   "outputs": [
    {
     "name": "stdout",
     "output_type": "stream",
     "text": [
      "[array([0, 0, 0, 1, 0]), array([1, 0, 0, 1, 0])]\n"
     ]
    }
   ],
   "source": [
    "print(selection_roulette(fitness(weights, values, population, max_weight), population))"
   ]
  },
  {
   "cell_type": "code",
   "execution_count": 207,
   "id": "493adc2d0cebf177",
   "metadata": {
    "ExecuteTime": {
     "end_time": "2023-12-23T13:45:48.988747Z",
     "start_time": "2023-12-23T13:45:48.954759Z"
    }
   },
   "outputs": [],
   "source": [
    "def crossover(parents, arg_max_weight, arg_weights):\n",
    "    # On choisit un point de croisement aléatoire\n",
    "    point_croisement = np.random.randint(1, parents[0].shape[0] - 1)\n",
    "    # On crée les enfants\n",
    "    enfant1 = np.concatenate((parents[0][:point_croisement], parents[1][point_croisement:]))\n",
    "    enfant2 = np.concatenate((parents[1][:point_croisement], parents[0][point_croisement:]))\n",
    "    return correction_un(enfant1, arg_max_weight, arg_weights), correction_un(enfant2, arg_max_weight, arg_weights)"
   ]
  },
  {
   "cell_type": "code",
   "execution_count": 208,
   "id": "3642f8e5cebc51e4",
   "metadata": {
    "ExecuteTime": {
     "end_time": "2023-12-23T13:45:48.989466Z",
     "start_time": "2023-12-23T13:45:48.959323Z"
    }
   },
   "outputs": [
    {
     "name": "stdout",
     "output_type": "stream",
     "text": [
      "(array([1, 0, 1, 0, 0]), array([1, 1, 0, 0, 0]))\n"
     ]
    }
   ],
   "source": [
    "print(crossover(selection_roulette(fitness(weights, values, population, max_weight), population), max_weight, weights))"
   ]
  },
  {
   "cell_type": "code",
   "execution_count": 209,
   "id": "35a928f91c0d23cb",
   "metadata": {
    "ExecuteTime": {
     "end_time": "2023-12-23T13:45:49.036667Z",
     "start_time": "2023-12-23T13:45:48.992408Z"
    }
   },
   "outputs": [],
   "source": [
    "def mutation(enfants, arg_max_weight, arg_weights):\n",
    "    # On choisit un point de mutation aléatoire\n",
    "    point_mutation = np.random.randint(0, enfants[0].shape[0])\n",
    "    # On crée les enfants si le point de mutation est 0 on le change en 1 et inversement\n",
    "    if enfants[0][point_mutation] == 0:\n",
    "        enfants[0][point_mutation] = 1\n",
    "    else:\n",
    "        enfants[0][point_mutation] = 0\n",
    "    return correction_un(enfants[0], arg_max_weight, arg_weights), correction_un(enfants[1], arg_max_weight,\n",
    "                                                                                 arg_weights)"
   ]
  },
  {
   "cell_type": "code",
   "execution_count": 210,
   "id": "e0f4e93eca891bc7",
   "metadata": {
    "ExecuteTime": {
     "end_time": "2023-12-23T13:45:49.069265Z",
     "start_time": "2023-12-23T13:45:49.036650Z"
    }
   },
   "outputs": [
    {
     "name": "stdout",
     "output_type": "stream",
     "text": [
      "(array([0, 0, 0, 0, 1]), array([0, 0, 0, 0, 0]))\n"
     ]
    }
   ],
   "source": [
    "print(mutation(\n",
    "    crossover(selection_roulette(fitness(weights, values, population, max_weight), population), max_weight, weights),\n",
    "    max_weight, weights))"
   ]
  },
  {
   "cell_type": "code",
   "execution_count": 211,
   "id": "ccd282469b6a3b0d",
   "metadata": {
    "ExecuteTime": {
     "end_time": "2023-12-23T13:45:49.103413Z",
     "start_time": "2023-12-23T13:45:49.072809Z"
    }
   },
   "outputs": [],
   "source": [
    "def evolution(arg_population, arg_fitness, arg_max_weight, arg_weights, arg_mutation_rate=0.1):\n",
    "    # On sélectionne les parents\n",
    "    parents = selection_roulette(arg_fitness, arg_population)\n",
    "    # On crée les enfants\n",
    "    enfants = crossover(parents, arg_max_weight, arg_weights)\n",
    "    # On mute les enfants avec une probabilité\n",
    "    if np.random.rand() < arg_mutation_rate:\n",
    "        enfants = mutation(enfants, arg_max_weight, arg_weights)\n",
    "    # On ajoute les enfants à la population si ils améliorent le pire individu\n",
    "    enfants = np.array(enfants)\n",
    "    fitness_enfants = fitness(arg_weights, values, enfants, arg_max_weight)\n",
    "    fitness_population = fitness(arg_weights, values, arg_population, arg_max_weight)\n",
    "    for i in range(2):\n",
    "        if fitness_enfants[i] > np.min(fitness_population):\n",
    "            # On remplace le pire individu par l'enfant\n",
    "            arg_population[np.argmin(fitness_population)] = enfants[i]\n",
    "            fitness_population[np.argmin(fitness_population)] = fitness_enfants[i]\n",
    "    # On calcule la fitness de la nouvelle population\n",
    "    arg_fitness = fitness_population\n",
    "    return arg_population"
   ]
  },
  {
   "cell_type": "code",
   "execution_count": 212,
   "id": "b057834c4638367c",
   "metadata": {
    "ExecuteTime": {
     "end_time": "2023-12-23T13:45:49.135163Z",
     "start_time": "2023-12-23T13:45:49.107225Z"
    }
   },
   "outputs": [
    {
     "name": "stdout",
     "output_type": "stream",
     "text": [
      "[[1 0 0 1 0]\n",
      " [0 0 0 0 1]\n",
      " [0 1 0 1 0]\n",
      " [0 1 1 1 1]\n",
      " [0 0 0 0 1]\n",
      " [0 1 0 0 1]\n",
      " [0 1 1 0 0]\n",
      " [0 0 0 0 0]\n",
      " [0 0 1 1 1]\n",
      " [0 0 0 1 1]\n",
      " [0 0 1 1 0]\n",
      " [0 0 0 1 1]\n",
      " [1 1 0 0 0]\n",
      " [0 1 1 0 0]\n",
      " [1 1 0 0 0]\n",
      " [0 0 0 1 0]\n",
      " [0 0 0 0 1]\n",
      " [0 1 1 0 1]\n",
      " [0 0 0 1 1]\n",
      " [0 0 0 0 1]\n",
      " [0 1 1 1 0]\n",
      " [0 0 1 1 0]\n",
      " [0 1 0 0 0]\n",
      " [0 0 0 1 1]\n",
      " [0 0 0 0 1]\n",
      " [0 0 1 0 1]\n",
      " [0 0 0 0 1]\n",
      " [0 1 1 0 0]\n",
      " [1 0 1 0 0]\n",
      " [1 0 0 1 0]\n",
      " [0 0 0 1 1]\n",
      " [1 0 1 0 0]\n",
      " [0 1 1 1 0]\n",
      " [0 0 1 1 0]\n",
      " [1 1 0 0 0]\n",
      " [0 0 1 1 1]\n",
      " [0 1 1 1 0]\n",
      " [1 0 1 0 0]\n",
      " [1 0 1 0 0]\n",
      " [0 0 0 1 0]\n",
      " [0 0 1 1 0]\n",
      " [0 0 0 0 1]\n",
      " [0 0 0 1 1]\n",
      " [0 0 1 0 1]\n",
      " [0 0 0 1 1]\n",
      " [0 0 0 0 1]\n",
      " [0 0 1 0 1]\n",
      " [0 0 0 1 0]\n",
      " [1 0 0 0 0]\n",
      " [0 1 1 1 1]\n",
      " [1 0 1 0 0]\n",
      " [0 1 1 1 0]\n",
      " [0 1 1 0 0]\n",
      " [0 0 1 0 0]\n",
      " [0 1 0 0 0]\n",
      " [0 1 1 0 0]\n",
      " [0 0 0 0 0]\n",
      " [0 0 1 1 1]\n",
      " [0 0 1 0 0]\n",
      " [0 0 0 0 1]\n",
      " [0 0 1 0 1]\n",
      " [0 0 0 0 1]\n",
      " [0 1 0 0 0]\n",
      " [0 0 0 1 1]\n",
      " [1 0 0 1 0]\n",
      " [0 1 0 0 1]\n",
      " [0 0 0 0 1]\n",
      " [0 1 0 1 1]\n",
      " [0 0 1 1 1]\n",
      " [0 0 0 1 1]\n",
      " [0 0 0 0 1]\n",
      " [0 0 0 1 0]\n",
      " [0 0 0 0 1]\n",
      " [0 1 1 1 0]\n",
      " [0 1 1 1 0]\n",
      " [0 0 0 1 1]\n",
      " [0 0 0 0 1]\n",
      " [0 1 1 0 0]\n",
      " [0 0 1 0 1]\n",
      " [0 1 1 0 0]\n",
      " [0 0 1 1 1]\n",
      " [0 1 0 1 1]\n",
      " [0 1 0 0 0]\n",
      " [0 1 0 0 0]\n",
      " [0 1 0 1 1]\n",
      " [0 1 1 0 0]\n",
      " [0 1 1 1 0]\n",
      " [0 0 0 0 1]\n",
      " [0 0 0 0 0]\n",
      " [0 1 0 1 1]\n",
      " [0 0 1 1 0]\n",
      " [0 0 0 0 0]\n",
      " [1 0 1 0 0]\n",
      " [1 0 0 1 0]\n",
      " [0 0 0 0 1]\n",
      " [0 0 0 1 0]\n",
      " [0 0 0 0 1]\n",
      " [0 1 1 0 0]\n",
      " [0 0 0 0 1]\n",
      " [0 1 0 0 1]]\n"
     ]
    }
   ],
   "source": [
    "print(evolution(population, fitness(weights, values, population, max_weight), max_weight, weights))"
   ]
  },
  {
   "cell_type": "code",
   "execution_count": 213,
   "id": "bda8587944a8af8",
   "metadata": {
    "ExecuteTime": {
     "end_time": "2023-12-23T13:45:49.154127Z",
     "start_time": "2023-12-23T13:45:49.139520Z"
    }
   },
   "outputs": [],
   "source": [
    "def algo_genetique(arg_population, arg_weights, arg_values, arg_max_weight, nb_iterations=1000, seuil_amelioration=0.01,\n",
    "                   patience=100):\n",
    "    historique_fitness = []  # Stocker l'historique des fitness maximales\n",
    "    compteur_sans_amelioration = 0  # Compteur pour les itérations sans amélioration significative\n",
    "\n",
    "    for _ in range(nb_iterations):\n",
    "        arg_fitness = fitness(arg_weights, arg_values, arg_population, arg_max_weight)\n",
    "        fitness_max = np.max(arg_fitness)\n",
    "\n",
    "        # Mise à jour de l'historique et vérification du critère d'arrêt\n",
    "        if historique_fitness:\n",
    "            if fitness_max - historique_fitness[-1] < seuil_amelioration:\n",
    "                compteur_sans_amelioration += 1\n",
    "            else:\n",
    "                compteur_sans_amelioration = 0\n",
    "\n",
    "        historique_fitness.append(fitness_max)\n",
    "\n",
    "        if compteur_sans_amelioration >= patience:\n",
    "            print(f\"Arrêt après {_} itérations, car il n'y a pas eu d'amélioration significative.\")\n",
    "            break\n",
    "\n",
    "        arg_population = evolution(arg_population, arg_fitness, arg_max_weight, arg_weights)\n",
    "\n",
    "    # On récupère le meilleur individu après le dernier cycle\n",
    "    arg_fitness = fitness(arg_weights, arg_values, arg_population, arg_max_weight)\n",
    "    return arg_population[np.argmax(arg_fitness)], np.max(arg_fitness), historique_fitness\n"
   ]
  },
  {
   "cell_type": "code",
   "execution_count": 214,
   "id": "41f56096e864e03f",
   "metadata": {
    "ExecuteTime": {
     "end_time": "2023-12-23T13:45:49.266693Z",
     "start_time": "2023-12-23T13:45:49.162452Z"
    }
   },
   "outputs": [
    {
     "name": "stdout",
     "output_type": "stream",
     "text": [
      "Arrêt après 100 itérations, car il n'y a pas eu d'amélioration significative.\n"
     ]
    },
    {
     "data": {
      "text/plain": "(array([0, 1, 1, 0, 0]),\n 220.0,\n [220.0,\n  220.0,\n  220.0,\n  220.0,\n  220.0,\n  220.0,\n  220.0,\n  220.0,\n  220.0,\n  220.0,\n  220.0,\n  220.0,\n  220.0,\n  220.0,\n  220.0,\n  220.0,\n  220.0,\n  220.0,\n  220.0,\n  220.0,\n  220.0,\n  220.0,\n  220.0,\n  220.0,\n  220.0,\n  220.0,\n  220.0,\n  220.0,\n  220.0,\n  220.0,\n  220.0,\n  220.0,\n  220.0,\n  220.0,\n  220.0,\n  220.0,\n  220.0,\n  220.0,\n  220.0,\n  220.0,\n  220.0,\n  220.0,\n  220.0,\n  220.0,\n  220.0,\n  220.0,\n  220.0,\n  220.0,\n  220.0,\n  220.0,\n  220.0,\n  220.0,\n  220.0,\n  220.0,\n  220.0,\n  220.0,\n  220.0,\n  220.0,\n  220.0,\n  220.0,\n  220.0,\n  220.0,\n  220.0,\n  220.0,\n  220.0,\n  220.0,\n  220.0,\n  220.0,\n  220.0,\n  220.0,\n  220.0,\n  220.0,\n  220.0,\n  220.0,\n  220.0,\n  220.0,\n  220.0,\n  220.0,\n  220.0,\n  220.0,\n  220.0,\n  220.0,\n  220.0,\n  220.0,\n  220.0,\n  220.0,\n  220.0,\n  220.0,\n  220.0,\n  220.0,\n  220.0,\n  220.0,\n  220.0,\n  220.0,\n  220.0,\n  220.0,\n  220.0,\n  220.0,\n  220.0,\n  220.0,\n  220.0])"
     },
     "execution_count": 214,
     "metadata": {},
     "output_type": "execute_result"
    }
   ],
   "source": [
    "algo_genetique(population, weights, values, max_weight)"
   ]
  },
  {
   "cell_type": "markdown",
   "id": "eb2d96e64aa55de2",
   "metadata": {},
   "source": [
    "# Quantique "
   ]
  },
  {
   "cell_type": "code",
   "execution_count": 215,
   "id": "1614ffb1ed4ca57c",
   "metadata": {
    "ExecuteTime": {
     "end_time": "2023-12-23T13:45:49.267667Z",
     "start_time": "2023-12-23T13:45:49.258821Z"
    }
   },
   "outputs": [],
   "source": [
    "weights_q = np.array([10, 20])\n",
    "values_q = np.array([60, 100])\n",
    "max_weight_q = np.sum(weights_q) // 3"
   ]
  },
  {
   "cell_type": "code",
   "execution_count": 226,
   "outputs": [],
   "source": [
    "import numpy as np\n",
    "\n",
    "\n",
    "def initialiser_q(n, m):\n",
    "    un_ele = np.full(m, 1 / (2 ** 0.5))\n",
    "    return np.array([[un_ele, un_ele] for _ in range(n)])\n",
    "\n",
    "\n",
    "def initialiser_p(n, m, Q):\n",
    "    fct_r = np.random.rand(n, m)\n",
    "    return (fct_r >= (Q[:, 0] ** 2)).astype(int)\n",
    "\n",
    "\n",
    "def evaluer_fitness(P, arg_weights, arg_values, arg_max_weight):\n",
    "    S1 = np.dot(P, arg_values)\n",
    "    S2 = np.dot(P, arg_weights)\n",
    "    return np.where(S2 > arg_max_weight, 0, S1)\n",
    "\n",
    "\n",
    "def recuperer_meilleur(P, arg_fitness):\n",
    "    idx_max = np.argmax(arg_fitness)\n",
    "    return P[idx_max], arg_fitness[idx_max]\n",
    "\n",
    "\n",
    "def def_gamma(fitness_indi, fitness_max, bit_indi, bit_max):\n",
    "    conditions = [(bit_indi == 0) & (bit_max == 0),\n",
    "                  (bit_indi == 0) & (bit_max == 1) & (fitness_indi > fitness_max),\n",
    "                  (bit_indi == 1) & (bit_max == 0) & (fitness_indi > fitness_max),\n",
    "                  (bit_indi == 1) & (bit_max == 1) & (fitness_indi > fitness_max)]\n",
    "    choices = [0, 0.05 * np.pi, 0.025 * np.pi, 0.025 * np.pi]\n",
    "    return np.select(conditions, choices, default=0.01 * np.pi)\n",
    "\n",
    "\n",
    "def calcule_alpha_beta(alpha, beta, gamma):\n",
    "    alpha_prime = alpha * np.cos(gamma) - beta * np.sin(gamma)\n",
    "    beta_prime = alpha * np.sin(gamma) + beta * np.cos(gamma)\n",
    "    return alpha_prime, beta_prime\n",
    "\n",
    "\n",
    "def update(P, Q, B, fct_weights, fct_values, fct_max_weight):\n",
    "    best_sol, _ = get_best(B)\n",
    "    fitness = evaluer_fitness(P, fct_weights, fct_values, fct_max_weight)\n",
    "    for i in range(len(Q)):\n",
    "        for j in range(len(Q[i][0])):\n",
    "            alpha, beta = Q[i, 0, j], Q[i, 1, j]\n",
    "            gamma_fct = def_gamma(fitness[i], get_best(B)[1], P[i, j], best_sol[j])\n",
    "            alpha_prime, beta_prime = calcule_alpha_beta(alpha, beta, gamma_fct)\n",
    "            Q[i, 0, j], Q[i, 1, j] = alpha_prime, beta_prime\n",
    "    return Q\n",
    "\n",
    "\n",
    "def get_best(B):\n",
    "    return max(B, key=lambda x: x[1])\n",
    "\n",
    "\n",
    "def creer_p(Q):\n",
    "    r = np.random.rand(Q.shape[0], Q.shape[2])\n",
    "    return (r < (Q[:, 0, :] ** 2)).astype(int)\n",
    "\n",
    "\n",
    "def algorithme_quantique(n, m, arg_weights, arg_values, arg_max_weight, nb_iterations, seuil_amelioration=0.01,\n",
    "                         patience=10):\n",
    "    Q = initialiser_q(n, m)\n",
    "    B = []\n",
    "    historique_fitness = []  # Liste pour stocker l'historique des fitness\n",
    "    compteur_sans_amelioration = 0\n",
    "\n",
    "    for _ in range(nb_iterations):\n",
    "        P = creer_p(Q)\n",
    "        fct_fitness = evaluer_fitness(P, arg_weights, arg_values, arg_max_weight)\n",
    "        P_best, fct_fitness_best = recuperer_meilleur(P, fct_fitness)\n",
    "\n",
    "        # Mise à jour de l'historique et vérification du critère d'arrêt\n",
    "        if historique_fitness:\n",
    "            if fct_fitness_best - historique_fitness[-1] < seuil_amelioration:\n",
    "                compteur_sans_amelioration += 1\n",
    "            else:\n",
    "                compteur_sans_amelioration = 0\n",
    "        historique_fitness.append(fct_fitness_best)\n",
    "\n",
    "        if compteur_sans_amelioration >= patience:\n",
    "            print(f\"Arrêt après {_} itérations, car il n'y a pas eu d'amélioration significative.\")\n",
    "            break\n",
    "\n",
    "        B.append([P_best, fct_fitness_best])\n",
    "        Q = update(P, Q, B, arg_weights, arg_values, arg_max_weight)\n",
    "\n",
    "    return B, historique_fitness"
   ],
   "metadata": {
    "collapsed": false,
    "ExecuteTime": {
     "end_time": "2023-12-23T13:47:21.359554Z",
     "start_time": "2023-12-23T13:47:21.350778Z"
    }
   },
   "id": "7c1d675ae5684385"
  },
  {
   "cell_type": "code",
   "execution_count": 217,
   "outputs": [
    {
     "name": "stdout",
     "output_type": "stream",
     "text": [
      "([[array([0, 1, 1, 0, 0]), 220], [array([0, 1, 1, 0, 0]), 220], [array([0, 1, 1, 0, 0]), 220], [array([0, 1, 1, 0, 0]), 220], [array([0, 1, 1, 0, 0]), 220], [array([0, 1, 1, 0, 0]), 220], [array([0, 1, 1, 0, 0]), 220], [array([0, 1, 1, 0, 0]), 220], [array([0, 1, 1, 0, 0]), 220], [array([0, 1, 1, 0, 0]), 220], [array([0, 1, 1, 0, 0]), 220], [array([0, 1, 1, 0, 0]), 220], [array([0, 1, 1, 0, 0]), 220], [array([1, 0, 0, 1, 0]), 200], [array([0, 1, 1, 0, 0]), 220], [array([1, 0, 0, 1, 0]), 200], [array([1, 0, 0, 1, 0]), 200], [array([1, 0, 0, 1, 0]), 200], [array([1, 0, 0, 1, 0]), 200], [array([1, 0, 0, 1, 0]), 200], [array([1, 0, 0, 1, 0]), 200], [array([1, 0, 0, 1, 0]), 200], [array([1, 0, 0, 1, 0]), 200], [array([1, 0, 0, 1, 0]), 200], [array([1, 0, 0, 1, 0]), 200], [array([0, 0, 0, 0, 1]), 160], [array([1, 0, 0, 1, 0]), 200], [array([1, 0, 0, 1, 0]), 200], [array([1, 0, 0, 1, 0]), 200], [array([1, 0, 0, 1, 0]), 200], [array([1, 0, 0, 1, 0]), 200], [array([1, 0, 0, 1, 0]), 200], [array([1, 0, 0, 1, 0]), 200], [array([1, 0, 0, 1, 0]), 200], [array([1, 0, 0, 1, 0]), 200], [array([1, 0, 0, 1, 0]), 200], [array([0, 1, 1, 0, 0]), 220], [array([0, 1, 1, 0, 0]), 220], [array([0, 1, 1, 0, 0]), 220], [array([0, 1, 1, 0, 0]), 220], [array([0, 1, 1, 0, 0]), 220], [array([0, 1, 1, 0, 0]), 220], [array([0, 1, 1, 0, 0]), 220], [array([0, 1, 1, 0, 0]), 220], [array([0, 1, 1, 0, 0]), 220], [array([0, 1, 1, 0, 0]), 220], [array([0, 1, 1, 0, 0]), 220], [array([0, 1, 1, 0, 0]), 220], [array([0, 1, 1, 0, 0]), 220], [array([0, 1, 1, 0, 0]), 220], [array([0, 1, 1, 0, 0]), 220], [array([0, 1, 1, 0, 0]), 220], [array([0, 1, 1, 0, 0]), 220], [array([0, 1, 1, 0, 0]), 220], [array([0, 1, 1, 0, 0]), 220], [array([0, 1, 1, 0, 0]), 220], [array([0, 1, 1, 0, 0]), 220], [array([0, 1, 1, 0, 0]), 220], [array([0, 1, 1, 0, 0]), 220], [array([0, 1, 1, 0, 0]), 220], [array([0, 1, 1, 0, 0]), 220], [array([0, 1, 1, 0, 0]), 220], [array([0, 1, 1, 0, 0]), 220], [array([0, 1, 1, 0, 0]), 220], [array([0, 1, 1, 0, 0]), 220], [array([0, 1, 1, 0, 0]), 220], [array([0, 1, 1, 0, 0]), 220], [array([0, 1, 1, 0, 0]), 220], [array([0, 1, 1, 0, 0]), 220], [array([0, 1, 1, 0, 0]), 220], [array([0, 1, 1, 0, 0]), 220], [array([0, 1, 1, 0, 0]), 220], [array([0, 1, 1, 0, 0]), 220], [array([0, 1, 1, 0, 0]), 220], [array([0, 1, 1, 0, 0]), 220], [array([0, 1, 1, 0, 0]), 220], [array([0, 1, 1, 0, 0]), 220], [array([0, 1, 1, 0, 0]), 220], [array([0, 1, 1, 0, 0]), 220], [array([0, 1, 1, 0, 0]), 220], [array([0, 1, 1, 0, 0]), 220], [array([0, 1, 1, 0, 0]), 220], [array([0, 1, 1, 0, 0]), 220], [array([0, 1, 1, 0, 0]), 220], [array([0, 1, 1, 0, 0]), 220], [array([0, 1, 1, 0, 0]), 220], [array([0, 1, 1, 0, 0]), 220], [array([0, 1, 1, 0, 0]), 220], [array([0, 1, 1, 0, 0]), 220], [array([0, 1, 1, 0, 0]), 220], [array([0, 1, 1, 0, 0]), 220], [array([0, 1, 1, 0, 0]), 220], [array([0, 1, 1, 0, 0]), 220], [array([0, 1, 1, 0, 0]), 220], [array([0, 1, 1, 0, 0]), 220], [array([0, 1, 1, 0, 0]), 220], [array([0, 1, 1, 0, 0]), 220], [array([0, 1, 1, 0, 0]), 220], [array([0, 1, 1, 0, 0]), 220], [array([0, 1, 1, 0, 0]), 220], [array([0, 1, 1, 0, 0]), 220], [array([0, 1, 1, 0, 0]), 220], [array([0, 1, 1, 0, 0]), 220], [array([0, 1, 1, 0, 0]), 220], [array([0, 1, 1, 0, 0]), 220], [array([0, 1, 1, 0, 0]), 220], [array([0, 1, 1, 0, 0]), 220], [array([0, 1, 1, 0, 0]), 220], [array([0, 1, 1, 0, 0]), 220], [array([0, 1, 1, 0, 0]), 220], [array([0, 1, 1, 0, 0]), 220], [array([0, 1, 1, 0, 0]), 220], [array([0, 1, 1, 0, 0]), 220], [array([0, 1, 1, 0, 0]), 220], [array([1, 1, 0, 0, 0]), 160], [array([1, 0, 1, 0, 0]), 180], [array([1, 0, 0, 1, 0]), 200], [array([0, 0, 0, 0, 1]), 160], [array([0, 0, 0, 0, 1]), 160], [array([0, 0, 0, 0, 1]), 160], [array([0, 0, 0, 0, 1]), 160], [array([1, 0, 0, 1, 0]), 200], [array([1, 0, 0, 1, 0]), 200], [array([0, 0, 0, 0, 1]), 160], [array([0, 0, 0, 0, 1]), 160], [array([0, 0, 0, 0, 1]), 160], [array([0, 0, 0, 0, 1]), 160], [array([0, 0, 0, 0, 1]), 160], [array([0, 0, 0, 0, 1]), 160], [array([0, 0, 0, 0, 1]), 160], [array([1, 0, 0, 1, 0]), 200], [array([0, 0, 0, 0, 1]), 160], [array([0, 1, 1, 0, 0]), 220], [array([0, 0, 0, 0, 1]), 160], [array([0, 1, 1, 0, 0]), 220], [array([1, 0, 1, 0, 0]), 180], [array([0, 0, 0, 0, 1]), 160], [array([0, 0, 0, 0, 1]), 160], [array([0, 1, 1, 0, 0]), 220], [array([0, 1, 1, 0, 0]), 220], [array([0, 1, 1, 0, 0]), 220], [array([0, 1, 1, 0, 0]), 220], [array([0, 1, 1, 0, 0]), 220], [array([0, 1, 1, 0, 0]), 220], [array([0, 1, 1, 0, 0]), 220], [array([0, 1, 1, 0, 0]), 220], [array([0, 1, 1, 0, 0]), 220], [array([0, 1, 1, 0, 0]), 220], [array([0, 1, 1, 0, 0]), 220], [array([0, 1, 1, 0, 0]), 220], [array([0, 1, 1, 0, 0]), 220], [array([0, 1, 1, 0, 0]), 220], [array([0, 1, 1, 0, 0]), 220], [array([0, 1, 1, 0, 0]), 220], [array([0, 1, 1, 0, 0]), 220], [array([0, 1, 1, 0, 0]), 220], [array([0, 1, 1, 0, 0]), 220], [array([0, 1, 1, 0, 0]), 220], [array([0, 1, 1, 0, 0]), 220], [array([0, 1, 1, 0, 0]), 220], [array([0, 1, 1, 0, 0]), 220], [array([0, 1, 1, 0, 0]), 220], [array([0, 1, 1, 0, 0]), 220], [array([0, 1, 1, 0, 0]), 220], [array([0, 1, 1, 0, 0]), 220], [array([0, 1, 1, 0, 0]), 220], [array([0, 1, 1, 0, 0]), 220], [array([0, 1, 1, 0, 0]), 220], [array([0, 1, 1, 0, 0]), 220], [array([0, 1, 1, 0, 0]), 220], [array([0, 1, 1, 0, 0]), 220], [array([0, 1, 1, 0, 0]), 220], [array([0, 1, 1, 0, 0]), 220], [array([0, 1, 1, 0, 0]), 220], [array([0, 1, 1, 0, 0]), 220], [array([0, 1, 1, 0, 0]), 220], [array([0, 1, 1, 0, 0]), 220], [array([0, 1, 1, 0, 0]), 220], [array([0, 1, 1, 0, 0]), 220], [array([0, 1, 1, 0, 0]), 220], [array([0, 1, 1, 0, 0]), 220], [array([0, 1, 1, 0, 0]), 220], [array([0, 1, 1, 0, 0]), 220], [array([0, 1, 1, 0, 0]), 220], [array([0, 1, 1, 0, 0]), 220], [array([0, 1, 1, 0, 0]), 220], [array([0, 1, 1, 0, 0]), 220], [array([0, 1, 1, 0, 0]), 220], [array([0, 1, 1, 0, 0]), 220], [array([0, 1, 1, 0, 0]), 220], [array([0, 1, 1, 0, 0]), 220], [array([0, 1, 1, 0, 0]), 220], [array([0, 1, 1, 0, 0]), 220], [array([0, 1, 1, 0, 0]), 220], [array([0, 1, 1, 0, 0]), 220], [array([0, 1, 1, 0, 0]), 220], [array([0, 1, 1, 0, 0]), 220], [array([0, 1, 1, 0, 0]), 220], [array([0, 1, 1, 0, 0]), 220], [array([0, 1, 1, 0, 0]), 220], [array([0, 1, 1, 0, 0]), 220], [array([0, 1, 1, 0, 0]), 220], [array([0, 1, 1, 0, 0]), 220], [array([0, 1, 1, 0, 0]), 220], [array([0, 1, 1, 0, 0]), 220], [array([0, 1, 1, 0, 0]), 220], [array([0, 1, 1, 0, 0]), 220], [array([0, 1, 1, 0, 0]), 220], [array([0, 1, 1, 0, 0]), 220], [array([0, 1, 1, 0, 0]), 220], [array([0, 1, 1, 0, 0]), 220], [array([0, 1, 1, 0, 0]), 220], [array([0, 1, 1, 0, 0]), 220], [array([0, 1, 1, 0, 0]), 220], [array([0, 1, 1, 0, 0]), 220], [array([0, 1, 1, 0, 0]), 220], [array([0, 0, 0, 1, 0]), 140], [array([0, 0, 0, 0, 1]), 160], [array([0, 0, 0, 0, 1]), 160], [array([0, 0, 0, 0, 1]), 160], [array([0, 0, 0, 1, 0]), 140], [array([0, 0, 0, 0, 1]), 160], [array([0, 0, 0, 0, 1]), 160], [array([1, 0, 0, 0, 0]), 60], [array([0, 0, 0, 0, 1]), 160], [array([0, 0, 0, 0, 1]), 160], [array([0, 0, 0, 0, 1]), 160], [array([0, 0, 0, 0, 1]), 160], [array([0, 0, 0, 0, 1]), 160], [array([0, 0, 0, 0, 1]), 160], [array([0, 0, 0, 0, 1]), 160], [array([0, 0, 0, 0, 1]), 160], [array([0, 0, 0, 0, 1]), 160], [array([0, 0, 0, 1, 0]), 140], [array([0, 0, 0, 0, 1]), 160], [array([0, 1, 1, 0, 0]), 220], [array([0, 1, 1, 0, 0]), 220], [array([0, 1, 1, 0, 0]), 220], [array([0, 1, 1, 0, 0]), 220], [array([0, 1, 1, 0, 0]), 220], [array([0, 1, 1, 0, 0]), 220], [array([0, 1, 1, 0, 0]), 220], [array([0, 1, 1, 0, 0]), 220], [array([0, 1, 1, 0, 0]), 220], [array([0, 1, 1, 0, 0]), 220], [array([0, 1, 1, 0, 0]), 220], [array([0, 1, 1, 0, 0]), 220], [array([0, 1, 1, 0, 0]), 220], [array([0, 1, 1, 0, 0]), 220], [array([0, 1, 1, 0, 0]), 220], [array([0, 1, 1, 0, 0]), 220], [array([0, 1, 1, 0, 0]), 220], [array([0, 1, 1, 0, 0]), 220], [array([0, 1, 1, 0, 0]), 220], [array([0, 1, 1, 0, 0]), 220], [array([0, 1, 1, 0, 0]), 220], [array([0, 1, 1, 0, 0]), 220], [array([0, 1, 1, 0, 0]), 220], [array([0, 1, 1, 0, 0]), 220], [array([0, 1, 1, 0, 0]), 220], [array([0, 1, 1, 0, 0]), 220], [array([0, 1, 1, 0, 0]), 220], [array([0, 1, 1, 0, 0]), 220], [array([0, 1, 1, 0, 0]), 220], [array([0, 1, 1, 0, 0]), 220], [array([0, 1, 1, 0, 0]), 220], [array([0, 1, 1, 0, 0]), 220], [array([0, 1, 1, 0, 0]), 220], [array([0, 1, 1, 0, 0]), 220], [array([0, 1, 1, 0, 0]), 220], [array([0, 1, 1, 0, 0]), 220], [array([0, 1, 1, 0, 0]), 220], [array([0, 1, 1, 0, 0]), 220], [array([0, 1, 1, 0, 0]), 220], [array([0, 1, 1, 0, 0]), 220], [array([0, 1, 1, 0, 0]), 220], [array([0, 1, 1, 0, 0]), 220], [array([0, 1, 1, 0, 0]), 220], [array([0, 1, 1, 0, 0]), 220], [array([0, 1, 1, 0, 0]), 220], [array([0, 1, 1, 0, 0]), 220], [array([0, 1, 1, 0, 0]), 220], [array([0, 1, 1, 0, 0]), 220], [array([0, 1, 1, 0, 0]), 220], [array([0, 1, 1, 0, 0]), 220], [array([0, 1, 1, 0, 0]), 220], [array([0, 1, 1, 0, 0]), 220], [array([0, 1, 1, 0, 0]), 220], [array([0, 1, 1, 0, 0]), 220], [array([0, 1, 1, 0, 0]), 220], [array([0, 1, 1, 0, 0]), 220], [array([0, 1, 1, 0, 0]), 220], [array([0, 1, 1, 0, 0]), 220], [array([0, 1, 1, 0, 0]), 220], [array([0, 1, 1, 0, 0]), 220], [array([0, 1, 1, 0, 0]), 220], [array([0, 1, 1, 0, 0]), 220], [array([0, 1, 1, 0, 0]), 220], [array([0, 1, 1, 0, 0]), 220], [array([0, 1, 1, 0, 0]), 220], [array([0, 1, 1, 0, 0]), 220], [array([0, 1, 1, 0, 0]), 220], [array([0, 1, 1, 0, 0]), 220], [array([0, 1, 1, 0, 0]), 220], [array([0, 1, 1, 0, 0]), 220], [array([0, 1, 1, 0, 0]), 220], [array([0, 1, 1, 0, 0]), 220], [array([0, 1, 1, 0, 0]), 220], [array([0, 1, 1, 0, 0]), 220], [array([0, 1, 1, 0, 0]), 220], [array([0, 1, 1, 0, 0]), 220], [array([0, 1, 1, 0, 0]), 220], [array([0, 1, 1, 0, 0]), 220], [array([1, 1, 0, 0, 0]), 160], [array([0, 1, 1, 0, 0]), 220], [array([0, 0, 0, 0, 1]), 160], [array([0, 1, 1, 0, 0]), 220], [array([0, 1, 1, 0, 0]), 220], [array([0, 0, 0, 0, 1]), 160], [array([0, 0, 1, 0, 0]), 120], [array([0, 0, 1, 0, 0]), 120], [array([0, 0, 0, 0, 1]), 160], [array([0, 0, 0, 1, 0]), 140], [array([0, 0, 0, 0, 1]), 160], [array([0, 0, 0, 1, 0]), 140], [array([0, 0, 0, 0, 0]), 0], [array([0, 0, 0, 0, 1]), 160], [array([0, 0, 0, 0, 1]), 160], [array([0, 0, 0, 0, 1]), 160], [array([1, 0, 1, 0, 0]), 180], [array([0, 0, 0, 1, 0]), 140], [array([0, 0, 0, 1, 0]), 140], [array([0, 0, 0, 0, 1]), 160], [array([0, 0, 0, 0, 1]), 160], [array([0, 0, 1, 0, 0]), 120], [array([0, 0, 1, 0, 0]), 120], [array([0, 1, 1, 0, 0]), 220], [array([0, 0, 0, 0, 1]), 160], [array([0, 1, 1, 0, 0]), 220], [array([0, 1, 1, 0, 0]), 220], [array([0, 1, 1, 0, 0]), 220], [array([0, 1, 1, 0, 0]), 220], [array([0, 1, 1, 0, 0]), 220], [array([0, 1, 1, 0, 0]), 220], [array([0, 1, 1, 0, 0]), 220], [array([0, 1, 1, 0, 0]), 220], [array([0, 1, 1, 0, 0]), 220], [array([0, 1, 1, 0, 0]), 220], [array([0, 1, 1, 0, 0]), 220], [array([0, 1, 1, 0, 0]), 220], [array([0, 1, 1, 0, 0]), 220], [array([0, 1, 1, 0, 0]), 220], [array([0, 1, 1, 0, 0]), 220], [array([0, 1, 1, 0, 0]), 220], [array([0, 1, 1, 0, 0]), 220], [array([0, 1, 1, 0, 0]), 220], [array([0, 1, 1, 0, 0]), 220], [array([0, 1, 1, 0, 0]), 220], [array([0, 1, 1, 0, 0]), 220], [array([0, 1, 1, 0, 0]), 220], [array([0, 1, 1, 0, 0]), 220], [array([0, 1, 1, 0, 0]), 220], [array([0, 1, 1, 0, 0]), 220], [array([0, 1, 1, 0, 0]), 220], [array([0, 1, 1, 0, 0]), 220], [array([0, 1, 1, 0, 0]), 220], [array([0, 1, 1, 0, 0]), 220], [array([0, 1, 1, 0, 0]), 220], [array([0, 1, 1, 0, 0]), 220], [array([0, 1, 1, 0, 0]), 220], [array([0, 1, 1, 0, 0]), 220], [array([0, 1, 1, 0, 0]), 220], [array([0, 1, 1, 0, 0]), 220], [array([0, 1, 1, 0, 0]), 220], [array([0, 1, 1, 0, 0]), 220], [array([0, 1, 1, 0, 0]), 220], [array([0, 1, 1, 0, 0]), 220], [array([0, 1, 1, 0, 0]), 220], [array([0, 1, 1, 0, 0]), 220], [array([0, 1, 1, 0, 0]), 220], [array([0, 1, 1, 0, 0]), 220], [array([0, 1, 1, 0, 0]), 220], [array([0, 1, 1, 0, 0]), 220], [array([0, 1, 1, 0, 0]), 220], [array([0, 1, 1, 0, 0]), 220], [array([0, 1, 1, 0, 0]), 220], [array([0, 1, 1, 0, 0]), 220], [array([0, 1, 1, 0, 0]), 220], [array([0, 1, 1, 0, 0]), 220], [array([0, 1, 1, 0, 0]), 220], [array([0, 1, 1, 0, 0]), 220], [array([0, 1, 1, 0, 0]), 220], [array([0, 1, 1, 0, 0]), 220], [array([0, 1, 1, 0, 0]), 220], [array([0, 1, 1, 0, 0]), 220], [array([0, 1, 1, 0, 0]), 220], [array([0, 1, 1, 0, 0]), 220], [array([0, 1, 1, 0, 0]), 220], [array([0, 1, 1, 0, 0]), 220], [array([0, 1, 1, 0, 0]), 220], [array([0, 1, 1, 0, 0]), 220], [array([0, 1, 1, 0, 0]), 220], [array([0, 1, 1, 0, 0]), 220], [array([0, 1, 1, 0, 0]), 220], [array([0, 1, 1, 0, 0]), 220], [array([0, 1, 1, 0, 0]), 220], [array([0, 1, 1, 0, 0]), 220], [array([0, 1, 1, 0, 0]), 220], [array([0, 1, 1, 0, 0]), 220], [array([0, 1, 1, 0, 0]), 220], [array([0, 1, 1, 0, 0]), 220], [array([0, 1, 1, 0, 0]), 220], [array([0, 1, 1, 0, 0]), 220], [array([0, 1, 1, 0, 0]), 220], [array([0, 1, 1, 0, 0]), 220], [array([0, 0, 0, 0, 1]), 160], [array([0, 1, 1, 0, 0]), 220], [array([0, 0, 1, 0, 0]), 120], [array([1, 1, 0, 0, 0]), 160], [array([0, 0, 1, 0, 0]), 120], [array([0, 0, 0, 0, 1]), 160], [array([0, 0, 0, 1, 0]), 140], [array([0, 0, 1, 0, 0]), 120], [array([0, 0, 0, 1, 0]), 140], [array([0, 0, 0, 0, 0]), 0], [array([1, 0, 0, 0, 0]), 60], [array([0, 0, 0, 0, 1]), 160], [array([0, 0, 0, 0, 1]), 160], [array([0, 0, 0, 1, 0]), 140], [array([0, 0, 1, 0, 0]), 120], [array([0, 0, 1, 0, 0]), 120], [array([0, 0, 0, 1, 0]), 140], [array([0, 0, 0, 0, 1]), 160], [array([0, 0, 0, 0, 1]), 160], [array([0, 1, 1, 0, 0]), 220], [array([0, 1, 1, 0, 0]), 220], [array([0, 1, 1, 0, 0]), 220], [array([0, 1, 1, 0, 0]), 220], [array([0, 1, 1, 0, 0]), 220], [array([0, 1, 1, 0, 0]), 220], [array([0, 1, 1, 0, 0]), 220], [array([0, 1, 1, 0, 0]), 220], [array([0, 1, 1, 0, 0]), 220], [array([0, 1, 1, 0, 0]), 220], [array([0, 1, 1, 0, 0]), 220], [array([0, 1, 1, 0, 0]), 220], [array([0, 1, 1, 0, 0]), 220], [array([0, 1, 1, 0, 0]), 220], [array([0, 1, 1, 0, 0]), 220], [array([0, 1, 1, 0, 0]), 220], [array([0, 1, 1, 0, 0]), 220], [array([0, 1, 1, 0, 0]), 220], [array([0, 1, 1, 0, 0]), 220], [array([0, 1, 1, 0, 0]), 220], [array([0, 1, 1, 0, 0]), 220], [array([0, 1, 1, 0, 0]), 220], [array([0, 1, 1, 0, 0]), 220], [array([0, 1, 1, 0, 0]), 220], [array([0, 1, 1, 0, 0]), 220], [array([0, 1, 1, 0, 0]), 220], [array([0, 1, 1, 0, 0]), 220], [array([0, 1, 1, 0, 0]), 220], [array([0, 1, 1, 0, 0]), 220], [array([0, 1, 1, 0, 0]), 220], [array([0, 1, 1, 0, 0]), 220], [array([0, 1, 1, 0, 0]), 220], [array([0, 1, 1, 0, 0]), 220], [array([0, 1, 1, 0, 0]), 220], [array([0, 1, 1, 0, 0]), 220], [array([0, 1, 1, 0, 0]), 220], [array([0, 1, 1, 0, 0]), 220], [array([0, 1, 1, 0, 0]), 220], [array([0, 1, 1, 0, 0]), 220], [array([0, 1, 1, 0, 0]), 220], [array([0, 1, 1, 0, 0]), 220], [array([0, 1, 1, 0, 0]), 220], [array([0, 1, 1, 0, 0]), 220], [array([0, 1, 1, 0, 0]), 220], [array([0, 1, 1, 0, 0]), 220], [array([0, 1, 1, 0, 0]), 220], [array([0, 1, 1, 0, 0]), 220], [array([0, 1, 1, 0, 0]), 220], [array([0, 1, 1, 0, 0]), 220], [array([0, 1, 1, 0, 0]), 220], [array([0, 1, 1, 0, 0]), 220], [array([0, 1, 1, 0, 0]), 220], [array([0, 1, 1, 0, 0]), 220], [array([0, 1, 1, 0, 0]), 220], [array([0, 1, 1, 0, 0]), 220], [array([0, 1, 1, 0, 0]), 220], [array([0, 1, 1, 0, 0]), 220], [array([0, 1, 1, 0, 0]), 220], [array([0, 1, 1, 0, 0]), 220], [array([0, 1, 1, 0, 0]), 220], [array([0, 1, 1, 0, 0]), 220], [array([0, 1, 1, 0, 0]), 220], [array([0, 1, 1, 0, 0]), 220], [array([0, 1, 1, 0, 0]), 220], [array([0, 1, 1, 0, 0]), 220], [array([0, 1, 1, 0, 0]), 220], [array([0, 1, 1, 0, 0]), 220], [array([0, 1, 1, 0, 0]), 220], [array([0, 1, 1, 0, 0]), 220], [array([0, 1, 1, 0, 0]), 220], [array([0, 1, 1, 0, 0]), 220], [array([0, 1, 1, 0, 0]), 220], [array([0, 1, 1, 0, 0]), 220], [array([0, 1, 1, 0, 0]), 220], [array([0, 1, 1, 0, 0]), 220], [array([0, 1, 1, 0, 0]), 220], [array([0, 1, 1, 0, 0]), 220], [array([0, 1, 1, 0, 0]), 220], [array([0, 1, 1, 0, 0]), 220], [array([0, 1, 1, 0, 0]), 220], [array([0, 0, 1, 0, 0]), 120], [array([1, 0, 1, 0, 0]), 180], [array([0, 0, 1, 0, 0]), 120], [array([0, 0, 1, 0, 0]), 120], [array([0, 0, 0, 1, 0]), 140], [array([0, 0, 1, 0, 0]), 120], [array([0, 0, 0, 0, 1]), 160], [array([0, 0, 1, 0, 0]), 120], [array([0, 0, 1, 0, 0]), 120], [array([0, 0, 0, 0, 1]), 160], [array([0, 0, 0, 0, 0]), 0], [array([0, 0, 0, 1, 0]), 140], [array([0, 0, 0, 0, 1]), 160], [array([0, 0, 1, 0, 0]), 120], [array([0, 0, 0, 1, 0]), 140], [array([0, 0, 0, 1, 0]), 140], [array([1, 1, 0, 0, 0]), 160], [array([0, 0, 1, 0, 0]), 120], [array([0, 1, 1, 0, 0]), 220], [array([0, 0, 0, 0, 1]), 160], [array([0, 0, 1, 0, 0]), 120], [array([0, 1, 1, 0, 0]), 220], [array([0, 1, 1, 0, 0]), 220], [array([0, 1, 1, 0, 0]), 220], [array([0, 1, 1, 0, 0]), 220], [array([0, 1, 1, 0, 0]), 220], [array([0, 1, 1, 0, 0]), 220], [array([0, 1, 1, 0, 0]), 220], [array([0, 1, 1, 0, 0]), 220], [array([0, 1, 1, 0, 0]), 220], [array([0, 1, 1, 0, 0]), 220], [array([0, 1, 1, 0, 0]), 220], [array([0, 1, 1, 0, 0]), 220], [array([0, 1, 1, 0, 0]), 220], [array([0, 1, 1, 0, 0]), 220], [array([0, 1, 1, 0, 0]), 220], [array([0, 1, 1, 0, 0]), 220], [array([0, 1, 1, 0, 0]), 220], [array([0, 1, 1, 0, 0]), 220], [array([0, 1, 1, 0, 0]), 220], [array([0, 1, 1, 0, 0]), 220], [array([0, 1, 1, 0, 0]), 220], [array([0, 1, 1, 0, 0]), 220], [array([0, 1, 1, 0, 0]), 220], [array([0, 1, 1, 0, 0]), 220], [array([0, 1, 1, 0, 0]), 220], [array([0, 1, 1, 0, 0]), 220], [array([0, 1, 1, 0, 0]), 220], [array([0, 1, 1, 0, 0]), 220], [array([0, 1, 1, 0, 0]), 220], [array([0, 1, 1, 0, 0]), 220], [array([0, 1, 1, 0, 0]), 220], [array([0, 1, 1, 0, 0]), 220], [array([0, 1, 1, 0, 0]), 220], [array([0, 1, 1, 0, 0]), 220], [array([0, 1, 1, 0, 0]), 220], [array([0, 1, 1, 0, 0]), 220], [array([0, 1, 1, 0, 0]), 220], [array([0, 1, 1, 0, 0]), 220], [array([0, 1, 1, 0, 0]), 220], [array([0, 1, 1, 0, 0]), 220], [array([0, 1, 1, 0, 0]), 220], [array([0, 1, 1, 0, 0]), 220], [array([0, 1, 1, 0, 0]), 220], [array([0, 1, 1, 0, 0]), 220], [array([0, 1, 1, 0, 0]), 220], [array([0, 1, 1, 0, 0]), 220], [array([0, 1, 1, 0, 0]), 220], [array([0, 1, 1, 0, 0]), 220], [array([0, 1, 1, 0, 0]), 220], [array([0, 1, 1, 0, 0]), 220], [array([0, 1, 1, 0, 0]), 220], [array([0, 1, 1, 0, 0]), 220], [array([0, 1, 1, 0, 0]), 220], [array([0, 1, 1, 0, 0]), 220], [array([0, 1, 1, 0, 0]), 220], [array([0, 1, 1, 0, 0]), 220], [array([0, 1, 1, 0, 0]), 220], [array([0, 1, 1, 0, 0]), 220], [array([0, 1, 1, 0, 0]), 220], [array([0, 1, 1, 0, 0]), 220], [array([0, 1, 1, 0, 0]), 220], [array([0, 1, 1, 0, 0]), 220], [array([0, 1, 1, 0, 0]), 220], [array([0, 1, 1, 0, 0]), 220], [array([0, 1, 1, 0, 0]), 220], [array([0, 1, 1, 0, 0]), 220], [array([0, 1, 1, 0, 0]), 220], [array([0, 1, 1, 0, 0]), 220], [array([0, 1, 1, 0, 0]), 220], [array([0, 1, 1, 0, 0]), 220], [array([0, 1, 1, 0, 0]), 220], [array([0, 1, 1, 0, 0]), 220], [array([0, 1, 1, 0, 0]), 220], [array([0, 1, 1, 0, 0]), 220], [array([0, 1, 1, 0, 0]), 220], [array([0, 1, 1, 0, 0]), 220], [array([0, 1, 1, 0, 0]), 220], [array([0, 1, 1, 0, 0]), 220], [array([0, 1, 1, 0, 0]), 220], [array([0, 1, 1, 0, 0]), 220], [array([0, 1, 1, 0, 0]), 220], [array([0, 0, 0, 0, 1]), 160], [array([0, 1, 1, 0, 0]), 220], [array([0, 0, 0, 1, 0]), 140], [array([0, 0, 0, 0, 1]), 160], [array([0, 0, 0, 1, 0]), 140], [array([0, 0, 0, 1, 0]), 140], [array([0, 0, 1, 0, 0]), 120], [array([0, 0, 1, 0, 0]), 120], [array([0, 0, 0, 1, 0]), 140], [array([1, 0, 0, 0, 0]), 60], [array([1, 0, 0, 0, 0]), 60], [array([0, 0, 1, 0, 0]), 120], [array([0, 0, 0, 0, 1]), 160], [array([0, 0, 0, 1, 0]), 140], [array([0, 0, 1, 0, 0]), 120], [array([0, 0, 1, 0, 0]), 120], [array([0, 0, 1, 0, 0]), 120], [array([0, 0, 1, 0, 0]), 120], [array([0, 1, 1, 0, 0]), 220], [array([0, 1, 1, 0, 0]), 220], [array([0, 1, 1, 0, 0]), 220], [array([0, 1, 1, 0, 0]), 220], [array([0, 1, 1, 0, 0]), 220], [array([0, 1, 1, 0, 0]), 220], [array([0, 1, 1, 0, 0]), 220], [array([0, 1, 1, 0, 0]), 220], [array([0, 1, 1, 0, 0]), 220], [array([0, 1, 1, 0, 0]), 220], [array([0, 1, 1, 0, 0]), 220], [array([0, 1, 1, 0, 0]), 220], [array([0, 1, 1, 0, 0]), 220], [array([0, 1, 1, 0, 0]), 220], [array([0, 1, 1, 0, 0]), 220], [array([0, 1, 1, 0, 0]), 220], [array([0, 1, 1, 0, 0]), 220], [array([0, 1, 1, 0, 0]), 220], [array([0, 1, 1, 0, 0]), 220], [array([0, 1, 1, 0, 0]), 220], [array([0, 1, 1, 0, 0]), 220], [array([0, 1, 1, 0, 0]), 220], [array([0, 1, 1, 0, 0]), 220], [array([0, 1, 1, 0, 0]), 220], [array([0, 1, 1, 0, 0]), 220], [array([0, 1, 1, 0, 0]), 220], [array([0, 1, 1, 0, 0]), 220], [array([0, 1, 1, 0, 0]), 220], [array([0, 1, 1, 0, 0]), 220], [array([0, 1, 1, 0, 0]), 220], [array([0, 1, 1, 0, 0]), 220], [array([0, 1, 1, 0, 0]), 220], [array([0, 1, 1, 0, 0]), 220], [array([0, 1, 1, 0, 0]), 220], [array([0, 1, 1, 0, 0]), 220], [array([0, 1, 1, 0, 0]), 220], [array([0, 1, 1, 0, 0]), 220], [array([0, 1, 1, 0, 0]), 220], [array([0, 1, 1, 0, 0]), 220], [array([0, 1, 1, 0, 0]), 220], [array([0, 1, 1, 0, 0]), 220], [array([0, 1, 1, 0, 0]), 220], [array([0, 1, 1, 0, 0]), 220], [array([0, 1, 1, 0, 0]), 220], [array([0, 1, 1, 0, 0]), 220], [array([0, 1, 1, 0, 0]), 220], [array([0, 1, 1, 0, 0]), 220], [array([0, 1, 1, 0, 0]), 220], [array([0, 1, 1, 0, 0]), 220], [array([0, 1, 1, 0, 0]), 220], [array([0, 1, 1, 0, 0]), 220], [array([0, 1, 1, 0, 0]), 220], [array([0, 1, 1, 0, 0]), 220], [array([0, 1, 1, 0, 0]), 220], [array([0, 1, 1, 0, 0]), 220], [array([0, 1, 1, 0, 0]), 220], [array([0, 1, 1, 0, 0]), 220], [array([0, 1, 1, 0, 0]), 220], [array([0, 1, 1, 0, 0]), 220], [array([0, 1, 1, 0, 0]), 220], [array([0, 1, 1, 0, 0]), 220], [array([0, 1, 1, 0, 0]), 220], [array([0, 1, 1, 0, 0]), 220], [array([0, 1, 1, 0, 0]), 220], [array([0, 1, 1, 0, 0]), 220], [array([0, 1, 1, 0, 0]), 220], [array([0, 1, 1, 0, 0]), 220], [array([0, 1, 1, 0, 0]), 220], [array([0, 1, 1, 0, 0]), 220], [array([0, 1, 1, 0, 0]), 220], [array([0, 1, 1, 0, 0]), 220], [array([0, 1, 1, 0, 0]), 220], [array([0, 1, 1, 0, 0]), 220], [array([0, 1, 1, 0, 0]), 220], [array([0, 1, 1, 0, 0]), 220], [array([0, 1, 1, 0, 0]), 220], [array([0, 1, 1, 0, 0]), 220], [array([0, 1, 1, 0, 0]), 220], [array([0, 1, 1, 0, 0]), 220], [array([0, 1, 1, 0, 0]), 220], [array([0, 1, 1, 0, 0]), 220], [array([0, 1, 1, 0, 0]), 220], [array([0, 0, 1, 0, 0]), 120], [array([0, 0, 1, 0, 0]), 120], [array([0, 0, 1, 0, 0]), 120], [array([0, 0, 0, 0, 1]), 160], [array([0, 0, 0, 1, 0]), 140], [array([0, 0, 1, 0, 0]), 120], [array([0, 1, 0, 0, 0]), 100], [array([0, 0, 1, 0, 0]), 120], [array([0, 0, 0, 0, 1]), 160], [array([0, 0, 0, 0, 1]), 160], [array([0, 0, 0, 0, 0]), 0], [array([0, 0, 1, 0, 0]), 120], [array([0, 0, 0, 1, 0]), 140], [array([0, 0, 1, 0, 0]), 120], [array([0, 0, 1, 0, 0]), 120], [array([0, 0, 1, 0, 0]), 120], [array([0, 0, 1, 0, 0]), 120], [array([0, 0, 0, 0, 1]), 160], [array([0, 1, 1, 0, 0]), 220], [array([0, 1, 1, 0, 0]), 220], [array([0, 1, 1, 0, 0]), 220], [array([0, 0, 1, 0, 0]), 120], [array([0, 1, 1, 0, 0]), 220], [array([0, 1, 1, 0, 0]), 220], [array([0, 1, 1, 0, 0]), 220], [array([0, 1, 1, 0, 0]), 220], [array([0, 1, 1, 0, 0]), 220], [array([0, 1, 1, 0, 0]), 220], [array([0, 1, 1, 0, 0]), 220], [array([0, 1, 1, 0, 0]), 220], [array([0, 1, 1, 0, 0]), 220], [array([0, 1, 1, 0, 0]), 220], [array([0, 1, 1, 0, 0]), 220], [array([0, 1, 1, 0, 0]), 220], [array([0, 1, 1, 0, 0]), 220], [array([0, 1, 1, 0, 0]), 220], [array([0, 1, 1, 0, 0]), 220], [array([0, 1, 1, 0, 0]), 220], [array([0, 1, 1, 0, 0]), 220], [array([0, 1, 1, 0, 0]), 220], [array([0, 1, 1, 0, 0]), 220], [array([0, 1, 1, 0, 0]), 220], [array([0, 1, 1, 0, 0]), 220], [array([0, 1, 1, 0, 0]), 220], [array([0, 1, 1, 0, 0]), 220], [array([0, 1, 1, 0, 0]), 220], [array([0, 1, 1, 0, 0]), 220], [array([0, 1, 1, 0, 0]), 220], [array([0, 1, 1, 0, 0]), 220], [array([0, 1, 1, 0, 0]), 220], [array([0, 1, 1, 0, 0]), 220], [array([0, 1, 1, 0, 0]), 220], [array([0, 1, 1, 0, 0]), 220], [array([0, 1, 1, 0, 0]), 220], [array([0, 1, 1, 0, 0]), 220], [array([0, 1, 1, 0, 0]), 220], [array([0, 1, 1, 0, 0]), 220], [array([0, 1, 1, 0, 0]), 220], [array([0, 1, 1, 0, 0]), 220], [array([0, 1, 1, 0, 0]), 220], [array([0, 1, 1, 0, 0]), 220], [array([0, 1, 1, 0, 0]), 220], [array([0, 1, 1, 0, 0]), 220], [array([0, 1, 1, 0, 0]), 220], [array([0, 1, 1, 0, 0]), 220], [array([0, 1, 1, 0, 0]), 220], [array([0, 1, 1, 0, 0]), 220], [array([0, 1, 1, 0, 0]), 220], [array([0, 1, 1, 0, 0]), 220], [array([0, 1, 1, 0, 0]), 220], [array([0, 1, 1, 0, 0]), 220], [array([0, 1, 1, 0, 0]), 220], [array([0, 1, 1, 0, 0]), 220], [array([0, 1, 1, 0, 0]), 220], [array([0, 1, 1, 0, 0]), 220], [array([0, 1, 1, 0, 0]), 220], [array([0, 1, 1, 0, 0]), 220], [array([0, 1, 1, 0, 0]), 220], [array([0, 1, 1, 0, 0]), 220], [array([0, 1, 1, 0, 0]), 220], [array([0, 1, 1, 0, 0]), 220], [array([0, 1, 1, 0, 0]), 220], [array([0, 1, 1, 0, 0]), 220], [array([0, 1, 1, 0, 0]), 220], [array([0, 1, 1, 0, 0]), 220], [array([0, 1, 1, 0, 0]), 220], [array([0, 1, 1, 0, 0]), 220], [array([0, 1, 1, 0, 0]), 220], [array([0, 1, 1, 0, 0]), 220], [array([0, 1, 1, 0, 0]), 220], [array([0, 1, 1, 0, 0]), 220], [array([0, 1, 1, 0, 0]), 220], [array([0, 1, 1, 0, 0]), 220], [array([0, 1, 1, 0, 0]), 220], [array([0, 1, 1, 0, 0]), 220], [array([0, 1, 1, 0, 0]), 220], [array([0, 1, 1, 0, 0]), 220], [array([0, 1, 1, 0, 0]), 220], [array([0, 0, 1, 0, 0]), 120], [array([0, 1, 1, 0, 0]), 220], [array([0, 0, 1, 0, 0]), 120], [array([0, 1, 1, 0, 0]), 220], [array([0, 0, 0, 0, 1]), 160], [array([0, 0, 1, 0, 0]), 120], [array([0, 0, 0, 1, 0]), 140], [array([0, 0, 0, 0, 1]), 160], [array([0, 0, 1, 0, 0]), 120], [array([0, 0, 1, 0, 0]), 120], [array([0, 0, 0, 0, 0]), 0], [array([0, 0, 0, 0, 1]), 160], [array([0, 0, 0, 0, 0]), 0], [array([0, 0, 0, 0, 0]), 0], [array([0, 1, 0, 0, 0]), 100], [array([0, 0, 1, 0, 0]), 120], [array([0, 0, 1, 0, 0]), 120], [array([0, 0, 1, 0, 0]), 120], [array([0, 0, 0, 1, 0]), 140], [array([0, 0, 1, 0, 0]), 120], [array([0, 0, 1, 0, 0]), 120], [array([0, 1, 1, 0, 0]), 220], [array([0, 1, 1, 0, 0]), 220], [array([0, 1, 1, 0, 0]), 220], [array([0, 1, 1, 0, 0]), 220], [array([0, 1, 1, 0, 0]), 220], [array([0, 1, 1, 0, 0]), 220], [array([0, 1, 1, 0, 0]), 220], [array([0, 1, 1, 0, 0]), 220], [array([0, 1, 1, 0, 0]), 220], [array([0, 1, 1, 0, 0]), 220], [array([0, 1, 1, 0, 0]), 220], [array([0, 1, 1, 0, 0]), 220], [array([0, 1, 1, 0, 0]), 220], [array([0, 1, 1, 0, 0]), 220], [array([0, 1, 1, 0, 0]), 220], [array([0, 1, 1, 0, 0]), 220], [array([0, 1, 1, 0, 0]), 220], [array([0, 1, 1, 0, 0]), 220], [array([0, 1, 1, 0, 0]), 220], [array([0, 1, 1, 0, 0]), 220], [array([0, 1, 1, 0, 0]), 220], [array([0, 1, 1, 0, 0]), 220], [array([0, 1, 1, 0, 0]), 220], [array([0, 1, 1, 0, 0]), 220], [array([0, 1, 1, 0, 0]), 220], [array([0, 1, 1, 0, 0]), 220], [array([0, 1, 1, 0, 0]), 220], [array([0, 1, 1, 0, 0]), 220], [array([0, 1, 1, 0, 0]), 220], [array([0, 1, 1, 0, 0]), 220], [array([0, 1, 1, 0, 0]), 220], [array([0, 1, 1, 0, 0]), 220], [array([0, 1, 1, 0, 0]), 220], [array([0, 1, 1, 0, 0]), 220], [array([0, 1, 1, 0, 0]), 220], [array([0, 1, 1, 0, 0]), 220], [array([0, 1, 1, 0, 0]), 220], [array([0, 1, 1, 0, 0]), 220], [array([0, 1, 1, 0, 0]), 220], [array([0, 1, 1, 0, 0]), 220], [array([0, 1, 1, 0, 0]), 220], [array([0, 1, 1, 0, 0]), 220], [array([0, 1, 1, 0, 0]), 220], [array([0, 1, 1, 0, 0]), 220], [array([0, 1, 1, 0, 0]), 220], [array([0, 1, 1, 0, 0]), 220], [array([0, 1, 1, 0, 0]), 220], [array([0, 1, 1, 0, 0]), 220], [array([0, 1, 1, 0, 0]), 220], [array([0, 1, 1, 0, 0]), 220], [array([0, 1, 1, 0, 0]), 220], [array([0, 1, 1, 0, 0]), 220], [array([0, 1, 1, 0, 0]), 220], [array([0, 1, 1, 0, 0]), 220], [array([0, 1, 1, 0, 0]), 220], [array([0, 1, 1, 0, 0]), 220], [array([0, 1, 1, 0, 0]), 220], [array([0, 1, 1, 0, 0]), 220], [array([0, 1, 1, 0, 0]), 220], [array([0, 1, 1, 0, 0]), 220], [array([0, 1, 1, 0, 0]), 220], [array([0, 1, 1, 0, 0]), 220], [array([0, 1, 1, 0, 0]), 220], [array([0, 1, 1, 0, 0]), 220], [array([0, 1, 1, 0, 0]), 220], [array([0, 1, 1, 0, 0]), 220], [array([0, 1, 1, 0, 0]), 220], [array([0, 1, 1, 0, 0]), 220], [array([0, 1, 1, 0, 0]), 220], [array([0, 1, 1, 0, 0]), 220], [array([0, 1, 1, 0, 0]), 220], [array([0, 1, 1, 0, 0]), 220], [array([0, 1, 1, 0, 0]), 220], [array([0, 1, 1, 0, 0]), 220], [array([0, 1, 1, 0, 0]), 220], [array([0, 1, 1, 0, 0]), 220], [array([0, 1, 1, 0, 0]), 220], [array([0, 1, 1, 0, 0]), 220], [array([0, 1, 1, 0, 0]), 220], [array([0, 0, 1, 0, 0]), 120], [array([0, 0, 1, 0, 0]), 120], [array([0, 0, 1, 0, 0]), 120], [array([0, 1, 1, 0, 0]), 220], [array([0, 0, 0, 0, 1]), 160], [array([0, 0, 1, 0, 0]), 120], [array([1, 0, 1, 0, 0]), 180], [array([0, 0, 0, 0, 1]), 160], [array([0, 0, 0, 0, 0]), 0], [array([0, 0, 1, 0, 0]), 120], [array([0, 0, 0, 0, 0]), 0], [array([0, 0, 0, 0, 1]), 160], [array([0, 0, 0, 1, 0]), 140], [array([0, 0, 1, 0, 0]), 120], [array([0, 0, 1, 0, 0]), 120], [array([0, 0, 1, 0, 0]), 120], [array([0, 0, 1, 0, 0]), 120], [array([0, 1, 1, 0, 0]), 220], [array([0, 1, 1, 0, 0]), 220], [array([0, 1, 1, 0, 0]), 220], [array([0, 1, 1, 0, 0]), 220], [array([0, 1, 1, 0, 0]), 220], [array([0, 0, 1, 0, 0]), 120], [array([0, 1, 1, 0, 0]), 220], [array([0, 1, 1, 0, 0]), 220], [array([0, 1, 1, 0, 0]), 220], [array([0, 1, 1, 0, 0]), 220], [array([0, 1, 1, 0, 0]), 220], [array([0, 1, 1, 0, 0]), 220], [array([0, 1, 1, 0, 0]), 220], [array([0, 1, 1, 0, 0]), 220], [array([0, 1, 1, 0, 0]), 220], [array([0, 1, 1, 0, 0]), 220], [array([0, 1, 1, 0, 0]), 220], [array([0, 1, 1, 0, 0]), 220], [array([0, 1, 1, 0, 0]), 220], [array([0, 1, 1, 0, 0]), 220], [array([0, 1, 1, 0, 0]), 220], [array([0, 1, 1, 0, 0]), 220], [array([0, 1, 1, 0, 0]), 220], [array([0, 1, 1, 0, 0]), 220], [array([0, 1, 1, 0, 0]), 220], [array([0, 1, 1, 0, 0]), 220], [array([0, 1, 1, 0, 0]), 220], [array([0, 1, 1, 0, 0]), 220], [array([0, 1, 1, 0, 0]), 220], [array([0, 1, 1, 0, 0]), 220], [array([0, 1, 1, 0, 0]), 220], [array([0, 1, 1, 0, 0]), 220], [array([0, 1, 1, 0, 0]), 220], [array([0, 1, 1, 0, 0]), 220], [array([0, 1, 1, 0, 0]), 220], [array([0, 1, 1, 0, 0]), 220], [array([0, 1, 1, 0, 0]), 220], [array([0, 1, 1, 0, 0]), 220], [array([0, 1, 1, 0, 0]), 220], [array([0, 1, 1, 0, 0]), 220], [array([0, 1, 1, 0, 0]), 220], [array([0, 1, 1, 0, 0]), 220], [array([0, 1, 1, 0, 0]), 220], [array([0, 1, 1, 0, 0]), 220], [array([0, 1, 1, 0, 0]), 220], [array([0, 1, 1, 0, 0]), 220], [array([0, 1, 1, 0, 0]), 220], [array([0, 1, 1, 0, 0]), 220], [array([0, 1, 1, 0, 0]), 220], [array([0, 1, 1, 0, 0]), 220], [array([0, 1, 1, 0, 0]), 220], [array([0, 1, 1, 0, 0]), 220], [array([0, 1, 1, 0, 0]), 220], [array([0, 1, 1, 0, 0]), 220], [array([0, 1, 1, 0, 0]), 220], [array([0, 1, 1, 0, 0]), 220], [array([0, 1, 1, 0, 0]), 220], [array([0, 1, 1, 0, 0]), 220], [array([0, 1, 1, 0, 0]), 220], [array([0, 1, 1, 0, 0]), 220], [array([0, 1, 1, 0, 0]), 220], [array([0, 1, 1, 0, 0]), 220], [array([0, 1, 1, 0, 0]), 220], [array([0, 1, 1, 0, 0]), 220], [array([0, 1, 1, 0, 0]), 220], [array([0, 1, 1, 0, 0]), 220], [array([0, 1, 1, 0, 0]), 220], [array([0, 1, 1, 0, 0]), 220], [array([0, 1, 1, 0, 0]), 220]], [220, 220, 220, 220, 220, 220, 220, 220, 220, 220, 220, 220, 220, 200, 220, 200, 200, 200, 200, 200, 200, 200, 200, 200, 200, 160, 200, 200, 200, 200, 200, 200, 200, 200, 200, 200, 220, 220, 220, 220, 220, 220, 220, 220, 220, 220, 220, 220, 220, 220, 220, 220, 220, 220, 220, 220, 220, 220, 220, 220, 220, 220, 220, 220, 220, 220, 220, 220, 220, 220, 220, 220, 220, 220, 220, 220, 220, 220, 220, 220, 220, 220, 220, 220, 220, 220, 220, 220, 220, 220, 220, 220, 220, 220, 220, 220, 220, 220, 220, 220, 220, 220, 220, 220, 220, 220, 220, 220, 220, 220, 220, 220, 220, 220, 160, 180, 200, 160, 160, 160, 160, 200, 200, 160, 160, 160, 160, 160, 160, 160, 200, 160, 220, 160, 220, 180, 160, 160, 220, 220, 220, 220, 220, 220, 220, 220, 220, 220, 220, 220, 220, 220, 220, 220, 220, 220, 220, 220, 220, 220, 220, 220, 220, 220, 220, 220, 220, 220, 220, 220, 220, 220, 220, 220, 220, 220, 220, 220, 220, 220, 220, 220, 220, 220, 220, 220, 220, 220, 220, 220, 220, 220, 220, 220, 220, 220, 220, 220, 220, 220, 220, 220, 220, 220, 220, 220, 220, 220, 220, 220, 220, 220, 220, 220, 220, 220, 140, 160, 160, 160, 140, 160, 160, 60, 160, 160, 160, 160, 160, 160, 160, 160, 160, 140, 160, 220, 220, 220, 220, 220, 220, 220, 220, 220, 220, 220, 220, 220, 220, 220, 220, 220, 220, 220, 220, 220, 220, 220, 220, 220, 220, 220, 220, 220, 220, 220, 220, 220, 220, 220, 220, 220, 220, 220, 220, 220, 220, 220, 220, 220, 220, 220, 220, 220, 220, 220, 220, 220, 220, 220, 220, 220, 220, 220, 220, 220, 220, 220, 220, 220, 220, 220, 220, 220, 220, 220, 220, 220, 220, 220, 220, 220, 220, 160, 220, 160, 220, 220, 160, 120, 120, 160, 140, 160, 140, 0, 160, 160, 160, 180, 140, 140, 160, 160, 120, 120, 220, 160, 220, 220, 220, 220, 220, 220, 220, 220, 220, 220, 220, 220, 220, 220, 220, 220, 220, 220, 220, 220, 220, 220, 220, 220, 220, 220, 220, 220, 220, 220, 220, 220, 220, 220, 220, 220, 220, 220, 220, 220, 220, 220, 220, 220, 220, 220, 220, 220, 220, 220, 220, 220, 220, 220, 220, 220, 220, 220, 220, 220, 220, 220, 220, 220, 220, 220, 220, 220, 220, 220, 220, 220, 220, 220, 220, 220, 220, 160, 220, 120, 160, 120, 160, 140, 120, 140, 0, 60, 160, 160, 140, 120, 120, 140, 160, 160, 220, 220, 220, 220, 220, 220, 220, 220, 220, 220, 220, 220, 220, 220, 220, 220, 220, 220, 220, 220, 220, 220, 220, 220, 220, 220, 220, 220, 220, 220, 220, 220, 220, 220, 220, 220, 220, 220, 220, 220, 220, 220, 220, 220, 220, 220, 220, 220, 220, 220, 220, 220, 220, 220, 220, 220, 220, 220, 220, 220, 220, 220, 220, 220, 220, 220, 220, 220, 220, 220, 220, 220, 220, 220, 220, 220, 220, 220, 220, 220, 120, 180, 120, 120, 140, 120, 160, 120, 120, 160, 0, 140, 160, 120, 140, 140, 160, 120, 220, 160, 120, 220, 220, 220, 220, 220, 220, 220, 220, 220, 220, 220, 220, 220, 220, 220, 220, 220, 220, 220, 220, 220, 220, 220, 220, 220, 220, 220, 220, 220, 220, 220, 220, 220, 220, 220, 220, 220, 220, 220, 220, 220, 220, 220, 220, 220, 220, 220, 220, 220, 220, 220, 220, 220, 220, 220, 220, 220, 220, 220, 220, 220, 220, 220, 220, 220, 220, 220, 220, 220, 220, 220, 220, 220, 220, 220, 220, 220, 220, 220, 220, 220, 160, 220, 140, 160, 140, 140, 120, 120, 140, 60, 60, 120, 160, 140, 120, 120, 120, 120, 220, 220, 220, 220, 220, 220, 220, 220, 220, 220, 220, 220, 220, 220, 220, 220, 220, 220, 220, 220, 220, 220, 220, 220, 220, 220, 220, 220, 220, 220, 220, 220, 220, 220, 220, 220, 220, 220, 220, 220, 220, 220, 220, 220, 220, 220, 220, 220, 220, 220, 220, 220, 220, 220, 220, 220, 220, 220, 220, 220, 220, 220, 220, 220, 220, 220, 220, 220, 220, 220, 220, 220, 220, 220, 220, 220, 220, 220, 220, 220, 220, 220, 120, 120, 120, 160, 140, 120, 100, 120, 160, 160, 0, 120, 140, 120, 120, 120, 120, 160, 220, 220, 220, 120, 220, 220, 220, 220, 220, 220, 220, 220, 220, 220, 220, 220, 220, 220, 220, 220, 220, 220, 220, 220, 220, 220, 220, 220, 220, 220, 220, 220, 220, 220, 220, 220, 220, 220, 220, 220, 220, 220, 220, 220, 220, 220, 220, 220, 220, 220, 220, 220, 220, 220, 220, 220, 220, 220, 220, 220, 220, 220, 220, 220, 220, 220, 220, 220, 220, 220, 220, 220, 220, 220, 220, 220, 220, 220, 220, 220, 120, 220, 120, 220, 160, 120, 140, 160, 120, 120, 0, 160, 0, 0, 100, 120, 120, 120, 140, 120, 120, 220, 220, 220, 220, 220, 220, 220, 220, 220, 220, 220, 220, 220, 220, 220, 220, 220, 220, 220, 220, 220, 220, 220, 220, 220, 220, 220, 220, 220, 220, 220, 220, 220, 220, 220, 220, 220, 220, 220, 220, 220, 220, 220, 220, 220, 220, 220, 220, 220, 220, 220, 220, 220, 220, 220, 220, 220, 220, 220, 220, 220, 220, 220, 220, 220, 220, 220, 220, 220, 220, 220, 220, 220, 220, 220, 220, 220, 220, 220, 120, 120, 120, 220, 160, 120, 180, 160, 0, 120, 0, 160, 140, 120, 120, 120, 120, 220, 220, 220, 220, 220, 120, 220, 220, 220, 220, 220, 220, 220, 220, 220, 220, 220, 220, 220, 220, 220, 220, 220, 220, 220, 220, 220, 220, 220, 220, 220, 220, 220, 220, 220, 220, 220, 220, 220, 220, 220, 220, 220, 220, 220, 220, 220, 220, 220, 220, 220, 220, 220, 220, 220, 220, 220, 220, 220, 220, 220, 220, 220, 220, 220, 220, 220, 220, 220])\n"
     ]
    }
   ],
   "source": [
    "print(algorithme_quantique(100, len(weights_1), weights_1, values_1, max_weight_1, 1000))"
   ],
   "metadata": {
    "collapsed": false,
    "ExecuteTime": {
     "end_time": "2023-12-23T13:46:11.701048Z",
     "start_time": "2023-12-23T13:45:49.271231Z"
    }
   },
   "id": "1b7f23149e6015fb"
  },
  {
   "cell_type": "code",
   "execution_count": 218,
   "outputs": [
    {
     "name": "stdout",
     "output_type": "stream",
     "text": [
      "[array([0, 1, 1, 0, 0]), 220]\n"
     ]
    }
   ],
   "source": [
    "res_test = algorithme_quantique(100, len(weights_1), weights_1, values_1, max_weight_1, 1000)\n",
    "\n",
    "print(get_best(res_test[0]))"
   ],
   "metadata": {
    "collapsed": false,
    "ExecuteTime": {
     "end_time": "2023-12-23T13:46:34.081253Z",
     "start_time": "2023-12-23T13:46:11.701295Z"
    }
   },
   "id": "ddc5f9c31c9c7b76"
  },
  {
   "cell_type": "markdown",
   "source": [
    "# Comparaisons\n",
    "\n",
    "Nous allons maintenant comparer les efficacités des codes entre l'algorithme génétique classique et quantique"
   ],
   "metadata": {
    "collapsed": false
   },
   "id": "3f613346e93cd353"
  },
  {
   "cell_type": "code",
   "execution_count": 229,
   "outputs": [],
   "source": [
    "taille_population = 50\n",
    "iteration_max = 1000"
   ],
   "metadata": {
    "collapsed": false,
    "ExecuteTime": {
     "end_time": "2023-12-23T13:47:43.564973Z",
     "start_time": "2023-12-23T13:47:43.560720Z"
    }
   },
   "id": "48c198e601231e61"
  },
  {
   "cell_type": "code",
   "execution_count": 220,
   "outputs": [],
   "source": [
    "def premiere_occurence_max(arg_histo_fit):\n",
    "    # Trouver le premier indice où apparaît le maximum\n",
    "    max_value = max(arg_histo_fit)\n",
    "    first_max_index = arg_histo_fit.index(max_value)\n",
    "    \n",
    "    return first_max_index"
   ],
   "metadata": {
    "collapsed": false,
    "ExecuteTime": {
     "end_time": "2023-12-23T13:46:34.082669Z",
     "start_time": "2023-12-23T13:46:34.053067Z"
    }
   },
   "id": "2faa07b02237a799"
  },
  {
   "cell_type": "markdown",
   "source": [
    "## Population 1"
   ],
   "metadata": {
    "collapsed": false
   },
   "id": "de16b56134c63416"
  },
  {
   "cell_type": "code",
   "execution_count": 230,
   "outputs": [
    {
     "name": "stdout",
     "output_type": "stream",
     "text": [
      "Arrêt après 100 itérations, car il n'y a pas eu d'amélioration significative.\n",
      "(array([0, 1, 1, 0, 0]), 220.0, [220.0, 220.0, 220.0, 220.0, 220.0, 220.0, 220.0, 220.0, 220.0, 220.0, 220.0, 220.0, 220.0, 220.0, 220.0, 220.0, 220.0, 220.0, 220.0, 220.0, 220.0, 220.0, 220.0, 220.0, 220.0, 220.0, 220.0, 220.0, 220.0, 220.0, 220.0, 220.0, 220.0, 220.0, 220.0, 220.0, 220.0, 220.0, 220.0, 220.0, 220.0, 220.0, 220.0, 220.0, 220.0, 220.0, 220.0, 220.0, 220.0, 220.0, 220.0, 220.0, 220.0, 220.0, 220.0, 220.0, 220.0, 220.0, 220.0, 220.0, 220.0, 220.0, 220.0, 220.0, 220.0, 220.0, 220.0, 220.0, 220.0, 220.0, 220.0, 220.0, 220.0, 220.0, 220.0, 220.0, 220.0, 220.0, 220.0, 220.0, 220.0, 220.0, 220.0, 220.0, 220.0, 220.0, 220.0, 220.0, 220.0, 220.0, 220.0, 220.0, 220.0, 220.0, 220.0, 220.0, 220.0, 220.0, 220.0, 220.0, 220.0])\n",
      "0\n"
     ]
    }
   ],
   "source": [
    "debut_classique_1 = t.time()\n",
    "population_gene = np.random.randint(2, size=(taille_population, weights_1.shape[0]))\n",
    "fin_classique_1 = t.time()\n",
    "\n",
    "temps_classique_1 = fin_classique_1 - debut_classique_1\n",
    "\n",
    "resultat_classique_1 = algo_genetique(population_gene, weights_1, values_1, max_weight_1, 1000)"
   ],
   "metadata": {
    "collapsed": false,
    "ExecuteTime": {
     "end_time": "2023-12-23T13:47:45.535458Z",
     "start_time": "2023-12-23T13:47:45.481585Z"
    }
   },
   "id": "2dadfa45cbffa339"
  },
  {
   "cell_type": "code",
   "execution_count": null,
   "outputs": [],
   "source": [],
   "metadata": {
    "collapsed": false
   },
   "id": "662049a39ad82a7e"
  }
 ],
 "metadata": {
  "kernelspec": {
   "display_name": "Python 3 (ipykernel)",
   "language": "python",
   "name": "python3"
  },
  "language_info": {
   "codemirror_mode": {
    "name": "ipython",
    "version": 3
   },
   "file_extension": ".py",
   "mimetype": "text/x-python",
   "name": "python",
   "nbconvert_exporter": "python",
   "pygments_lexer": "ipython3",
   "version": "3.8.18"
  }
 },
 "nbformat": 4,
 "nbformat_minor": 5
}
