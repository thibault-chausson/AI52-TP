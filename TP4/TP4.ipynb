{
 "cells": [
  {
   "cell_type": "markdown",
   "id": "c726c9c24b860af",
   "metadata": {},
   "source": [
    "# Algorithme classique du problème du sac à dos"
   ]
  },
  {
   "cell_type": "code",
   "execution_count": 1,
   "id": "cbb4be15635263c3",
   "metadata": {
    "ExecuteTime": {
     "end_time": "2023-12-23T12:35:21.429319Z",
     "start_time": "2023-12-23T12:35:21.233749Z"
    }
   },
   "outputs": [],
   "source": [
    "import numpy as np"
   ]
  },
  {
   "cell_type": "markdown",
   "id": "6ce331da41e31070",
   "metadata": {},
   "source": [
    "# Classique"
   ]
  },
  {
   "cell_type": "code",
   "execution_count": 2,
   "id": "b646e4e6e77de61f",
   "metadata": {
    "ExecuteTime": {
     "end_time": "2023-12-23T12:35:31.170349Z",
     "start_time": "2023-12-23T12:35:31.154466Z"
    }
   },
   "outputs": [
    {
     "name": "stdout",
     "output_type": "stream",
     "text": [
      "[[1 0 1 1 0]\n",
      " [1 1 1 1 1]\n",
      " [1 0 0 0 1]\n",
      " [1 1 1 1 0]\n",
      " [0 0 1 0 1]\n",
      " [1 0 0 0 0]\n",
      " [1 0 0 1 1]\n",
      " [0 1 0 0 0]\n",
      " [0 1 1 0 1]\n",
      " [0 0 1 1 1]\n",
      " [1 0 1 1 1]\n",
      " [0 1 0 0 1]\n",
      " [1 1 0 0 1]\n",
      " [1 1 1 1 1]\n",
      " [1 0 0 1 1]\n",
      " [0 1 0 1 0]\n",
      " [1 0 0 0 0]\n",
      " [1 0 0 0 0]\n",
      " [0 0 0 0 0]\n",
      " [0 0 0 0 0]\n",
      " [0 0 0 0 0]\n",
      " [1 1 0 1 1]\n",
      " [1 0 1 0 0]\n",
      " [0 0 1 0 0]\n",
      " [1 0 1 1 1]\n",
      " [0 1 0 0 1]\n",
      " [1 1 1 1 1]\n",
      " [1 1 1 1 0]\n",
      " [1 0 1 0 0]\n",
      " [0 1 1 0 1]\n",
      " [1 1 1 1 1]\n",
      " [1 1 1 1 1]\n",
      " [1 0 1 1 1]\n",
      " [1 0 0 0 0]\n",
      " [1 0 1 1 0]\n",
      " [0 1 1 0 1]\n",
      " [1 1 1 0 1]\n",
      " [0 1 1 1 1]\n",
      " [0 0 0 1 1]\n",
      " [0 1 0 0 1]\n",
      " [1 1 1 1 0]\n",
      " [0 1 0 1 0]\n",
      " [0 1 1 0 1]\n",
      " [0 0 1 0 1]\n",
      " [0 1 0 0 0]\n",
      " [1 0 0 1 1]\n",
      " [1 1 1 1 1]\n",
      " [1 1 1 0 1]\n",
      " [0 0 0 1 1]\n",
      " [0 0 1 0 1]\n",
      " [0 0 1 1 0]\n",
      " [0 1 0 0 0]\n",
      " [0 0 1 1 1]\n",
      " [0 1 1 0 0]\n",
      " [1 1 0 1 0]\n",
      " [1 0 0 0 0]\n",
      " [1 0 1 0 1]\n",
      " [1 1 1 1 1]\n",
      " [0 0 0 1 0]\n",
      " [0 1 1 1 0]\n",
      " [1 1 1 1 0]\n",
      " [1 0 0 1 0]\n",
      " [1 1 0 0 1]\n",
      " [1 1 0 1 1]\n",
      " [1 1 0 1 0]\n",
      " [1 0 0 0 0]\n",
      " [1 1 1 1 1]\n",
      " [1 1 1 0 0]\n",
      " [1 1 1 0 1]\n",
      " [0 0 1 1 0]\n",
      " [1 0 0 1 0]\n",
      " [1 1 0 0 0]\n",
      " [1 1 0 0 1]\n",
      " [1 1 0 1 1]\n",
      " [1 0 1 0 0]\n",
      " [1 0 0 1 0]\n",
      " [0 1 0 0 1]\n",
      " [0 1 1 0 1]\n",
      " [1 0 1 1 1]\n",
      " [0 0 0 0 0]\n",
      " [0 1 1 1 0]\n",
      " [0 0 1 1 0]\n",
      " [1 1 0 1 1]\n",
      " [0 1 0 1 0]\n",
      " [1 0 1 1 1]\n",
      " [0 1 1 0 0]\n",
      " [1 0 0 0 1]\n",
      " [0 0 1 1 1]\n",
      " [0 1 0 0 1]\n",
      " [1 1 0 1 0]\n",
      " [0 1 1 0 1]\n",
      " [0 1 0 1 0]\n",
      " [1 0 0 0 1]\n",
      " [0 1 1 1 1]\n",
      " [0 0 0 0 1]\n",
      " [1 0 0 1 0]\n",
      " [1 0 1 0 1]\n",
      " [1 1 1 0 1]\n",
      " [0 0 1 1 1]\n",
      " [0 1 0 1 0]]\n"
     ]
    }
   ],
   "source": [
    "weights = np.array([10, 20, 30, 40, 50])\n",
    "values = np.array([60, 100, 120, 140, 160])\n",
    "max_weight = np.sum(weights) // 3\n",
    "\n",
    "population_size = 100\n",
    "\n",
    "population = np.random.randint(2, size=(population_size, weights.shape[0]))\n",
    "print(population)"
   ]
  },
  {
   "cell_type": "code",
   "execution_count": 17,
   "id": "9e3af7b35ce4f637",
   "metadata": {
    "ExecuteTime": {
     "end_time": "2023-12-23T12:42:33.228426Z",
     "start_time": "2023-12-23T12:42:33.209817Z"
    }
   },
   "outputs": [],
   "source": [
    "def correction_un(arg_population, arg_max_weight, arg_weights):\n",
    "    # On corrige un individu\n",
    "    S2 = np.sum(arg_population * arg_weights)\n",
    "    if S2 > arg_max_weight:\n",
    "        # On cherche l'indice du premier 1\n",
    "        indice = np.where(arg_population == 1)[0][0]\n",
    "        # On le remplace par un 0\n",
    "        arg_population[indice] = 0\n",
    "    return arg_population\n",
    "\n",
    "\n",
    "def correction(arg_population, arg_max_weight, arg_weights):\n",
    "    # On corrige la population\n",
    "    for i in range(arg_population.shape[0]):\n",
    "        arg_population[i] = correction_un(arg_population[i], arg_max_weight, arg_weights)\n",
    "    return arg_population"
   ]
  },
  {
   "cell_type": "code",
   "execution_count": 18,
   "id": "166e69722de3f94f",
   "metadata": {
    "ExecuteTime": {
     "end_time": "2023-12-23T12:42:34.669319Z",
     "start_time": "2023-12-23T12:42:34.663069Z"
    }
   },
   "outputs": [
    {
     "name": "stdout",
     "output_type": "stream",
     "text": [
      "[[0 1 1 0 0]\n",
      " [0 1 0 0 0]\n",
      " [1 0 0 0 0]\n",
      " [1 1 0 0 0]\n",
      " [1 0 0 1 0]\n",
      " [1 0 0 0 0]\n",
      " [1 1 0 0 0]\n",
      " [0 1 0 0 0]\n",
      " [1 0 1 0 0]\n",
      " [0 0 0 0 1]\n",
      " [1 0 0 0 0]\n",
      " [0 0 0 0 1]\n",
      " [1 1 0 0 0]\n",
      " [0 0 0 1 0]\n",
      " [1 0 1 0 0]\n",
      " [1 0 0 1 0]\n",
      " [1 0 0 0 0]\n",
      " [1 0 0 0 0]\n",
      " [0 0 0 0 0]\n",
      " [0 0 0 0 0]\n",
      " [0 0 0 0 0]\n",
      " [1 1 0 0 0]\n",
      " [1 0 1 0 0]\n",
      " [0 0 1 0 0]\n",
      " [0 1 1 0 0]\n",
      " [0 1 0 0 0]\n",
      " [1 0 1 0 0]\n",
      " [1 0 0 1 0]\n",
      " [1 0 1 0 0]\n",
      " [0 0 0 0 1]\n",
      " [1 0 1 0 0]\n",
      " [1 0 1 0 0]\n",
      " [0 0 1 0 0]\n",
      " [1 0 0 0 0]\n",
      " [1 0 0 1 0]\n",
      " [0 1 1 0 0]\n",
      " [0 0 0 0 1]\n",
      " [0 1 1 0 0]\n",
      " [1 0 0 1 0]\n",
      " [0 0 0 0 1]\n",
      " [0 0 0 0 1]\n",
      " [0 0 0 1 0]\n",
      " [0 1 1 0 0]\n",
      " [0 0 0 0 1]\n",
      " [0 1 0 0 0]\n",
      " [1 1 0 0 0]\n",
      " [0 1 0 0 0]\n",
      " [1 0 0 1 0]\n",
      " [0 0 0 0 1]\n",
      " [0 0 1 0 0]\n",
      " [0 0 1 0 0]\n",
      " [0 1 0 0 0]\n",
      " [1 0 1 0 0]\n",
      " [0 1 1 0 0]\n",
      " [0 1 0 0 0]\n",
      " [1 0 0 0 0]\n",
      " [0 0 1 0 0]\n",
      " [1 0 0 1 0]\n",
      " [0 0 0 1 0]\n",
      " [0 0 0 1 0]\n",
      " [0 1 1 0 0]\n",
      " [1 0 0 1 0]\n",
      " [1 0 0 1 0]\n",
      " [0 0 0 0 1]\n",
      " [0 1 0 0 0]\n",
      " [1 0 0 0 0]\n",
      " [1 0 1 0 0]\n",
      " [1 1 0 0 0]\n",
      " [1 0 0 0 0]\n",
      " [0 0 0 1 0]\n",
      " [1 0 0 1 0]\n",
      " [1 1 0 0 0]\n",
      " [0 0 0 0 1]\n",
      " [0 1 1 0 0]\n",
      " [1 0 1 0 0]\n",
      " [1 0 0 1 0]\n",
      " [0 0 0 0 1]\n",
      " [0 1 1 0 0]\n",
      " [0 1 1 0 0]\n",
      " [0 0 0 0 0]\n",
      " [1 0 0 1 0]\n",
      " [0 0 0 1 0]\n",
      " [0 1 1 0 0]\n",
      " [0 1 0 0 0]\n",
      " [0 1 1 0 0]\n",
      " [0 1 1 0 0]\n",
      " [0 0 0 0 1]\n",
      " [0 1 1 0 0]\n",
      " [0 0 0 0 1]\n",
      " [1 1 0 0 0]\n",
      " [1 0 1 0 0]\n",
      " [0 0 0 0 1]\n",
      " [1 0 0 1 0]\n",
      " [0 0 0 1 0]\n",
      " [0 0 0 0 1]\n",
      " [1 0 0 1 0]\n",
      " [1 0 1 0 0]\n",
      " [1 1 0 0 0]\n",
      " [0 0 0 0 1]\n",
      " [0 0 0 1 0]]\n"
     ]
    }
   ],
   "source": [
    "population = correction(population, max_weight, weights)\n",
    "print(population)"
   ]
  },
  {
   "cell_type": "code",
   "execution_count": 19,
   "id": "91fe351fbd8ef826",
   "metadata": {
    "ExecuteTime": {
     "end_time": "2023-12-23T12:42:38.328626Z",
     "start_time": "2023-12-23T12:42:38.319460Z"
    }
   },
   "outputs": [],
   "source": [
    "def fitness_un(arg_weight, arg_value, arg_population, arg_max_weight):\n",
    "    # On calcule la fitness d'un individu\n",
    "    S1 = np.sum(arg_population * arg_value)\n",
    "    S2 = np.sum(arg_population * arg_weight)\n",
    "    if S2 > arg_max_weight:\n",
    "        return 0\n",
    "    else:\n",
    "        return S1\n",
    "\n",
    "\n",
    "def fitness(arg_weight, arg_value, arg_population, arg_max_weight):\n",
    "    arg_fitness = np.empty(arg_population.shape[0])\n",
    "    for i in range(arg_population.shape[0]):\n",
    "        arg_fitness[i] = fitness_un(arg_weight, arg_value, arg_population[i], arg_max_weight)\n",
    "    return arg_fitness"
   ]
  },
  {
   "cell_type": "code",
   "execution_count": 20,
   "id": "e4eeb92811a3ff11",
   "metadata": {
    "ExecuteTime": {
     "end_time": "2023-12-23T12:42:41.882333Z",
     "start_time": "2023-12-23T12:42:41.868363Z"
    }
   },
   "outputs": [
    {
     "data": {
      "text/plain": [
       "array([220., 100.,  60., 160., 200.,  60., 160., 100., 180., 160.,  60.,\n",
       "       160., 160., 140., 180., 200.,  60.,  60.,   0.,   0.,   0., 160.,\n",
       "       180., 120., 220., 100., 180., 200., 180., 160., 180., 180., 120.,\n",
       "        60., 200., 220., 160., 220., 200., 160., 160., 140., 220., 160.,\n",
       "       100., 160., 100., 200., 160., 120., 120., 100., 180., 220., 100.,\n",
       "        60., 120., 200., 140., 140., 220., 200., 200., 160., 100.,  60.,\n",
       "       180., 160.,  60., 140., 200., 160., 160., 220., 180., 200., 160.,\n",
       "       220., 220.,   0., 200., 140., 220., 100., 220., 220., 160., 220.,\n",
       "       160., 160., 180., 160., 200., 140., 160., 200., 180., 160., 160.,\n",
       "       140.])"
      ]
     },
     "execution_count": 20,
     "metadata": {},
     "output_type": "execute_result"
    }
   ],
   "source": [
    "fitness(weights, values, population, max_weight)"
   ]
  },
  {
   "cell_type": "code",
   "execution_count": 76,
   "id": "94bc7cbe1acb727a",
   "metadata": {
    "ExecuteTime": {
     "end_time": "2023-12-23T13:00:53.398547Z",
     "start_time": "2023-12-23T13:00:53.393929Z"
    }
   },
   "outputs": [],
   "source": [
    "def selection_roulette(arg_fitness, arg_population):\n",
    "    # Selectionner par la roulette les 2 meilleurs individus, ils doivent être différents\n",
    "    parents = []\n",
    "    fitness_aux = arg_fitness\n",
    "    for i in range(2):\n",
    "        somme = np.sum(fitness_aux)\n",
    "        fitness_roulette = fitness_aux / somme\n",
    "        # Tirage aléatoire entre 0 et 1\n",
    "        tirage = np.random.rand()\n",
    "        # On cherche l'indice de l'individu qui correspond au tirage et on le stocke dans parents puis on le supprime de la population\n",
    "        somme = 0\n",
    "        for j in range(fitness_roulette.shape[0]):\n",
    "            somme += fitness_roulette[j]\n",
    "            if somme >= tirage:\n",
    "                parents.append(arg_population[j])\n",
    "                arg_population = np.delete(arg_population, j, axis=0)\n",
    "                arg_fitness = np.delete(arg_fitness, j, axis=0)\n",
    "                fitness_aux = np.delete(fitness_roulette, j, axis=0)\n",
    "                break\n",
    "    return parents\n"
   ]
  },
  {
   "cell_type": "code",
   "execution_count": 78,
   "id": "554d4eb09f8b8b98",
   "metadata": {
    "ExecuteTime": {
     "end_time": "2023-12-23T13:00:58.539830Z",
     "start_time": "2023-12-23T13:00:58.524998Z"
    }
   },
   "outputs": [
    {
     "name": "stdout",
     "output_type": "stream",
     "text": [
      "[array([0, 1, 1, 0, 0]), array([0, 1, 1, 0, 0])]\n"
     ]
    }
   ],
   "source": [
    "print(selection_roulette(fitness(weights, values, population, max_weight), population))"
   ]
  },
  {
   "cell_type": "code",
   "execution_count": 82,
   "id": "493adc2d0cebf177",
   "metadata": {
    "ExecuteTime": {
     "end_time": "2023-12-23T13:01:50.409534Z",
     "start_time": "2023-12-23T13:01:50.404789Z"
    }
   },
   "outputs": [],
   "source": [
    "def crossover(parents, arg_max_weight, arg_weights):\n",
    "    # On choisit un point de croisement aléatoire\n",
    "    point_croisement = np.random.randint(1, parents[0].shape[0] - 1)\n",
    "    # On crée les enfants\n",
    "    enfant1 = np.concatenate((parents[0][:point_croisement], parents[1][point_croisement:]))\n",
    "    enfant2 = np.concatenate((parents[1][:point_croisement], parents[0][point_croisement:]))\n",
    "    return correction_un(enfant1, arg_max_weight, arg_weights), correction_un(enfant2, arg_max_weight, arg_weights)"
   ]
  },
  {
   "cell_type": "code",
   "execution_count": 28,
   "id": "3642f8e5cebc51e4",
   "metadata": {
    "ExecuteTime": {
     "end_time": "2023-12-23T12:45:25.059335Z",
     "start_time": "2023-12-23T12:45:25.042434Z"
    }
   },
   "outputs": [
    {
     "name": "stdout",
     "output_type": "stream",
     "text": [
      "(array([1, 0, 1, 0, 0]), array([0, 0, 1, 0, 0]))\n"
     ]
    }
   ],
   "source": [
    "print(crossover(selection_roulette(fitness(weights, values, population, max_weight), population), max_weight, weights))"
   ]
  },
  {
   "cell_type": "code",
   "execution_count": 29,
   "id": "35a928f91c0d23cb",
   "metadata": {
    "ExecuteTime": {
     "end_time": "2023-12-23T12:45:51.085141Z",
     "start_time": "2023-12-23T12:45:51.080472Z"
    }
   },
   "outputs": [],
   "source": [
    "def mutation(enfants, arg_max_weight, arg_weights):\n",
    "    # On choisit un point de mutation aléatoire\n",
    "    point_mutation = np.random.randint(0, enfants[0].shape[0])\n",
    "    # On crée les enfants si le point de mutation est 0 on le change en 1 et inversement\n",
    "    if enfants[0][point_mutation] == 0:\n",
    "        enfants[0][point_mutation] = 1\n",
    "    else:\n",
    "        enfants[0][point_mutation] = 0\n",
    "    return correction_un(enfants[0], arg_max_weight, arg_weights), correction_un(enfants[1], arg_max_weight,\n",
    "                                                                                 arg_weights)"
   ]
  },
  {
   "cell_type": "code",
   "execution_count": 30,
   "id": "e0f4e93eca891bc7",
   "metadata": {
    "ExecuteTime": {
     "end_time": "2023-12-23T12:45:52.925708Z",
     "start_time": "2023-12-23T12:45:52.910710Z"
    }
   },
   "outputs": [
    {
     "name": "stdout",
     "output_type": "stream",
     "text": [
      "(array([0, 0, 1, 0, 0]), array([0, 0, 0, 0, 0]))\n"
     ]
    }
   ],
   "source": [
    "print(mutation(\n",
    "    crossover(selection_roulette(fitness(weights, values, population, max_weight), population), max_weight, weights),\n",
    "    max_weight, weights))"
   ]
  },
  {
   "cell_type": "code",
   "execution_count": 41,
   "id": "ccd282469b6a3b0d",
   "metadata": {
    "ExecuteTime": {
     "end_time": "2023-12-23T12:51:49.683092Z",
     "start_time": "2023-12-23T12:51:49.671684Z"
    }
   },
   "outputs": [],
   "source": [
    "def evolution(arg_population, arg_fitness, arg_max_weight, arg_weights, arg_mutation_rate=0.1):\n",
    "    # On sélectionne les parents\n",
    "    parents = selection_roulette(arg_fitness, arg_population)\n",
    "    # On crée les enfants\n",
    "    enfants = crossover(parents, arg_max_weight, arg_weights)\n",
    "    # On mute les enfants avec une probabilité\n",
    "    if np.random.rand() < arg_mutation_rate:\n",
    "        enfants = mutation(enfants, arg_max_weight, arg_weights)\n",
    "    # On ajoute les enfants à la population si ils améliorent le pire individu\n",
    "    enfants = np.array(enfants)\n",
    "    fitness_enfants = fitness(arg_weights, values, enfants, arg_max_weight)\n",
    "    fitness_population = fitness(arg_weights, values, arg_population, arg_max_weight)\n",
    "    for i in range(2):\n",
    "        if fitness_enfants[i] > np.min(fitness_population):\n",
    "            # On remplace le pire individu par l'enfant\n",
    "            arg_population[np.argmin(fitness_population)] = enfants[i]\n",
    "            fitness_population[np.argmin(fitness_population)] = fitness_enfants[i]\n",
    "    # On calcule la fitness de la nouvelle population\n",
    "    arg_fitness = fitness_population\n",
    "    return arg_population"
   ]
  },
  {
   "cell_type": "code",
   "execution_count": 42,
   "id": "b057834c4638367c",
   "metadata": {
    "ExecuteTime": {
     "end_time": "2023-12-23T12:51:53.164694Z",
     "start_time": "2023-12-23T12:51:53.149398Z"
    }
   },
   "outputs": [
    {
     "name": "stdout",
     "output_type": "stream",
     "text": [
      "[[0 1 1 0 0]\n",
      " [0 1 1 0 0]\n",
      " [1 0 1 0 0]\n",
      " [1 0 1 0 0]\n",
      " [1 0 0 1 0]\n",
      " [1 0 0 1 0]\n",
      " [0 1 1 0 0]\n",
      " [0 1 1 0 0]\n",
      " [1 0 1 0 0]\n",
      " [1 0 0 1 0]\n",
      " [1 0 1 0 0]\n",
      " [0 1 1 0 0]\n",
      " [0 1 1 0 0]\n",
      " [1 0 1 0 0]\n",
      " [1 0 1 0 0]\n",
      " [1 0 0 1 0]\n",
      " [1 0 0 1 0]\n",
      " [0 1 1 0 0]\n",
      " [0 1 1 0 0]\n",
      " [0 1 1 0 0]\n",
      " [0 1 1 0 0]\n",
      " [0 1 1 0 0]\n",
      " [1 0 1 0 0]\n",
      " [0 1 1 0 0]\n",
      " [0 1 1 0 0]\n",
      " [1 0 0 1 0]\n",
      " [1 0 1 0 0]\n",
      " [1 0 0 1 0]\n",
      " [1 0 1 0 0]\n",
      " [0 1 1 0 0]\n",
      " [1 0 1 0 0]\n",
      " [1 0 1 0 0]\n",
      " [1 0 1 0 0]\n",
      " [1 0 1 0 0]\n",
      " [1 0 0 1 0]\n",
      " [0 1 1 0 0]\n",
      " [1 0 1 0 0]\n",
      " [0 1 1 0 0]\n",
      " [1 0 0 1 0]\n",
      " [0 1 1 0 0]\n",
      " [0 1 1 0 0]\n",
      " [0 1 1 0 0]\n",
      " [0 1 1 0 0]\n",
      " [1 0 0 1 0]\n",
      " [1 0 1 0 0]\n",
      " [1 0 0 1 0]\n",
      " [1 0 1 0 0]\n",
      " [1 0 0 1 0]\n",
      " [0 1 1 0 0]\n",
      " [1 0 0 1 0]\n",
      " [1 0 1 0 0]\n",
      " [0 1 1 0 0]\n",
      " [1 0 1 0 0]\n",
      " [0 1 1 0 0]\n",
      " [1 0 1 0 0]\n",
      " [0 1 1 0 0]\n",
      " [0 1 1 0 0]\n",
      " [1 0 0 1 0]\n",
      " [1 0 0 1 0]\n",
      " [0 1 1 0 0]\n",
      " [0 1 1 0 0]\n",
      " [1 0 0 1 0]\n",
      " [1 0 0 1 0]\n",
      " [0 1 1 0 0]\n",
      " [0 1 1 0 0]\n",
      " [1 0 1 0 0]\n",
      " [1 0 1 0 0]\n",
      " [1 0 1 0 0]\n",
      " [0 1 1 0 0]\n",
      " [0 1 1 0 0]\n",
      " [1 0 0 1 0]\n",
      " [1 1 0 0 0]\n",
      " [0 0 0 0 1]\n",
      " [0 1 1 0 0]\n",
      " [1 0 1 0 0]\n",
      " [1 0 0 1 0]\n",
      " [0 0 0 0 1]\n",
      " [0 1 1 0 0]\n",
      " [0 1 1 0 0]\n",
      " [0 1 1 0 0]\n",
      " [1 0 0 1 0]\n",
      " [1 0 0 1 0]\n",
      " [0 1 1 0 0]\n",
      " [0 0 0 0 1]\n",
      " [0 1 1 0 0]\n",
      " [0 1 1 0 0]\n",
      " [0 0 0 0 1]\n",
      " [0 1 1 0 0]\n",
      " [0 0 0 0 1]\n",
      " [1 1 0 0 0]\n",
      " [1 0 1 0 0]\n",
      " [0 0 0 0 1]\n",
      " [1 0 0 1 0]\n",
      " [1 0 0 1 0]\n",
      " [0 0 0 0 1]\n",
      " [1 0 0 1 0]\n",
      " [1 0 1 0 0]\n",
      " [1 1 0 0 0]\n",
      " [0 0 0 0 1]\n",
      " [1 0 1 0 0]]\n"
     ]
    }
   ],
   "source": [
    "print(evolution(population, fitness(weights, values, population, max_weight), max_weight, weights))"
   ]
  },
  {
   "cell_type": "code",
   "execution_count": 132,
   "id": "bda8587944a8af8",
   "metadata": {
    "ExecuteTime": {
     "end_time": "2023-12-23T13:27:32.913480Z",
     "start_time": "2023-12-23T13:27:32.889340Z"
    }
   },
   "outputs": [],
   "source": [
    "def algo_genetique(arg_population, arg_weights, arg_values, arg_max_weight, nb_iterations=1000, seuil_amelioration=0.01,\n",
    "                   patience=10):\n",
    "    historique_fitness = []  # Stocker l'historique des fitness maximales\n",
    "    compteur_sans_amelioration = 0  # Compteur pour les itérations sans amélioration significative\n",
    "\n",
    "    for _ in range(nb_iterations):\n",
    "        arg_fitness = fitness(arg_weights, arg_values, arg_population, arg_max_weight)\n",
    "        fitness_max = np.max(arg_fitness)\n",
    "\n",
    "        # Mise à jour de l'historique et vérification du critère d'arrêt\n",
    "        if historique_fitness:\n",
    "            if fitness_max - historique_fitness[-1] < seuil_amelioration:\n",
    "                compteur_sans_amelioration += 1\n",
    "            else:\n",
    "                compteur_sans_amelioration = 0\n",
    "\n",
    "        historique_fitness.append(fitness_max)\n",
    "\n",
    "        if compteur_sans_amelioration >= patience:\n",
    "            print(f\"Arrêt après {_} itérations, car il n'y a pas eu d'amélioration significative.\")\n",
    "            break\n",
    "\n",
    "        arg_population = evolution(arg_population, arg_fitness, arg_max_weight, arg_weights)\n",
    "\n",
    "    # On récupère le meilleur individu après le dernier cycle\n",
    "    arg_fitness = fitness(arg_weights, arg_values, arg_population, arg_max_weight)\n",
    "    return arg_population[np.argmax(arg_fitness)], np.max(arg_fitness), historique_fitness\n"
   ]
  },
  {
   "cell_type": "code",
   "execution_count": 134,
   "id": "41f56096e864e03f",
   "metadata": {
    "ExecuteTime": {
     "end_time": "2023-12-23T13:27:40.741948Z",
     "start_time": "2023-12-23T13:27:40.717590Z"
    }
   },
   "outputs": [
    {
     "name": "stdout",
     "output_type": "stream",
     "text": [
      "Arrêt après 10 itérations, car il n'y a pas eu d'amélioration significative.\n"
     ]
    },
    {
     "data": {
      "text/plain": "(array([0, 1, 1, 0, 0]),\n 220.0,\n [220.0, 220.0, 220.0, 220.0, 220.0, 220.0, 220.0, 220.0, 220.0, 220.0, 220.0])"
     },
     "execution_count": 134,
     "metadata": {},
     "output_type": "execute_result"
    }
   ],
   "source": [
    "algo_genetique(population, weights, values, max_weight)"
   ]
  },
  {
   "cell_type": "markdown",
   "id": "243ace5fe7845582",
   "metadata": {},
   "source": [
    "# Les 5 jeux de données"
   ]
  },
  {
   "cell_type": "markdown",
   "id": "e4411a21e33ef174",
   "metadata": {},
   "source": [
    "## Jeu de données 1"
   ]
  },
  {
   "cell_type": "code",
   "execution_count": 84,
   "id": "dc7baed3e3f94e4b",
   "metadata": {
    "ExecuteTime": {
     "end_time": "2023-12-23T13:04:25.423275Z",
     "start_time": "2023-12-23T13:04:25.418993Z"
    }
   },
   "outputs": [],
   "source": [
    "weights_1 = np.array([10, 20, 30, 40, 50])\n",
    "values_1 = np.array([60, 100, 120, 140, 160])\n",
    "max_weight_1 = np.sum(weights) // 3"
   ]
  },
  {
   "cell_type": "markdown",
   "id": "4d2a622d87acb991",
   "metadata": {},
   "source": [
    "## Jeu de données 2"
   ]
  },
  {
   "cell_type": "code",
   "execution_count": 85,
   "id": "45b5c44610ba632a",
   "metadata": {
    "ExecuteTime": {
     "end_time": "2023-12-23T13:04:27.212759Z",
     "start_time": "2023-12-23T13:04:27.199511Z"
    }
   },
   "outputs": [],
   "source": [
    "weights_2 = np.array([10, 20, 30, 40, 50, 60, 70, 80, 90, 100])\n",
    "values_2 = np.array([60, 100, 120, 140, 160, 180, 200, 220, 240, 260])\n",
    "max_weight_2 = np.sum(weights) // 3"
   ]
  },
  {
   "cell_type": "markdown",
   "id": "d1a2d5908edc973",
   "metadata": {},
   "source": [
    "## Jeu de données 3"
   ]
  },
  {
   "cell_type": "code",
   "execution_count": 86,
   "id": "6680535d214115ba",
   "metadata": {
    "ExecuteTime": {
     "end_time": "2023-12-23T13:04:30.069449Z",
     "start_time": "2023-12-23T13:04:30.054775Z"
    }
   },
   "outputs": [],
   "source": [
    "weights_3 = [83, 73, 22, 1, 65, 98, 64, 40, 92, 68, 6, 39, 90, 73, 7, 99, 6, 52, 23, 14]\n",
    "values_3 = [8, 17, 2, 17, 20, 16, 15, 2, 19, 10, 19, 6, 19, 5, 16, 21, 19, 18, 9, 1]\n",
    "max_weight_3 = np.sum(weights) // 3"
   ]
  },
  {
   "cell_type": "markdown",
   "id": "60cb8b0a2626979c",
   "metadata": {},
   "source": [
    "## Jeu de données 4"
   ]
  },
  {
   "cell_type": "code",
   "execution_count": 87,
   "id": "7dac88374717f614",
   "metadata": {
    "ExecuteTime": {
     "end_time": "2023-12-23T13:04:33.024918Z",
     "start_time": "2023-12-23T13:04:33.015054Z"
    }
   },
   "outputs": [],
   "source": [
    "weights_4 = [83, 73, 22, 1, 65, 98, 64, 40, 92, 68, 6, 39, 90, 73, 7, 99, 6, 52, 23, 14, 83, 73, 22, 1, 65, 98, 64, 40,\n",
    "             92, 68, 6, 39, 90, 73, 7, 99, 6, 52, 23, 14]\n",
    "values_4 = [8, 17, 2, 17, 20, 16, 15, 2, 19, 10, 19, 6, 19, 5, 16, 21, 19, 18, 9, 1, 8, 17, 2, 17, 20, 16, 15, 2, 19,\n",
    "            10, 19, 6, 19, 5, 16, 21, 19, 18, 9, 1]\n",
    "max_weight_4 = np.sum(weights) // 3"
   ]
  },
  {
   "cell_type": "markdown",
   "id": "16dd4e95b5892037",
   "metadata": {},
   "source": [
    "## Jeu de données 5"
   ]
  },
  {
   "cell_type": "code",
   "execution_count": 88,
   "id": "2e8181e5f52552fd",
   "metadata": {
    "ExecuteTime": {
     "end_time": "2023-12-23T13:04:39.697074Z",
     "start_time": "2023-12-23T13:04:39.691869Z"
    }
   },
   "outputs": [],
   "source": [
    "weights_5 = [104, 390, 95, 276, 357, 393, 345, 148, 170, 174, 316, 185, 163, 22, 406, 360, 13, 14, 205, 136, 305, 75,\n",
    "             395, 262, 267, 379, 114, 171, 267, 383, 347, 308, 399, 382, 231, 207, 354, 395, 382, 174]\n",
    "values_5 = [25, 7, 6, 24, 19, 6, 19, 20, 21, 14, 25, 5, 24, 6, 25, 5, 25, 25, 25, 25, 25, 25, 25, 25, 6, 25, 25, 25, 25,\n",
    "            25, 25, 25, 25, 25, 6, 25, 25, 25, 25, 25]\n",
    "max_weight_5 = np.sum(weights) // 3"
   ]
  },
  {
   "cell_type": "markdown",
   "id": "eb2d96e64aa55de2",
   "metadata": {},
   "source": [
    "# Quantique "
   ]
  },
  {
   "cell_type": "code",
   "execution_count": 89,
   "id": "1614ffb1ed4ca57c",
   "metadata": {
    "ExecuteTime": {
     "end_time": "2023-12-23T13:04:42.259887Z",
     "start_time": "2023-12-23T13:04:42.241916Z"
    }
   },
   "outputs": [],
   "source": [
    "weights_q = np.array([10, 20])\n",
    "values_q = np.array([60, 100])\n",
    "max_weight_q = np.sum(weights_q) // 3"
   ]
  },
  {
   "cell_type": "code",
   "execution_count": 90,
   "id": "e95375fa1499b50e",
   "metadata": {
    "ExecuteTime": {
     "end_time": "2023-12-23T13:04:44.105744Z",
     "start_time": "2023-12-23T13:04:44.085130Z"
    }
   },
   "outputs": [],
   "source": [
    "def initialiser_q(n, m):\n",
    "    Q = []\n",
    "    un_ele = [1 / (2 ** 0.5) for _ in range(m)]\n",
    "    for i in range(n):\n",
    "        Q.append([un_ele, un_ele])\n",
    "    return Q"
   ]
  },
  {
   "cell_type": "code",
   "execution_count": 91,
   "id": "2d824822919b4800",
   "metadata": {
    "ExecuteTime": {
     "end_time": "2023-12-23T13:04:46.324114Z",
     "start_time": "2023-12-23T13:04:46.305494Z"
    }
   },
   "outputs": [
    {
     "name": "stdout",
     "output_type": "stream",
     "text": [
      "[[[0.7071067811865475, 0.7071067811865475], [0.7071067811865475, 0.7071067811865475]], [[0.7071067811865475, 0.7071067811865475], [0.7071067811865475, 0.7071067811865475]], [[0.7071067811865475, 0.7071067811865475], [0.7071067811865475, 0.7071067811865475]], [[0.7071067811865475, 0.7071067811865475], [0.7071067811865475, 0.7071067811865475]], [[0.7071067811865475, 0.7071067811865475], [0.7071067811865475, 0.7071067811865475]]]\n"
     ]
    }
   ],
   "source": [
    "print(initialiser_q(5, 2))"
   ]
  },
  {
   "cell_type": "code",
   "execution_count": 93,
   "id": "64517a5734162b8b",
   "metadata": {
    "ExecuteTime": {
     "end_time": "2023-12-23T13:05:17.308781Z",
     "start_time": "2023-12-23T13:05:17.288208Z"
    }
   },
   "outputs": [],
   "source": [
    "def initialiser_p(n, m, Q):\n",
    "    P = []\n",
    "    for i in range(n):\n",
    "        aux = []\n",
    "        for j in range(m):\n",
    "            fct_r = np.random.rand()\n",
    "            if fct_r < Q[i][0][j] ** 2:\n",
    "                aux.append(0)\n",
    "            else:\n",
    "                aux.append(1)\n",
    "        P.append(aux)\n",
    "    return P"
   ]
  },
  {
   "cell_type": "code",
   "execution_count": 94,
   "id": "11e5ddff39523fc5",
   "metadata": {
    "ExecuteTime": {
     "end_time": "2023-12-23T13:05:19.786550Z",
     "start_time": "2023-12-23T13:05:19.778120Z"
    }
   },
   "outputs": [
    {
     "name": "stdout",
     "output_type": "stream",
     "text": [
      "[[0, 0], [0, 1], [1, 1], [1, 1], [1, 0]]\n"
     ]
    }
   ],
   "source": [
    "print(initialiser_p(5, 2, initialiser_q(5, 2)))"
   ]
  },
  {
   "cell_type": "code",
   "execution_count": 95,
   "id": "3732e549e58a1660",
   "metadata": {
    "ExecuteTime": {
     "end_time": "2023-12-23T13:05:26.052370Z",
     "start_time": "2023-12-23T13:05:26.037575Z"
    }
   },
   "outputs": [],
   "source": [
    "def evaluer_fitness(P, arg_weights, arg_values, arg_max_weight):\n",
    "    tab_fitness = []\n",
    "    for i in range(len(P)):\n",
    "        S1 = np.sum(P[i] * arg_values)\n",
    "        S2 = np.sum(P[i] * arg_weights)\n",
    "        if S2 > arg_max_weight:\n",
    "            tab_fitness.append(0)\n",
    "        else:\n",
    "            tab_fitness.append(S1)\n",
    "    return tab_fitness"
   ]
  },
  {
   "cell_type": "code",
   "execution_count": 96,
   "id": "ddf30dbfb9ff2ece",
   "metadata": {
    "ExecuteTime": {
     "end_time": "2023-12-23T13:05:30.324758Z",
     "start_time": "2023-12-23T13:05:30.301412Z"
    }
   },
   "outputs": [
    {
     "name": "stdout",
     "output_type": "stream",
     "text": [
      "[60, 0, 0, 0, 0]\n"
     ]
    }
   ],
   "source": [
    "print(evaluer_fitness(initialiser_p(5, 2, initialiser_q(5, 2)), weights_q, values_q, max_weight_q))"
   ]
  },
  {
   "cell_type": "code",
   "execution_count": 97,
   "id": "83fc3485148c0f2f",
   "metadata": {
    "ExecuteTime": {
     "end_time": "2023-12-23T13:05:34.398845Z",
     "start_time": "2023-12-23T13:05:34.376877Z"
    }
   },
   "outputs": [],
   "source": [
    "def recuperer_meilleur(P, arg_fitness):\n",
    "    return P[np.argmax(arg_fitness)], np.max(arg_fitness)"
   ]
  },
  {
   "cell_type": "code",
   "execution_count": 98,
   "id": "72a6e5c848808850",
   "metadata": {
    "ExecuteTime": {
     "end_time": "2023-12-23T13:05:37.555427Z",
     "start_time": "2023-12-23T13:05:37.539939Z"
    }
   },
   "outputs": [
    {
     "name": "stdout",
     "output_type": "stream",
     "text": [
      "([1, 1], 0)\n"
     ]
    }
   ],
   "source": [
    "sol = initialiser_p(5, 2, initialiser_q(5, 2))\n",
    "\n",
    "print(recuperer_meilleur(sol, evaluer_fitness(sol, weights_q, values_q, max_weight_q)))"
   ]
  },
  {
   "cell_type": "code",
   "execution_count": 99,
   "id": "3dd9012c576819f4",
   "metadata": {
    "ExecuteTime": {
     "end_time": "2023-12-23T13:05:39.608362Z",
     "start_time": "2023-12-23T13:05:39.594525Z"
    }
   },
   "outputs": [],
   "source": [
    "# Définition de l'angle gamma suivant la stratégie donnée par Kuk-Hyun Han et Jong-Hwan Kim en 2000\n",
    "\n",
    "def def_gamma(fitnes_indi, fitness_max, bit_indi, bit_max):\n",
    "    if bit_indi == 0 and bit_max == 0:\n",
    "        return 0\n",
    "    elif bit_indi == 0 and bit_max == 1:\n",
    "        if fitnes_indi > fitness_max:\n",
    "            return 0.05 * np.pi\n",
    "        else:\n",
    "            return 0\n",
    "    elif bit_indi == 1 and bit_max == 0:\n",
    "        if fitnes_indi > fitness_max:\n",
    "            return 0.025 * np.pi\n",
    "        else:\n",
    "            return 0.01 * np.pi\n",
    "    elif bit_indi == 1 and bit_max == 1:\n",
    "        if fitnes_indi > fitness_max:\n",
    "            return 0.025 * np.pi\n",
    "        else:\n",
    "            return 0.05 * np.pi"
   ]
  },
  {
   "cell_type": "code",
   "execution_count": 105,
   "id": "2743b62d5fd5ec4b",
   "metadata": {
    "ExecuteTime": {
     "end_time": "2023-12-23T13:06:33.910902Z",
     "start_time": "2023-12-23T13:06:33.891754Z"
    }
   },
   "outputs": [],
   "source": [
    "def get_best(B):\n",
    "    meilleur_element = max(B, key=lambda x: x[1])\n",
    "    return meilleur_element"
   ]
  },
  {
   "cell_type": "code",
   "execution_count": 100,
   "id": "d1806f666e998881",
   "metadata": {
    "ExecuteTime": {
     "end_time": "2023-12-23T13:05:42.711370Z",
     "start_time": "2023-12-23T13:05:42.705414Z"
    }
   },
   "outputs": [
    {
     "name": "stdout",
     "output_type": "stream",
     "text": [
      "(-0.7067279501925645, -0.02314312892881848)\n"
     ]
    }
   ],
   "source": [
    "def calcule_alpha_beta(alpha, beta, gamma):\n",
    "    alpha_prime = alpha * np.cos(gamma) - beta * np.sin(gamma)\n",
    "    beta_prime = alpha * np.sin(gamma) + beta * np.cos(gamma)\n",
    "    return alpha_prime, beta_prime\n",
    "\n",
    "\n",
    "print(calcule_alpha_beta(0.5, 0.5, np.random.rand() * np.pi))\n",
    "\n",
    "\n",
    "def update(P, Q, B, fct_weights, fct_values, fct_max_weight):\n",
    "    for i in range(len(Q)):\n",
    "        best_sol = get_best(B)[0]\n",
    "        for j in range(len(Q[i])):\n",
    "            alpha = Q[i][0][j]\n",
    "            beta = Q[i][1][j]\n",
    "            gamma_fct = def_gamma(evaluer_fitness([P[i]], fct_weights, fct_values, fct_max_weight)[0], get_best(B)[1],\n",
    "                                  P[i][j], best_sol[j])\n",
    "            alpha_prime, beta_prime = calcule_alpha_beta(alpha, beta, gamma_fct)\n",
    "            Q[i][0][j] = alpha_prime\n",
    "            Q[i][1][j] = beta_prime\n",
    "    return Q"
   ]
  },
  {
   "cell_type": "code",
   "execution_count": 101,
   "id": "d1c2e3d9d6270aa1",
   "metadata": {
    "ExecuteTime": {
     "end_time": "2023-12-23T13:05:56.511040Z",
     "start_time": "2023-12-23T13:05:56.491132Z"
    }
   },
   "outputs": [],
   "source": [
    "# Créer 𝑃(𝑡) en observant 𝑄(𝑡) et évaluer 𝑃(𝑡) : Sur la base de l'observation de 𝑄(𝑡), les solutions binaires 𝑃(𝑡) sont formées  \n",
    "\n",
    "def creer_p(Q):\n",
    "    P = []\n",
    "    for i in range(len(Q)):\n",
    "        aux = []\n",
    "        for j in range(len(Q[i][1])):\n",
    "            r = np.random.rand()\n",
    "            if r < Q[i][0][j] ** 2:\n",
    "                aux.append(0)\n",
    "            else:\n",
    "                aux.append(1)\n",
    "        P.append(aux)\n",
    "    return P"
   ]
  },
  {
   "cell_type": "code",
   "execution_count": 102,
   "id": "602236776fe3ea9c",
   "metadata": {
    "ExecuteTime": {
     "end_time": "2023-12-23T13:05:58.958996Z",
     "start_time": "2023-12-23T13:05:58.954224Z"
    }
   },
   "outputs": [
    {
     "name": "stdout",
     "output_type": "stream",
     "text": [
      "[[0, 0], [1, 1], [0, 0], [0, 0], [0, 1]]\n"
     ]
    }
   ],
   "source": [
    "print(creer_p(initialiser_q(5, 2)))"
   ]
  },
  {
   "cell_type": "code",
   "execution_count": 103,
   "id": "8c036be4383d0f42",
   "metadata": {
    "ExecuteTime": {
     "end_time": "2023-12-23T13:06:00.841312Z",
     "start_time": "2023-12-23T13:06:00.833783Z"
    }
   },
   "outputs": [],
   "source": [
    "# Algorithme quantique\n",
    "\n",
    "def algorithme_quantique(n, m, arg_weights, arg_values, arg_max_weight, nb_iterations):\n",
    "    Q = initialiser_q(n, m)\n",
    "    B = []\n",
    "    for i in range(nb_iterations):\n",
    "        P = creer_p(Q)\n",
    "        fct_fitness = evaluer_fitness(P, arg_weights, arg_values, arg_max_weight)\n",
    "        P_best, fct_fitness_best = recuperer_meilleur(P, fct_fitness)\n",
    "        B.append([P_best, fct_fitness_best])\n",
    "        Q = update(P, Q, B, arg_weights, arg_values, arg_max_weight)\n",
    "    return B"
   ]
  },
  {
   "cell_type": "code",
   "execution_count": 106,
   "id": "59fae12809bfaa2",
   "metadata": {
    "ExecuteTime": {
     "end_time": "2023-12-23T13:07:31.664706Z",
     "start_time": "2023-12-23T13:07:31.640871Z"
    }
   },
   "outputs": [
    {
     "name": "stdout",
     "output_type": "stream",
     "text": [
      "[[[1, 0], 60], [[0, 0], 0], [[0, 0], 0], [[1, 0], 60], [[0, 0], 0], [[0, 0], 0], [[0, 0], 0], [[0, 0], 0], [[0, 1], 0], [[0, 0], 0]]\n"
     ]
    }
   ],
   "source": [
    "print(algorithme_quantique(5, 2, weights_q, values_q, max_weight_q, 10))"
   ]
  },
  {
   "cell_type": "code",
   "execution_count": 107,
   "id": "94d9bbe4a10dadb6",
   "metadata": {
    "ExecuteTime": {
     "end_time": "2023-12-23T13:07:49.199051Z",
     "start_time": "2023-12-23T13:07:38.404518Z"
    }
   },
   "outputs": [
    {
     "name": "stdout",
     "output_type": "stream",
     "text": [
      "[[[1, 0, 0, 1, 0], 200], [[0, 0, 0, 0, 1], 160], [[0, 0, 0, 0, 1], 160], [[0, 0, 0, 0, 1], 160], [[0, 0, 0, 0, 1], 160], [[0, 0, 0, 0, 1], 160], [[0, 0, 0, 0, 1], 160], [[0, 0, 0, 0, 1], 160], [[0, 0, 0, 0, 1], 160], [[0, 0, 0, 0, 1], 160], [[0, 0, 0, 0, 1], 160], [[0, 0, 0, 0, 1], 160], [[0, 0, 0, 0, 1], 160], [[0, 0, 0, 0, 1], 160], [[0, 0, 0, 0, 1], 160], [[0, 0, 0, 0, 1], 160], [[0, 0, 0, 0, 1], 160], [[0, 0, 0, 0, 1], 160], [[0, 0, 0, 0, 1], 160], [[0, 0, 0, 0, 1], 160], [[0, 0, 0, 0, 1], 160], [[0, 0, 0, 0, 1], 160], [[0, 0, 0, 0, 1], 160], [[0, 0, 0, 0, 1], 160], [[0, 0, 0, 0, 1], 160], [[0, 0, 0, 0, 1], 160], [[0, 0, 0, 0, 1], 160], [[0, 0, 0, 0, 1], 160], [[0, 0, 0, 0, 1], 160], [[0, 0, 0, 0, 1], 160], [[0, 0, 0, 0, 1], 160], [[0, 0, 0, 0, 1], 160], [[0, 0, 0, 0, 1], 160], [[0, 0, 0, 0, 1], 160], [[0, 0, 0, 0, 1], 160], [[0, 0, 0, 0, 1], 160], [[0, 0, 0, 0, 1], 160], [[0, 0, 0, 0, 1], 160], [[0, 0, 0, 0, 1], 160], [[0, 0, 0, 0, 1], 160], [[0, 0, 0, 0, 1], 160], [[0, 0, 0, 0, 1], 160], [[0, 0, 0, 0, 1], 160], [[0, 0, 0, 0, 1], 160], [[0, 0, 0, 0, 1], 160], [[0, 0, 0, 0, 1], 160], [[0, 0, 0, 0, 1], 160], [[0, 0, 0, 0, 1], 160], [[0, 0, 0, 0, 1], 160], [[0, 0, 0, 0, 1], 160], [[0, 0, 0, 0, 1], 160], [[0, 0, 0, 0, 1], 160], [[0, 0, 0, 0, 1], 160], [[0, 0, 0, 0, 1], 160], [[0, 0, 0, 0, 1], 160], [[0, 0, 0, 0, 1], 160], [[0, 0, 0, 0, 1], 160], [[0, 0, 0, 0, 1], 160], [[0, 0, 0, 0, 1], 160], [[0, 0, 0, 0, 1], 160], [[0, 0, 0, 0, 1], 160], [[0, 0, 0, 0, 1], 160], [[0, 0, 0, 0, 1], 160], [[0, 0, 0, 0, 1], 160], [[0, 0, 0, 0, 1], 160], [[0, 0, 0, 0, 1], 160], [[0, 0, 0, 0, 1], 160], [[0, 0, 0, 0, 1], 160], [[0, 0, 0, 0, 1], 160], [[0, 0, 0, 0, 1], 160], [[0, 0, 0, 0, 1], 160], [[0, 0, 0, 0, 1], 160], [[0, 0, 0, 0, 1], 160], [[0, 0, 0, 0, 1], 160], [[0, 0, 0, 0, 1], 160], [[0, 0, 0, 0, 1], 160], [[0, 0, 0, 0, 1], 160], [[0, 0, 0, 0, 1], 160], [[0, 0, 0, 0, 1], 160], [[0, 0, 0, 0, 1], 160], [[0, 0, 0, 0, 1], 160], [[0, 0, 0, 0, 1], 160], [[0, 0, 0, 0, 1], 160], [[0, 0, 0, 0, 1], 160], [[0, 0, 0, 0, 1], 160], [[0, 0, 0, 0, 1], 160], [[0, 0, 0, 0, 1], 160], [[0, 0, 0, 0, 1], 160], [[0, 0, 0, 0, 1], 160], [[0, 0, 0, 0, 1], 160], [[0, 0, 0, 0, 1], 160], [[0, 0, 0, 0, 1], 160], [[0, 0, 0, 0, 1], 160], [[0, 0, 0, 0, 1], 160], [[0, 0, 0, 0, 1], 160], [[0, 0, 0, 0, 1], 160], [[0, 0, 0, 0, 1], 160], [[0, 0, 0, 0, 1], 160], [[0, 0, 0, 0, 1], 160], [[0, 0, 0, 0, 1], 160], [[0, 0, 0, 0, 1], 160], [[0, 0, 0, 0, 1], 160], [[0, 0, 0, 0, 1], 160], [[0, 0, 0, 0, 1], 160], [[0, 0, 0, 0, 1], 160], [[0, 0, 0, 0, 1], 160], [[0, 0, 0, 0, 1], 160], [[0, 0, 0, 0, 1], 160], [[0, 0, 0, 0, 1], 160], [[0, 0, 0, 0, 1], 160], [[0, 0, 0, 0, 1], 160], [[0, 0, 0, 0, 1], 160], [[0, 0, 0, 0, 1], 160], [[0, 0, 0, 0, 1], 160], [[0, 0, 0, 0, 1], 160], [[0, 0, 0, 0, 1], 160], [[0, 0, 0, 0, 1], 160], [[0, 0, 0, 0, 1], 160], [[0, 0, 0, 0, 1], 160], [[0, 0, 0, 0, 1], 160], [[0, 0, 0, 0, 1], 160], [[0, 0, 0, 0, 1], 160], [[0, 0, 0, 0, 1], 160], [[0, 0, 0, 0, 1], 160], [[0, 0, 0, 0, 1], 160], [[0, 0, 0, 0, 1], 160], [[0, 0, 0, 0, 1], 160], [[0, 0, 0, 0, 1], 160], [[0, 0, 0, 0, 1], 160], [[0, 0, 0, 0, 1], 160], [[0, 0, 0, 0, 1], 160], [[0, 0, 0, 0, 1], 160], [[0, 0, 0, 0, 1], 160], [[0, 0, 0, 0, 1], 160], [[0, 0, 0, 0, 1], 160], [[0, 0, 0, 0, 1], 160], [[0, 0, 0, 0, 1], 160], [[0, 0, 0, 0, 1], 160], [[0, 0, 0, 0, 1], 160], [[0, 0, 0, 0, 1], 160], [[0, 0, 0, 0, 1], 160], [[0, 0, 0, 0, 1], 160], [[0, 0, 0, 0, 1], 160], [[0, 0, 0, 0, 1], 160], [[0, 0, 0, 0, 1], 160], [[0, 0, 0, 0, 1], 160], [[0, 0, 0, 0, 1], 160], [[0, 0, 0, 0, 1], 160], [[0, 0, 0, 0, 1], 160], [[0, 0, 0, 0, 1], 160], [[0, 0, 0, 0, 1], 160], [[0, 0, 0, 0, 1], 160], [[0, 0, 0, 0, 1], 160], [[0, 0, 0, 0, 1], 160], [[0, 0, 0, 0, 1], 160], [[0, 0, 0, 0, 1], 160], [[0, 0, 0, 0, 1], 160], [[0, 0, 0, 0, 1], 160], [[0, 0, 0, 0, 1], 160], [[0, 0, 0, 0, 1], 160], [[0, 0, 0, 0, 1], 160], [[0, 0, 0, 0, 1], 160], [[0, 0, 0, 0, 1], 160], [[0, 0, 0, 0, 1], 160], [[0, 0, 0, 0, 1], 160], [[0, 0, 0, 0, 1], 160], [[0, 0, 0, 0, 1], 160], [[0, 0, 0, 0, 1], 160], [[0, 0, 0, 0, 1], 160], [[0, 0, 0, 0, 1], 160], [[0, 0, 0, 0, 1], 160], [[0, 0, 0, 0, 1], 160], [[0, 0, 0, 0, 1], 160], [[0, 0, 0, 0, 1], 160], [[0, 0, 0, 0, 1], 160], [[0, 0, 0, 0, 1], 160], [[0, 0, 0, 0, 1], 160], [[0, 0, 0, 0, 1], 160], [[0, 0, 0, 0, 1], 160], [[0, 0, 0, 0, 1], 160], [[0, 0, 0, 0, 1], 160], [[0, 0, 0, 0, 1], 160], [[0, 0, 0, 0, 1], 160], [[0, 0, 0, 0, 1], 160], [[0, 0, 0, 0, 1], 160], [[0, 0, 0, 0, 1], 160], [[0, 0, 0, 0, 1], 160], [[0, 0, 0, 0, 1], 160], [[0, 0, 0, 0, 1], 160], [[0, 0, 0, 0, 1], 160], [[0, 0, 0, 0, 1], 160], [[0, 0, 0, 0, 1], 160], [[0, 0, 0, 0, 1], 160], [[0, 0, 0, 0, 1], 160], [[0, 0, 0, 0, 1], 160], [[0, 0, 0, 0, 1], 160], [[0, 0, 0, 0, 1], 160], [[0, 0, 0, 0, 1], 160], [[0, 0, 0, 0, 1], 160], [[0, 0, 0, 0, 1], 160], [[0, 0, 0, 0, 1], 160], [[0, 0, 0, 0, 1], 160], [[0, 0, 0, 0, 1], 160], [[0, 0, 0, 0, 1], 160], [[0, 0, 0, 0, 1], 160], [[0, 0, 0, 0, 1], 160], [[0, 0, 0, 0, 1], 160], [[0, 0, 0, 0, 1], 160], [[0, 0, 0, 0, 1], 160], [[0, 0, 0, 0, 1], 160], [[0, 0, 0, 0, 1], 160], [[0, 0, 0, 0, 1], 160], [[0, 0, 0, 0, 1], 160], [[0, 0, 0, 0, 1], 160], [[0, 0, 0, 0, 1], 160], [[0, 0, 0, 0, 1], 160], [[0, 0, 0, 0, 1], 160], [[0, 0, 0, 0, 1], 160], [[0, 0, 0, 0, 1], 160], [[0, 0, 0, 0, 1], 160], [[0, 0, 0, 0, 1], 160], [[0, 0, 0, 0, 1], 160], [[0, 0, 0, 0, 1], 160], [[0, 0, 0, 0, 1], 160], [[0, 0, 0, 0, 1], 160], [[0, 0, 0, 0, 1], 160], [[0, 0, 0, 0, 1], 160], [[0, 0, 0, 0, 1], 160], [[0, 0, 0, 0, 1], 160], [[0, 0, 0, 0, 1], 160], [[0, 0, 0, 0, 1], 160], [[0, 0, 0, 0, 1], 160], [[0, 0, 0, 0, 1], 160], [[0, 0, 0, 0, 1], 160], [[0, 0, 0, 0, 1], 160], [[0, 0, 0, 0, 1], 160], [[0, 0, 0, 0, 1], 160], [[0, 0, 0, 0, 1], 160], [[0, 0, 0, 0, 1], 160], [[0, 0, 0, 0, 1], 160], [[0, 0, 0, 0, 1], 160], [[0, 0, 0, 0, 1], 160], [[0, 0, 0, 0, 1], 160], [[0, 0, 0, 0, 1], 160], [[0, 0, 0, 0, 1], 160], [[0, 0, 0, 0, 1], 160], [[0, 0, 0, 0, 1], 160], [[0, 0, 0, 0, 1], 160], [[0, 0, 0, 0, 1], 160], [[0, 0, 0, 0, 1], 160], [[0, 0, 0, 0, 1], 160], [[0, 0, 0, 0, 1], 160], [[0, 0, 0, 0, 1], 160], [[0, 0, 0, 0, 1], 160], [[0, 0, 0, 0, 1], 160], [[0, 0, 0, 0, 1], 160], [[0, 0, 0, 0, 1], 160], [[0, 0, 0, 0, 1], 160], [[0, 0, 0, 0, 1], 160], [[0, 0, 0, 0, 1], 160], [[0, 0, 0, 0, 1], 160], [[0, 0, 0, 0, 1], 160], [[0, 0, 0, 0, 1], 160], [[0, 0, 0, 0, 1], 160], [[0, 0, 0, 0, 1], 160], [[0, 0, 0, 0, 1], 160], [[0, 0, 0, 0, 1], 160], [[0, 0, 0, 0, 1], 160], [[0, 0, 0, 0, 1], 160], [[0, 0, 0, 0, 1], 160], [[0, 0, 0, 0, 1], 160], [[0, 0, 0, 0, 1], 160], [[0, 0, 0, 0, 1], 160], [[0, 0, 0, 0, 1], 160], [[0, 0, 0, 0, 1], 160], [[0, 0, 0, 0, 1], 160], [[0, 0, 0, 0, 1], 160], [[0, 0, 0, 0, 1], 160], [[0, 0, 0, 0, 1], 160], [[0, 0, 0, 0, 1], 160], [[0, 0, 0, 0, 1], 160], [[0, 0, 0, 0, 1], 160], [[0, 0, 0, 0, 1], 160], [[0, 0, 0, 0, 1], 160], [[0, 0, 0, 0, 1], 160], [[0, 0, 0, 0, 1], 160], [[0, 0, 0, 0, 1], 160], [[0, 0, 0, 0, 1], 160], [[0, 0, 0, 0, 1], 160], [[0, 0, 0, 0, 1], 160], [[0, 0, 0, 0, 1], 160], [[0, 0, 0, 0, 1], 160], [[0, 0, 0, 0, 1], 160], [[0, 0, 0, 0, 1], 160], [[0, 0, 0, 0, 1], 160], [[0, 0, 0, 0, 1], 160], [[0, 0, 0, 0, 1], 160], [[0, 0, 0, 0, 1], 160], [[0, 0, 0, 0, 1], 160], [[0, 0, 0, 0, 1], 160], [[0, 0, 0, 0, 1], 160], [[0, 0, 0, 0, 1], 160], [[0, 0, 0, 0, 1], 160], [[0, 0, 0, 0, 1], 160], [[0, 0, 0, 0, 1], 160], [[0, 0, 0, 0, 1], 160], [[0, 0, 0, 0, 1], 160], [[0, 0, 0, 0, 1], 160], [[0, 0, 0, 0, 1], 160], [[0, 0, 0, 0, 1], 160], [[0, 0, 0, 0, 1], 160], [[0, 0, 0, 0, 1], 160], [[0, 0, 0, 0, 1], 160], [[0, 0, 0, 0, 1], 160], [[0, 0, 0, 0, 1], 160], [[0, 0, 0, 0, 1], 160], [[0, 0, 0, 0, 1], 160], [[0, 0, 0, 0, 1], 160], [[0, 0, 0, 0, 1], 160], [[0, 0, 0, 0, 1], 160], [[0, 0, 0, 0, 1], 160], [[0, 0, 0, 0, 1], 160], [[0, 0, 0, 0, 1], 160], [[0, 0, 0, 0, 1], 160], [[0, 0, 0, 0, 1], 160], [[0, 0, 0, 0, 1], 160], [[0, 0, 0, 0, 1], 160], [[0, 0, 0, 0, 1], 160], [[0, 0, 0, 0, 1], 160], [[0, 0, 0, 0, 1], 160], [[0, 0, 0, 0, 1], 160], [[0, 0, 0, 0, 1], 160], [[0, 0, 0, 0, 1], 160], [[0, 0, 0, 0, 1], 160], [[0, 0, 0, 0, 1], 160], [[0, 0, 0, 0, 1], 160], [[0, 0, 0, 0, 1], 160], [[0, 0, 0, 0, 1], 160], [[0, 0, 0, 0, 1], 160], [[0, 0, 0, 0, 1], 160], [[0, 0, 0, 0, 1], 160], [[0, 0, 0, 0, 1], 160], [[0, 0, 0, 0, 1], 160], [[0, 0, 0, 0, 1], 160], [[0, 0, 0, 0, 1], 160], [[0, 0, 0, 0, 1], 160], [[0, 0, 0, 0, 1], 160], [[0, 0, 0, 0, 1], 160], [[0, 0, 0, 0, 1], 160], [[0, 0, 0, 0, 1], 160], [[0, 0, 0, 0, 1], 160], [[0, 0, 0, 0, 1], 160], [[0, 0, 0, 0, 1], 160], [[0, 0, 0, 0, 1], 160], [[0, 0, 0, 0, 1], 160], [[0, 0, 0, 0, 1], 160], [[0, 0, 0, 0, 1], 160], [[0, 0, 0, 0, 1], 160], [[0, 0, 0, 0, 1], 160], [[0, 0, 0, 0, 1], 160], [[0, 0, 0, 0, 1], 160], [[0, 0, 0, 0, 1], 160], [[0, 0, 0, 0, 1], 160], [[0, 0, 0, 0, 1], 160], [[0, 0, 0, 0, 1], 160], [[0, 0, 0, 0, 1], 160], [[0, 0, 0, 0, 1], 160], [[0, 0, 0, 0, 1], 160], [[0, 0, 0, 0, 1], 160], [[0, 0, 0, 0, 1], 160], [[0, 0, 0, 0, 1], 160], [[0, 0, 0, 0, 1], 160], [[0, 0, 0, 0, 1], 160], [[0, 0, 0, 0, 1], 160], [[0, 0, 0, 0, 1], 160], [[0, 0, 0, 0, 1], 160], [[0, 0, 0, 0, 1], 160], [[0, 0, 0, 0, 1], 160], [[0, 0, 0, 0, 1], 160], [[0, 0, 0, 0, 1], 160], [[0, 0, 0, 0, 1], 160], [[0, 0, 0, 0, 1], 160], [[0, 0, 0, 0, 1], 160], [[0, 0, 0, 0, 1], 160], [[0, 0, 0, 0, 1], 160], [[0, 0, 0, 0, 1], 160], [[0, 0, 0, 0, 1], 160], [[0, 0, 0, 0, 1], 160], [[0, 0, 0, 0, 1], 160], [[0, 0, 0, 0, 1], 160], [[0, 0, 0, 0, 1], 160], [[0, 0, 0, 0, 1], 160], [[0, 0, 0, 0, 1], 160], [[0, 0, 0, 0, 1], 160], [[0, 0, 0, 0, 1], 160], [[0, 0, 0, 0, 1], 160], [[0, 0, 0, 0, 1], 160], [[0, 0, 0, 0, 1], 160], [[0, 0, 0, 0, 1], 160], [[0, 0, 0, 0, 1], 160], [[0, 0, 0, 0, 1], 160], [[0, 0, 0, 0, 1], 160], [[0, 0, 0, 0, 1], 160], [[0, 0, 0, 0, 1], 160], [[0, 0, 0, 0, 1], 160], [[0, 0, 0, 0, 1], 160], [[0, 0, 0, 0, 1], 160], [[0, 0, 0, 0, 1], 160], [[0, 0, 0, 0, 1], 160], [[0, 0, 0, 0, 1], 160], [[0, 0, 0, 0, 1], 160], [[0, 0, 0, 0, 1], 160], [[0, 0, 0, 0, 1], 160], [[0, 0, 0, 0, 1], 160], [[0, 0, 0, 0, 1], 160], [[0, 0, 0, 0, 1], 160], [[0, 0, 0, 0, 1], 160], [[0, 0, 0, 0, 1], 160], [[0, 0, 0, 0, 1], 160], [[0, 0, 0, 0, 1], 160], [[0, 0, 0, 0, 1], 160], [[0, 0, 0, 0, 1], 160], [[0, 0, 0, 0, 1], 160], [[0, 0, 0, 0, 1], 160], [[0, 0, 0, 0, 1], 160], [[0, 0, 0, 0, 1], 160], [[0, 0, 0, 0, 1], 160], [[0, 0, 0, 0, 1], 160], [[0, 0, 0, 0, 1], 160], [[0, 0, 0, 0, 1], 160], [[0, 0, 0, 0, 1], 160], [[0, 0, 0, 0, 1], 160], [[0, 0, 0, 0, 1], 160], [[0, 0, 0, 0, 1], 160], [[0, 0, 0, 0, 1], 160], [[0, 0, 0, 0, 1], 160], [[0, 0, 0, 0, 1], 160], [[0, 0, 0, 0, 1], 160], [[0, 0, 0, 0, 1], 160], [[0, 0, 0, 0, 1], 160], [[0, 0, 0, 0, 1], 160], [[0, 0, 0, 0, 1], 160], [[0, 0, 0, 0, 1], 160], [[0, 0, 0, 0, 1], 160], [[0, 0, 0, 0, 1], 160], [[0, 0, 0, 0, 1], 160], [[0, 0, 0, 0, 1], 160], [[0, 0, 0, 0, 1], 160], [[0, 0, 0, 0, 1], 160], [[0, 0, 0, 0, 1], 160], [[0, 0, 0, 0, 1], 160], [[0, 0, 0, 0, 1], 160], [[0, 0, 0, 0, 1], 160], [[0, 0, 0, 0, 1], 160], [[0, 0, 0, 0, 1], 160], [[0, 0, 0, 0, 1], 160], [[0, 0, 0, 0, 1], 160], [[0, 0, 0, 0, 1], 160], [[0, 0, 0, 0, 1], 160], [[0, 0, 0, 0, 1], 160], [[0, 0, 0, 0, 1], 160], [[0, 0, 0, 0, 1], 160], [[0, 0, 0, 0, 1], 160], [[0, 0, 0, 0, 1], 160], [[0, 0, 0, 0, 1], 160], [[0, 0, 0, 0, 1], 160], [[0, 0, 0, 0, 1], 160], [[0, 0, 0, 0, 1], 160], [[0, 0, 0, 0, 1], 160], [[0, 0, 0, 0, 1], 160], [[0, 0, 0, 0, 1], 160], [[0, 0, 0, 0, 1], 160], [[0, 0, 0, 0, 1], 160], [[0, 0, 0, 0, 1], 160], [[0, 0, 0, 0, 1], 160], [[0, 0, 0, 0, 1], 160], [[0, 0, 0, 0, 1], 160], [[0, 0, 0, 0, 1], 160], [[0, 0, 0, 0, 1], 160], [[0, 0, 0, 0, 1], 160], [[0, 0, 0, 0, 1], 160], [[0, 0, 0, 0, 1], 160], [[0, 0, 0, 0, 1], 160], [[0, 0, 0, 0, 1], 160], [[0, 0, 0, 0, 1], 160], [[0, 0, 0, 0, 1], 160], [[0, 0, 0, 0, 1], 160], [[0, 0, 0, 0, 1], 160], [[0, 0, 0, 0, 1], 160], [[0, 0, 0, 0, 1], 160], [[0, 0, 0, 0, 1], 160], [[0, 0, 0, 0, 1], 160], [[0, 0, 0, 0, 1], 160], [[0, 0, 0, 0, 1], 160], [[0, 0, 0, 0, 1], 160], [[0, 0, 0, 0, 1], 160], [[0, 0, 0, 0, 1], 160], [[0, 0, 0, 0, 1], 160], [[0, 0, 0, 0, 1], 160], [[0, 0, 0, 0, 1], 160], [[0, 0, 0, 0, 1], 160], [[0, 0, 0, 0, 1], 160], [[0, 0, 0, 0, 1], 160], [[0, 0, 0, 0, 1], 160], [[0, 0, 0, 0, 1], 160], [[0, 0, 0, 0, 1], 160], [[0, 0, 0, 0, 1], 160], [[0, 0, 0, 0, 1], 160], [[0, 0, 0, 0, 1], 160], [[0, 0, 0, 0, 1], 160], [[0, 0, 0, 0, 1], 160], [[0, 0, 0, 0, 1], 160], [[0, 0, 0, 0, 1], 160], [[0, 0, 0, 0, 1], 160], [[0, 0, 0, 0, 1], 160], [[0, 0, 0, 0, 1], 160], [[0, 0, 0, 0, 1], 160], [[0, 0, 0, 0, 1], 160], [[0, 0, 0, 0, 1], 160], [[0, 0, 0, 0, 1], 160], [[0, 0, 0, 0, 1], 160], [[0, 0, 0, 0, 1], 160], [[0, 0, 0, 0, 1], 160], [[0, 0, 0, 0, 1], 160], [[0, 0, 0, 0, 1], 160], [[0, 0, 0, 0, 1], 160], [[0, 0, 0, 0, 1], 160], [[0, 0, 0, 0, 1], 160], [[0, 0, 0, 0, 1], 160], [[0, 0, 0, 0, 1], 160], [[0, 0, 0, 0, 1], 160], [[0, 0, 0, 0, 1], 160], [[0, 0, 0, 0, 1], 160], [[0, 0, 0, 0, 1], 160], [[0, 0, 0, 0, 1], 160], [[0, 0, 0, 0, 1], 160], [[0, 0, 0, 0, 1], 160], [[0, 0, 0, 0, 1], 160], [[0, 0, 0, 0, 1], 160], [[0, 0, 0, 0, 1], 160], [[0, 0, 0, 0, 1], 160], [[0, 0, 0, 0, 1], 160], [[0, 0, 0, 0, 1], 160], [[0, 0, 0, 0, 1], 160], [[0, 0, 0, 0, 1], 160], [[0, 0, 0, 0, 1], 160], [[0, 0, 0, 0, 1], 160], [[0, 0, 0, 0, 1], 160], [[0, 0, 0, 0, 1], 160], [[0, 0, 0, 0, 1], 160], [[0, 0, 0, 0, 1], 160], [[0, 0, 0, 0, 1], 160], [[0, 0, 0, 0, 1], 160], [[0, 0, 0, 0, 1], 160], [[0, 0, 0, 0, 1], 160], [[0, 0, 0, 0, 1], 160], [[0, 0, 0, 0, 1], 160], [[0, 0, 0, 0, 1], 160], [[0, 0, 0, 0, 1], 160], [[0, 0, 0, 0, 1], 160], [[0, 0, 0, 0, 1], 160], [[0, 0, 0, 0, 1], 160], [[0, 0, 0, 0, 1], 160], [[0, 0, 0, 0, 1], 160], [[0, 0, 0, 0, 1], 160], [[0, 0, 0, 0, 1], 160], [[0, 0, 0, 0, 1], 160], [[0, 0, 0, 0, 1], 160], [[0, 0, 0, 0, 1], 160], [[0, 0, 0, 0, 1], 160], [[0, 0, 0, 0, 1], 160], [[0, 0, 0, 0, 1], 160], [[0, 0, 0, 0, 1], 160], [[0, 0, 0, 0, 1], 160], [[0, 0, 0, 0, 1], 160], [[0, 0, 0, 0, 1], 160], [[0, 0, 0, 0, 1], 160], [[0, 0, 0, 0, 1], 160], [[0, 0, 0, 0, 1], 160], [[0, 0, 0, 0, 1], 160], [[0, 0, 0, 0, 1], 160], [[0, 0, 0, 0, 1], 160], [[0, 0, 0, 0, 1], 160], [[0, 0, 0, 0, 1], 160], [[0, 0, 0, 0, 1], 160], [[0, 0, 0, 0, 1], 160], [[0, 0, 0, 0, 1], 160], [[0, 0, 0, 0, 1], 160], [[0, 0, 0, 0, 1], 160], [[0, 0, 0, 0, 1], 160], [[0, 0, 0, 0, 1], 160], [[0, 0, 0, 0, 1], 160], [[0, 0, 0, 0, 1], 160], [[0, 0, 0, 0, 1], 160], [[0, 0, 0, 0, 1], 160], [[0, 0, 0, 0, 1], 160], [[0, 0, 0, 0, 1], 160], [[0, 0, 0, 0, 1], 160], [[0, 0, 0, 0, 1], 160], [[0, 0, 0, 0, 1], 160], [[0, 0, 0, 0, 1], 160], [[0, 0, 0, 0, 1], 160], [[0, 0, 0, 0, 1], 160], [[0, 0, 0, 0, 1], 160], [[0, 0, 0, 0, 1], 160], [[0, 0, 0, 0, 1], 160], [[0, 0, 0, 0, 1], 160], [[0, 0, 0, 0, 1], 160], [[0, 0, 0, 0, 1], 160], [[0, 0, 0, 0, 1], 160], [[0, 0, 0, 0, 1], 160], [[0, 0, 0, 0, 1], 160], [[0, 0, 0, 0, 1], 160], [[0, 0, 0, 0, 1], 160], [[0, 0, 0, 0, 1], 160], [[0, 0, 0, 0, 1], 160], [[0, 0, 0, 0, 1], 160], [[0, 0, 0, 0, 1], 160], [[0, 0, 0, 0, 1], 160], [[0, 0, 0, 0, 1], 160], [[0, 0, 0, 0, 1], 160], [[0, 0, 0, 0, 1], 160], [[0, 0, 0, 0, 1], 160], [[0, 0, 0, 0, 1], 160], [[0, 0, 0, 0, 1], 160], [[0, 0, 0, 0, 1], 160], [[0, 0, 0, 0, 1], 160], [[0, 0, 0, 0, 1], 160], [[0, 0, 0, 0, 1], 160], [[0, 0, 0, 0, 1], 160], [[0, 0, 0, 0, 1], 160], [[0, 0, 0, 0, 1], 160], [[0, 0, 0, 0, 1], 160], [[0, 0, 0, 0, 1], 160], [[0, 0, 0, 0, 1], 160], [[0, 0, 0, 0, 1], 160], [[0, 0, 0, 0, 1], 160], [[0, 0, 0, 0, 1], 160], [[0, 0, 0, 0, 1], 160], [[0, 0, 0, 0, 1], 160], [[0, 0, 0, 0, 1], 160], [[0, 0, 0, 0, 1], 160], [[0, 0, 0, 0, 1], 160], [[0, 0, 0, 0, 1], 160], [[0, 0, 0, 0, 1], 160], [[0, 0, 0, 0, 1], 160], [[0, 0, 0, 0, 1], 160], [[0, 0, 0, 0, 1], 160], [[0, 0, 0, 0, 1], 160], [[0, 0, 0, 0, 1], 160], [[0, 0, 0, 0, 1], 160], [[0, 0, 0, 0, 1], 160], [[0, 0, 0, 0, 1], 160], [[0, 0, 0, 0, 1], 160], [[0, 0, 0, 0, 1], 160], [[0, 0, 0, 0, 1], 160], [[0, 0, 0, 0, 1], 160], [[0, 0, 0, 0, 1], 160], [[0, 0, 0, 0, 1], 160], [[0, 0, 0, 0, 1], 160], [[0, 0, 0, 0, 1], 160], [[0, 0, 0, 0, 1], 160], [[0, 0, 0, 0, 1], 160], [[0, 0, 0, 0, 1], 160], [[0, 0, 0, 0, 1], 160], [[0, 0, 0, 0, 1], 160], [[0, 0, 0, 0, 1], 160], [[0, 0, 0, 0, 1], 160], [[0, 0, 0, 0, 1], 160], [[0, 0, 0, 0, 1], 160], [[0, 0, 0, 0, 1], 160], [[0, 0, 0, 0, 1], 160], [[0, 0, 0, 0, 1], 160], [[0, 0, 0, 0, 1], 160], [[0, 0, 0, 0, 1], 160], [[0, 0, 0, 0, 1], 160], [[0, 0, 0, 0, 1], 160], [[0, 0, 0, 0, 1], 160], [[0, 0, 0, 0, 1], 160], [[0, 0, 0, 0, 1], 160], [[0, 0, 0, 0, 1], 160], [[0, 0, 0, 0, 1], 160], [[0, 0, 0, 0, 1], 160], [[0, 0, 0, 0, 1], 160], [[0, 0, 0, 0, 1], 160], [[0, 0, 0, 0, 1], 160], [[0, 0, 0, 0, 1], 160], [[0, 0, 0, 0, 1], 160], [[0, 0, 0, 0, 1], 160], [[0, 0, 0, 0, 1], 160], [[0, 0, 0, 0, 1], 160], [[0, 0, 0, 0, 1], 160], [[0, 0, 0, 0, 1], 160], [[0, 0, 0, 0, 1], 160], [[0, 0, 0, 0, 1], 160], [[0, 0, 0, 0, 1], 160], [[0, 0, 0, 0, 1], 160], [[0, 0, 0, 0, 1], 160], [[0, 0, 0, 0, 1], 160], [[0, 0, 0, 0, 1], 160], [[0, 0, 0, 0, 1], 160], [[0, 0, 0, 0, 1], 160], [[0, 0, 0, 0, 1], 160], [[0, 0, 0, 0, 1], 160], [[0, 0, 0, 0, 1], 160], [[0, 0, 0, 0, 1], 160], [[0, 0, 0, 0, 1], 160], [[0, 0, 0, 0, 1], 160], [[0, 0, 0, 0, 1], 160], [[0, 0, 0, 0, 1], 160], [[0, 0, 0, 0, 1], 160], [[0, 0, 0, 0, 1], 160], [[0, 0, 0, 0, 1], 160], [[0, 0, 0, 0, 1], 160], [[0, 0, 0, 0, 1], 160], [[0, 0, 0, 0, 1], 160], [[0, 0, 0, 0, 1], 160], [[0, 0, 0, 0, 1], 160], [[0, 0, 0, 0, 1], 160], [[0, 0, 0, 0, 1], 160], [[0, 0, 0, 0, 1], 160], [[0, 0, 0, 0, 1], 160], [[0, 0, 0, 0, 1], 160], [[0, 0, 0, 0, 1], 160], [[0, 0, 0, 0, 1], 160], [[0, 0, 0, 0, 1], 160], [[0, 0, 0, 0, 1], 160], [[0, 0, 0, 0, 1], 160], [[0, 0, 0, 0, 1], 160], [[0, 0, 0, 0, 1], 160], [[0, 0, 0, 0, 1], 160], [[0, 0, 0, 0, 1], 160], [[0, 0, 0, 0, 1], 160], [[0, 0, 0, 0, 1], 160], [[0, 0, 0, 0, 1], 160], [[0, 0, 0, 0, 1], 160], [[0, 0, 0, 0, 1], 160], [[0, 0, 0, 0, 1], 160], [[0, 0, 0, 0, 1], 160], [[0, 0, 0, 0, 1], 160], [[0, 0, 0, 0, 1], 160], [[0, 0, 0, 0, 1], 160], [[0, 0, 0, 0, 1], 160], [[0, 0, 0, 0, 1], 160], [[0, 0, 0, 0, 1], 160], [[0, 0, 0, 0, 1], 160], [[0, 0, 0, 0, 1], 160], [[0, 0, 0, 0, 1], 160], [[0, 0, 0, 0, 1], 160], [[0, 0, 0, 0, 1], 160], [[0, 0, 0, 0, 1], 160], [[0, 0, 0, 0, 1], 160], [[0, 0, 0, 0, 1], 160], [[0, 0, 0, 0, 1], 160], [[0, 0, 0, 0, 1], 160], [[0, 0, 0, 0, 1], 160], [[0, 0, 0, 0, 1], 160], [[0, 0, 0, 0, 1], 160], [[0, 0, 0, 0, 1], 160], [[0, 0, 0, 0, 1], 160], [[0, 0, 0, 0, 1], 160], [[0, 0, 0, 0, 1], 160], [[0, 0, 0, 0, 1], 160], [[0, 0, 0, 0, 1], 160], [[0, 0, 0, 0, 1], 160], [[0, 0, 0, 0, 1], 160], [[0, 0, 0, 0, 1], 160], [[0, 0, 0, 0, 1], 160], [[0, 0, 0, 0, 1], 160], [[0, 0, 0, 0, 1], 160], [[0, 0, 0, 0, 1], 160], [[0, 0, 0, 0, 1], 160], [[0, 0, 0, 0, 1], 160], [[0, 0, 0, 0, 1], 160], [[0, 0, 0, 0, 1], 160], [[0, 0, 0, 0, 1], 160], [[0, 0, 0, 0, 1], 160], [[0, 0, 0, 0, 1], 160], [[0, 0, 0, 0, 1], 160], [[0, 0, 0, 0, 1], 160], [[0, 0, 0, 0, 1], 160], [[0, 0, 0, 0, 1], 160], [[0, 0, 0, 0, 1], 160], [[0, 0, 0, 0, 1], 160], [[0, 0, 0, 0, 1], 160], [[0, 0, 0, 0, 1], 160], [[0, 0, 0, 0, 1], 160], [[0, 0, 0, 0, 1], 160], [[0, 0, 0, 0, 1], 160], [[0, 0, 0, 0, 1], 160], [[0, 0, 0, 0, 1], 160], [[0, 0, 0, 0, 1], 160], [[0, 0, 0, 0, 1], 160], [[0, 0, 0, 0, 1], 160], [[0, 0, 0, 0, 1], 160], [[0, 0, 0, 0, 1], 160], [[0, 0, 0, 0, 1], 160], [[0, 0, 0, 0, 1], 160], [[0, 0, 0, 0, 1], 160], [[0, 0, 0, 0, 1], 160], [[0, 0, 0, 0, 1], 160], [[0, 0, 0, 0, 1], 160], [[0, 0, 0, 0, 1], 160], [[0, 0, 0, 0, 1], 160], [[0, 0, 0, 0, 1], 160], [[0, 0, 0, 0, 1], 160], [[0, 0, 0, 0, 1], 160], [[0, 0, 0, 0, 1], 160], [[0, 0, 0, 0, 1], 160], [[0, 0, 0, 0, 1], 160], [[0, 0, 0, 0, 1], 160], [[0, 0, 0, 0, 1], 160], [[0, 0, 0, 0, 1], 160], [[0, 0, 0, 0, 1], 160], [[0, 0, 0, 0, 1], 160], [[0, 0, 0, 0, 1], 160], [[0, 0, 0, 0, 1], 160], [[0, 0, 0, 0, 1], 160], [[0, 0, 0, 0, 1], 160], [[0, 0, 0, 0, 1], 160], [[0, 0, 0, 0, 1], 160], [[0, 0, 0, 0, 1], 160], [[0, 0, 0, 0, 1], 160], [[0, 0, 0, 0, 1], 160], [[0, 0, 0, 0, 1], 160], [[0, 0, 0, 0, 1], 160], [[0, 0, 0, 0, 1], 160], [[0, 0, 0, 0, 1], 160], [[0, 0, 0, 0, 1], 160], [[0, 0, 0, 0, 1], 160], [[0, 0, 0, 0, 1], 160], [[0, 0, 0, 0, 1], 160], [[0, 0, 0, 0, 1], 160], [[0, 0, 0, 0, 1], 160], [[0, 0, 0, 0, 1], 160], [[0, 0, 0, 0, 1], 160], [[0, 0, 0, 0, 1], 160], [[0, 0, 0, 0, 1], 160], [[0, 0, 0, 0, 1], 160], [[0, 0, 0, 0, 1], 160], [[0, 0, 0, 0, 1], 160], [[0, 0, 0, 0, 1], 160], [[0, 0, 0, 0, 1], 160], [[0, 0, 0, 0, 1], 160], [[0, 0, 0, 0, 1], 160], [[0, 0, 0, 0, 1], 160], [[0, 0, 0, 0, 1], 160], [[0, 0, 0, 0, 1], 160], [[0, 0, 0, 0, 1], 160], [[0, 0, 0, 0, 1], 160], [[0, 0, 0, 0, 1], 160], [[0, 0, 0, 0, 1], 160], [[0, 0, 0, 0, 1], 160], [[0, 0, 0, 0, 1], 160], [[0, 0, 0, 0, 1], 160], [[0, 0, 0, 0, 1], 160], [[0, 0, 0, 0, 1], 160], [[0, 0, 0, 0, 1], 160], [[0, 0, 0, 0, 1], 160], [[0, 0, 0, 0, 1], 160], [[0, 0, 0, 0, 1], 160], [[0, 0, 0, 0, 1], 160], [[0, 0, 0, 0, 1], 160], [[0, 0, 0, 0, 1], 160], [[0, 0, 0, 0, 1], 160], [[0, 0, 0, 0, 1], 160], [[0, 0, 0, 0, 1], 160], [[0, 0, 0, 0, 1], 160], [[0, 0, 0, 0, 1], 160], [[0, 0, 0, 0, 1], 160], [[0, 0, 0, 0, 1], 160], [[0, 0, 0, 0, 1], 160], [[0, 0, 0, 0, 1], 160], [[0, 0, 0, 0, 1], 160], [[0, 0, 0, 0, 1], 160], [[0, 0, 0, 0, 1], 160], [[0, 0, 0, 0, 1], 160], [[0, 0, 0, 0, 1], 160], [[0, 0, 0, 0, 1], 160], [[0, 0, 0, 0, 1], 160], [[0, 0, 0, 0, 1], 160], [[0, 0, 0, 0, 1], 160], [[0, 0, 0, 0, 1], 160], [[0, 0, 0, 0, 1], 160], [[0, 0, 0, 0, 1], 160], [[0, 0, 0, 0, 1], 160], [[0, 0, 0, 0, 1], 160], [[0, 0, 0, 0, 1], 160], [[0, 0, 0, 0, 1], 160], [[0, 0, 0, 0, 1], 160], [[0, 0, 0, 0, 1], 160], [[0, 0, 0, 0, 1], 160], [[0, 0, 0, 0, 1], 160], [[0, 0, 0, 0, 1], 160], [[0, 0, 0, 0, 1], 160], [[0, 0, 0, 0, 1], 160], [[0, 0, 0, 0, 1], 160], [[0, 0, 0, 0, 1], 160], [[0, 0, 0, 0, 1], 160], [[0, 0, 0, 0, 1], 160], [[0, 0, 0, 0, 1], 160], [[0, 0, 0, 0, 1], 160], [[0, 0, 0, 0, 1], 160], [[0, 0, 0, 0, 1], 160], [[0, 0, 0, 0, 1], 160], [[0, 0, 0, 0, 1], 160], [[0, 0, 0, 0, 1], 160], [[0, 0, 0, 0, 1], 160], [[0, 0, 0, 0, 1], 160], [[0, 0, 0, 0, 1], 160], [[0, 0, 0, 0, 1], 160], [[0, 0, 0, 0, 1], 160], [[0, 0, 0, 0, 1], 160], [[0, 0, 0, 0, 1], 160], [[0, 0, 0, 0, 1], 160], [[0, 0, 0, 0, 1], 160], [[0, 0, 0, 0, 1], 160], [[0, 0, 0, 0, 1], 160], [[0, 0, 0, 0, 1], 160], [[0, 0, 0, 0, 1], 160], [[0, 0, 0, 0, 1], 160], [[0, 0, 0, 0, 1], 160], [[0, 0, 0, 0, 1], 160], [[0, 0, 0, 0, 1], 160], [[0, 0, 0, 0, 1], 160], [[0, 0, 0, 0, 1], 160], [[0, 0, 0, 0, 1], 160], [[0, 0, 0, 0, 1], 160], [[0, 0, 0, 0, 1], 160], [[0, 0, 0, 0, 1], 160], [[0, 0, 0, 0, 1], 160], [[0, 0, 0, 0, 1], 160], [[0, 0, 0, 0, 1], 160], [[0, 0, 0, 0, 1], 160], [[0, 0, 0, 0, 1], 160], [[0, 0, 0, 0, 1], 160], [[0, 0, 0, 0, 1], 160], [[0, 0, 0, 0, 1], 160], [[0, 0, 0, 0, 1], 160], [[0, 0, 0, 0, 1], 160], [[0, 0, 0, 0, 1], 160], [[0, 0, 0, 0, 1], 160], [[0, 0, 0, 0, 1], 160], [[0, 0, 0, 0, 1], 160], [[0, 0, 0, 0, 1], 160], [[0, 0, 0, 0, 1], 160], [[0, 0, 0, 0, 1], 160], [[0, 0, 0, 0, 1], 160], [[0, 0, 0, 0, 1], 160], [[0, 0, 0, 0, 1], 160], [[0, 0, 0, 0, 1], 160], [[0, 0, 0, 0, 1], 160], [[0, 0, 0, 0, 1], 160], [[0, 0, 0, 0, 1], 160], [[0, 0, 0, 0, 1], 160], [[0, 0, 0, 0, 1], 160], [[0, 0, 0, 0, 1], 160], [[0, 0, 0, 0, 1], 160], [[0, 0, 0, 0, 1], 160], [[0, 0, 0, 0, 1], 160], [[0, 0, 0, 0, 1], 160], [[0, 0, 0, 0, 1], 160], [[0, 0, 0, 0, 1], 160], [[0, 0, 0, 0, 1], 160], [[0, 0, 0, 0, 1], 160], [[0, 0, 0, 0, 1], 160], [[0, 0, 0, 0, 1], 160], [[0, 0, 0, 0, 1], 160], [[0, 0, 0, 0, 1], 160], [[0, 0, 0, 0, 1], 160], [[0, 0, 0, 0, 1], 160], [[0, 0, 0, 0, 1], 160], [[0, 0, 0, 0, 1], 160], [[0, 0, 0, 0, 1], 160], [[0, 0, 0, 0, 1], 160], [[0, 0, 0, 0, 1], 160], [[0, 0, 0, 0, 1], 160], [[0, 0, 0, 0, 1], 160], [[0, 0, 0, 0, 1], 160], [[0, 0, 0, 0, 1], 160], [[0, 0, 0, 0, 1], 160], [[0, 0, 0, 0, 1], 160], [[0, 0, 0, 0, 1], 160], [[0, 0, 0, 0, 1], 160], [[0, 0, 0, 0, 1], 160], [[0, 0, 0, 0, 1], 160], [[0, 0, 0, 0, 1], 160], [[0, 0, 0, 0, 1], 160], [[0, 0, 0, 0, 1], 160], [[0, 0, 0, 0, 1], 160], [[0, 0, 0, 0, 1], 160], [[0, 0, 0, 0, 1], 160], [[0, 0, 0, 0, 1], 160], [[0, 0, 0, 0, 1], 160], [[0, 0, 0, 0, 1], 160], [[0, 0, 0, 0, 1], 160], [[0, 0, 0, 0, 1], 160], [[0, 0, 0, 0, 1], 160], [[0, 0, 0, 0, 1], 160], [[0, 0, 0, 0, 1], 160]]\n"
     ]
    }
   ],
   "source": [
    "print(algorithme_quantique(100, len(weights_1), weights_1, values_1, max_weight_1, 1000))"
   ]
  },
  {
   "cell_type": "code",
   "execution_count": 110,
   "id": "83b77ead162e78d0",
   "metadata": {
    "ExecuteTime": {
     "end_time": "2023-12-23T13:08:47.235682Z",
     "start_time": "2023-12-23T13:08:36.005070Z"
    }
   },
   "outputs": [
    {
     "name": "stdout",
     "output_type": "stream",
     "text": [
      "[[0, 1, 1, 0, 0], 220]\n"
     ]
    }
   ],
   "source": [
    "print(get_best(algorithme_quantique(100, len(weights_1), weights_1, values_1, max_weight_1, 1000)))"
   ]
  },
  {
   "cell_type": "code",
   "execution_count": 109,
   "id": "dd9177f0bd5b1912",
   "metadata": {
    "ExecuteTime": {
     "end_time": "2023-12-23T13:08:14.417407Z",
     "start_time": "2023-12-23T13:08:13.414335Z"
    }
   },
   "outputs": [
    {
     "name": "stdout",
     "output_type": "stream",
     "text": [
      "(array([0, 1, 1, 0, 0]), 220.0)\n"
     ]
    }
   ],
   "source": [
    "population_gene = np.random.randint(2, size=(100, weights_1.shape[0]))\n",
    "\n",
    "print(algo_genetique(population_gene, weights_1, values_1, max_weight_1, 1000))"
   ]
  },
  {
   "cell_type": "markdown",
   "source": [
    "# Optimisation"
   ],
   "metadata": {
    "collapsed": false
   },
   "id": "f8b261c88560396e"
  },
  {
   "cell_type": "code",
   "execution_count": 124,
   "outputs": [],
   "source": [
    "import numpy as np\n",
    "\n",
    "\n",
    "def initialiser_q(n, m):\n",
    "    un_ele = np.full(m, 1 / (2 ** 0.5))\n",
    "    return np.array([[un_ele, un_ele] for _ in range(n)])\n",
    "\n",
    "\n",
    "def initialiser_p(n, m, Q):\n",
    "    fct_r = np.random.rand(n, m)\n",
    "    return (fct_r >= (Q[:, 0] ** 2)).astype(int)\n",
    "\n",
    "\n",
    "def evaluer_fitness(P, arg_weights, arg_values, arg_max_weight):\n",
    "    S1 = np.dot(P, arg_values)\n",
    "    S2 = np.dot(P, arg_weights)\n",
    "    return np.where(S2 > arg_max_weight, 0, S1)\n",
    "\n",
    "\n",
    "def recuperer_meilleur(P, arg_fitness):\n",
    "    idx_max = np.argmax(arg_fitness)\n",
    "    return P[idx_max], arg_fitness[idx_max]\n",
    "\n",
    "\n",
    "def def_gamma(fitness_indi, fitness_max, bit_indi, bit_max):\n",
    "    conditions = [(bit_indi == 0) & (bit_max == 0),\n",
    "                  (bit_indi == 0) & (bit_max == 1) & (fitness_indi > fitness_max),\n",
    "                  (bit_indi == 1) & (bit_max == 0) & (fitness_indi > fitness_max),\n",
    "                  (bit_indi == 1) & (bit_max == 1) & (fitness_indi > fitness_max)]\n",
    "    choices = [0, 0.05 * np.pi, 0.025 * np.pi, 0.025 * np.pi]\n",
    "    return np.select(conditions, choices, default=0.01 * np.pi)\n",
    "\n",
    "\n",
    "def calcule_alpha_beta(alpha, beta, gamma):\n",
    "    alpha_prime = alpha * np.cos(gamma) - beta * np.sin(gamma)\n",
    "    beta_prime = alpha * np.sin(gamma) + beta * np.cos(gamma)\n",
    "    return alpha_prime, beta_prime\n",
    "\n",
    "\n",
    "def update(P, Q, B, fct_weights, fct_values, fct_max_weight):\n",
    "    best_sol, _ = get_best(B)\n",
    "    fitness = evaluer_fitness(P, fct_weights, fct_values, fct_max_weight)\n",
    "    for i in range(len(Q)):\n",
    "        for j in range(len(Q[i][0])):\n",
    "            alpha, beta = Q[i, 0, j], Q[i, 1, j]\n",
    "            gamma_fct = def_gamma(fitness[i], get_best(B)[1], P[i, j], best_sol[j])\n",
    "            alpha_prime, beta_prime = calcule_alpha_beta(alpha, beta, gamma_fct)\n",
    "            Q[i, 0, j], Q[i, 1, j] = alpha_prime, beta_prime\n",
    "    return Q\n",
    "\n",
    "\n",
    "def get_best(B):\n",
    "    return max(B, key=lambda x: x[1])\n",
    "\n",
    "\n",
    "def creer_p(Q):\n",
    "    r = np.random.rand(Q.shape[0], Q.shape[2])\n",
    "    return (r < (Q[:, 0, :] ** 2)).astype(int)\n",
    "\n",
    "\n",
    "def algorithme_quantique(n, m, arg_weights, arg_values, arg_max_weight, nb_iterations, seuil_amelioration=0.01,\n",
    "                         patience=10):\n",
    "    Q = initialiser_q(n, m)\n",
    "    B = []\n",
    "    historique_fitness = []  # Liste pour stocker l'historique des fitness\n",
    "    compteur_sans_amelioration = 0\n",
    "\n",
    "    for _ in range(nb_iterations):\n",
    "        P = creer_p(Q)\n",
    "        fct_fitness = evaluer_fitness(P, arg_weights, arg_values, arg_max_weight)\n",
    "        P_best, fct_fitness_best = recuperer_meilleur(P, fct_fitness)\n",
    "\n",
    "        # Mise à jour de l'historique et vérification du critère d'arrêt\n",
    "        if historique_fitness:\n",
    "            if fct_fitness_best - historique_fitness[-1] < seuil_amelioration:\n",
    "                compteur_sans_amelioration += 1\n",
    "            else:\n",
    "                compteur_sans_amelioration = 0\n",
    "        historique_fitness.append(fct_fitness_best)\n",
    "\n",
    "        if compteur_sans_amelioration >= patience:\n",
    "            print(f\"Arrêt après {_} itérations, car il n'y a pas eu d'amélioration significative.\")\n",
    "            break\n",
    "\n",
    "        B.append([P_best, fct_fitness_best])\n",
    "        Q = update(P, Q, B, arg_weights, arg_values, arg_max_weight)\n",
    "\n",
    "    return B"
   ],
   "metadata": {
    "collapsed": false,
    "ExecuteTime": {
     "end_time": "2023-12-23T13:24:59.311211Z",
     "start_time": "2023-12-23T13:24:59.300447Z"
    }
   },
   "id": "7c1d675ae5684385"
  },
  {
   "cell_type": "code",
   "execution_count": 130,
   "outputs": [
    {
     "name": "stdout",
     "output_type": "stream",
     "text": [
      "Arrêt après 24 itérations, car il n'y a pas eu d'amélioration significative.\n",
      "[[array([0, 1, 1, 0, 0]), 220], [array([0, 1, 1, 0, 0]), 220], [array([0, 1, 1, 0, 0]), 220], [array([1, 0, 0, 1, 0]), 200], [array([0, 1, 1, 0, 0]), 220], [array([0, 1, 1, 0, 0]), 220], [array([0, 1, 1, 0, 0]), 220], [array([0, 1, 1, 0, 0]), 220], [array([0, 1, 1, 0, 0]), 220], [array([1, 0, 0, 1, 0]), 200], [array([0, 1, 1, 0, 0]), 220], [array([1, 0, 0, 1, 0]), 200], [array([1, 0, 0, 1, 0]), 200], [array([1, 0, 0, 1, 0]), 200], [array([0, 1, 1, 0, 0]), 220], [array([1, 0, 0, 1, 0]), 200], [array([1, 0, 0, 1, 0]), 200], [array([1, 0, 0, 1, 0]), 200], [array([1, 0, 0, 1, 0]), 200], [array([1, 0, 0, 1, 0]), 200], [array([1, 0, 0, 1, 0]), 200], [array([1, 0, 0, 1, 0]), 200], [array([1, 0, 0, 1, 0]), 200], [array([1, 0, 0, 1, 0]), 200]]\n"
     ]
    }
   ],
   "source": [
    "print(algorithme_quantique(100, len(weights_1), weights_1, values_1, max_weight_1, 1000))"
   ],
   "metadata": {
    "collapsed": false,
    "ExecuteTime": {
     "end_time": "2023-12-23T13:25:46.186188Z",
     "start_time": "2023-12-23T13:25:45.965735Z"
    }
   },
   "id": "1b7f23149e6015fb"
  },
  {
   "cell_type": "code",
   "execution_count": 131,
   "outputs": [
    {
     "name": "stdout",
     "output_type": "stream",
     "text": [
      "Arrêt après 23 itérations, car il n'y a pas eu d'amélioration significative.\n",
      "[array([0, 1, 1, 0, 0]), 220]\n"
     ]
    }
   ],
   "source": [
    "print(get_best(algorithme_quantique(100, len(weights_1), weights_1, values_1, max_weight_1, 1000)))"
   ],
   "metadata": {
    "collapsed": false,
    "ExecuteTime": {
     "end_time": "2023-12-23T13:25:49.760430Z",
     "start_time": "2023-12-23T13:25:49.556425Z"
    }
   },
   "id": "ddc5f9c31c9c7b76"
  },
  {
   "cell_type": "code",
   "execution_count": 139,
   "outputs": [
    {
     "name": "stdout",
     "output_type": "stream",
     "text": [
      "Arrêt après 10 itérations, car il n'y a pas eu d'amélioration significative.\n",
      "(array([0, 1, 1, 0, 0]), 220.0, [220.0, 220.0, 220.0, 220.0, 220.0, 220.0, 220.0, 220.0, 220.0, 220.0, 220.0])\n"
     ]
    }
   ],
   "source": [
    "population_gene = np.random.randint(2, size=(100, weights_1.shape[0]))\n",
    "\n",
    "print(algo_genetique(population_gene, weights_1, values_1, max_weight_1, 1000))"
   ],
   "metadata": {
    "collapsed": false,
    "ExecuteTime": {
     "end_time": "2023-12-23T13:28:40.964037Z",
     "start_time": "2023-12-23T13:28:40.952004Z"
    }
   },
   "id": "2dadfa45cbffa339"
  }
 ],
 "metadata": {
  "kernelspec": {
   "display_name": "Python 3 (ipykernel)",
   "language": "python",
   "name": "python3"
  },
  "language_info": {
   "codemirror_mode": {
    "name": "ipython",
    "version": 3
   },
   "file_extension": ".py",
   "mimetype": "text/x-python",
   "name": "python",
   "nbconvert_exporter": "python",
   "pygments_lexer": "ipython3",
   "version": "3.8.18"
  }
 },
 "nbformat": 4,
 "nbformat_minor": 5
}
